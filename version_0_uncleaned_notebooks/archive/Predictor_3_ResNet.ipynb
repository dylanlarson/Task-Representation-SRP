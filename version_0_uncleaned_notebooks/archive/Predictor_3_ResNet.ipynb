{
 "cells": [
  {
   "cell_type": "code",
   "execution_count": 1,
   "metadata": {},
   "outputs": [
    {
     "name": "stdout",
     "output_type": "stream",
     "text": [
      "cuda:0\n"
     ]
    }
   ],
   "source": [
    "# If you run on google colab uncomment bellow comment\n",
    "# !pip install torchmetrics pytorch-lightning torchvision -qq\n",
    "# !pip install imutils\n",
    "\n",
    "import copy\n",
    "import os\n",
    "import random\n",
    "import numpy as np\n",
    "import pandas as pd\n",
    "import matplotlib.pyplot as plt\n",
    "import math\n",
    "from math import *\n",
    "\n",
    "import torch\n",
    "import torchvision\n",
    "import torch.nn as nn\n",
    "from torchvision import transforms\n",
    "from torch.utils.data import DataLoader, random_split, Dataset\n",
    "from torchmetrics import Accuracy\n",
    "\n",
    "import lightning as pl # Pytorch lightning is a wrapper for pytorch that makes it easier to train models\n",
    "from lightning.pytorch.loggers import CSVLogger\n",
    "from lightning.pytorch.callbacks import Callback, ModelCheckpoint, EarlyStopping\n",
    "from lightning.pytorch.callbacks.progress import RichProgressBar\n",
    "from lightning.pytorch.callbacks.progress.rich_progress import RichProgressBarTheme\n",
    "from torchvision.models import vit_b_16, ViT_B_16_Weights\n",
    "\n",
    "\n",
    "import os\n",
    "os.environ['KMP_DUPLICATE_LIB_OK']='True'\n",
    "\n",
    "BATCH_SIZE = 256 if torch.cuda.is_available() else 48\n",
    "# Define GPU number\n",
    "GPU_indx = 0\n",
    "device = torch.device(GPU_indx if torch.cuda.is_available() else 'cpu')\n",
    "print(device)\n",
    "num_workers = 16 # Set to your device\n",
    "\n",
    "import json\n",
    "\n",
    "torch.set_float32_matmul_precision('medium')"
   ]
  },
  {
   "cell_type": "code",
   "execution_count": 2,
   "metadata": {},
   "outputs": [],
   "source": [
    "data_transforms_none = transforms.Compose([\n",
    "    # Convert the image to a PyTorch tensor\n",
    "    transforms.ToTensor(),\n",
    "    transforms.Resize([200,200])\n",
    "])\n",
    "train_ds = torchvision.datasets.ImageFolder(\"./data/imgs/train/\",transform=data_transforms_none)\n",
    "\n",
    "def norm_stats(ds):\n",
    "    L=len(ds)\n",
    "    mean_total = np.zeros(3)\n",
    "    std_total = np.zeros(3)\n",
    "    for i in range(L):\n",
    "        img = (ds.__getitem__(i))[0].numpy()\n",
    "        img = img.reshape(img.shape[0],img.shape[1]*img.shape[2])\n",
    "\n",
    "        mean_total += np.mean(img,axis=1)\n",
    "        std_total += np.std(img,axis=1)\n",
    "\n",
    "    means = (mean_total/L).tolist()\n",
    "    stds = (std_total/L).tolist()\n",
    "\n",
    "    return means, stds    "
   ]
  },
  {
   "cell_type": "code",
   "execution_count": 2,
   "metadata": {},
   "outputs": [
    {
     "name": "stdout",
     "output_type": "stream",
     "text": [
      "[0.6599775287756063, 0.5283674328647204, 0.26714183714726647]\n",
      "[0.1317305792557695, 0.16583433406217096, 0.3081538652392283]\n"
     ]
    }
   ],
   "source": [
    "# means, stds = norm_stats(train_ds)\n",
    "\n",
    "#Output from above line\n",
    "means = [0.6599775287756063, 0.5283674328647204, 0.26714183714726647]\n",
    "stds = [0.1317305792557695, 0.16583433406217096, 0.3081538652392283]\n",
    "\n",
    "print(means)\n",
    "print(stds)"
   ]
  },
  {
   "cell_type": "code",
   "execution_count": 3,
   "metadata": {},
   "outputs": [],
   "source": [
    "data_transforms = transforms.Compose([\n",
    "    # Convert the image to a PyTorch tensor\n",
    "    transforms.ToTensor(),\n",
    "    transforms.Resize([224,224]),\n",
    "    transforms.Normalize(means, stds)\n",
    "])\n",
    "\n",
    "def train_transform(x,y):\n",
    "    rand1 = np.random.rand()\n",
    "    if rand1>0.5:\n",
    "        x = transforms.functional.hflip(x)\n",
    "\n",
    "        if y == 1:\n",
    "            y=2\n",
    "        elif y==2:\n",
    "            y=1\n",
    "        \n",
    "    return x,y"
   ]
  },
  {
   "cell_type": "code",
   "execution_count": 4,
   "metadata": {},
   "outputs": [],
   "source": [
    "# class OCData(torchvision.datasets.ImageFolder):\n",
    "#     # Dataset Class\n",
    "#     def __init__(self, path, transform = None, target_transform=None):\n",
    "#         super(OCData, self).__init__(root=path)\n",
    "#         self.target_transform = target_transform\n",
    "\n",
    "#     def __getitem__(self, index):\n",
    "#         path, target = self.samples[index]\n",
    "#         sample = self.loader(path)\n",
    "\n",
    "#         if self.transform is not None:\n",
    "#             sample = self.transform(sample)\n",
    "#         if self.target_transform is not None:\n",
    "#             sample, target = self.target_transform(sample,target)\n",
    "\n",
    "\n",
    "#         return sample, target\n",
    "    \n",
    "    \n",
    "# train_set = OCData(\"./data/imgs/train/\",transform=data_transforms,target_transform = train_transform)\n",
    "# test_set = OCData(\"./data/imgs/test/\",transform=data_transforms)\n",
    "# val_set = OCData(\"./data/imgs/val/\",transform=data_transforms)\n",
    "\n",
    "train_set = torchvision.datasets.ImageFolder(\"./data/imgs/train/\",transform=data_transforms)\n",
    "test_set = torchvision.datasets.ImageFolder(\"./data/imgs/test/\",transform=data_transforms)\n",
    "val_set = torchvision.datasets.ImageFolder(\"./data/imgs/val/\",transform=data_transforms)\n",
    "\n",
    "# Create Dataloaders again with features generated from pre-trained CNN model\n",
    "train_loader = DataLoader(train_set, batch_size=BATCH_SIZE, shuffle=True, num_workers=num_workers, persistent_workers=True)\n",
    "valid_loader = DataLoader(val_set, batch_size=BATCH_SIZE, shuffle=False, num_workers=num_workers, persistent_workers=True)\n",
    "test_loader = DataLoader(test_set, batch_size=BATCH_SIZE, shuffle=False, num_workers=num_workers)"
   ]
  },
  {
   "cell_type": "code",
   "execution_count": 5,
   "metadata": {},
   "outputs": [
    {
     "name": "stderr",
     "output_type": "stream",
     "text": [
      "c:\\Users\\shelb\\anaconda3\\envs\\pytorch\\Lib\\site-packages\\torchvision\\models\\_utils.py:223: UserWarning: Arguments other than a weight enum or `None` for 'weights' are deprecated since 0.13 and may be removed in the future. The current behavior is equivalent to passing `weights=ViT_B_16_Weights.IMAGENET1K_V1`. You can also use `weights=ViT_B_16_Weights.DEFAULT` to get the most up-to-date weights.\n",
      "  warnings.warn(msg)\n"
     ]
    },
    {
     "name": "stdout",
     "output_type": "stream",
     "text": [
      "VisionTransformer(\n",
      "  (conv_proj): Conv2d(3, 768, kernel_size=(16, 16), stride=(16, 16))\n",
      "  (encoder): Encoder(\n",
      "    (dropout): Dropout(p=0.0, inplace=False)\n",
      "    (layers): Sequential(\n",
      "      (encoder_layer_0): EncoderBlock(\n",
      "        (ln_1): LayerNorm((768,), eps=1e-06, elementwise_affine=True)\n",
      "        (self_attention): MultiheadAttention(\n",
      "          (out_proj): NonDynamicallyQuantizableLinear(in_features=768, out_features=768, bias=True)\n",
      "        )\n",
      "        (dropout): Dropout(p=0.0, inplace=False)\n",
      "        (ln_2): LayerNorm((768,), eps=1e-06, elementwise_affine=True)\n",
      "        (mlp): MLPBlock(\n",
      "          (0): Linear(in_features=768, out_features=3072, bias=True)\n",
      "          (1): GELU(approximate='none')\n",
      "          (2): Dropout(p=0.0, inplace=False)\n",
      "          (3): Linear(in_features=3072, out_features=768, bias=True)\n",
      "          (4): Dropout(p=0.0, inplace=False)\n",
      "        )\n",
      "      )\n",
      "      (encoder_layer_1): EncoderBlock(\n",
      "        (ln_1): LayerNorm((768,), eps=1e-06, elementwise_affine=True)\n",
      "        (self_attention): MultiheadAttention(\n",
      "          (out_proj): NonDynamicallyQuantizableLinear(in_features=768, out_features=768, bias=True)\n",
      "        )\n",
      "        (dropout): Dropout(p=0.0, inplace=False)\n",
      "        (ln_2): LayerNorm((768,), eps=1e-06, elementwise_affine=True)\n",
      "        (mlp): MLPBlock(\n",
      "          (0): Linear(in_features=768, out_features=3072, bias=True)\n",
      "          (1): GELU(approximate='none')\n",
      "          (2): Dropout(p=0.0, inplace=False)\n",
      "          (3): Linear(in_features=3072, out_features=768, bias=True)\n",
      "          (4): Dropout(p=0.0, inplace=False)\n",
      "        )\n",
      "      )\n",
      "      (encoder_layer_2): EncoderBlock(\n",
      "        (ln_1): LayerNorm((768,), eps=1e-06, elementwise_affine=True)\n",
      "        (self_attention): MultiheadAttention(\n",
      "          (out_proj): NonDynamicallyQuantizableLinear(in_features=768, out_features=768, bias=True)\n",
      "        )\n",
      "        (dropout): Dropout(p=0.0, inplace=False)\n",
      "        (ln_2): LayerNorm((768,), eps=1e-06, elementwise_affine=True)\n",
      "        (mlp): MLPBlock(\n",
      "          (0): Linear(in_features=768, out_features=3072, bias=True)\n",
      "          (1): GELU(approximate='none')\n",
      "          (2): Dropout(p=0.0, inplace=False)\n",
      "          (3): Linear(in_features=3072, out_features=768, bias=True)\n",
      "          (4): Dropout(p=0.0, inplace=False)\n",
      "        )\n",
      "      )\n",
      "      (encoder_layer_3): EncoderBlock(\n",
      "        (ln_1): LayerNorm((768,), eps=1e-06, elementwise_affine=True)\n",
      "        (self_attention): MultiheadAttention(\n",
      "          (out_proj): NonDynamicallyQuantizableLinear(in_features=768, out_features=768, bias=True)\n",
      "        )\n",
      "        (dropout): Dropout(p=0.0, inplace=False)\n",
      "        (ln_2): LayerNorm((768,), eps=1e-06, elementwise_affine=True)\n",
      "        (mlp): MLPBlock(\n",
      "          (0): Linear(in_features=768, out_features=3072, bias=True)\n",
      "          (1): GELU(approximate='none')\n",
      "          (2): Dropout(p=0.0, inplace=False)\n",
      "          (3): Linear(in_features=3072, out_features=768, bias=True)\n",
      "          (4): Dropout(p=0.0, inplace=False)\n",
      "        )\n",
      "      )\n",
      "      (encoder_layer_4): EncoderBlock(\n",
      "        (ln_1): LayerNorm((768,), eps=1e-06, elementwise_affine=True)\n",
      "        (self_attention): MultiheadAttention(\n",
      "          (out_proj): NonDynamicallyQuantizableLinear(in_features=768, out_features=768, bias=True)\n",
      "        )\n",
      "        (dropout): Dropout(p=0.0, inplace=False)\n",
      "        (ln_2): LayerNorm((768,), eps=1e-06, elementwise_affine=True)\n",
      "        (mlp): MLPBlock(\n",
      "          (0): Linear(in_features=768, out_features=3072, bias=True)\n",
      "          (1): GELU(approximate='none')\n",
      "          (2): Dropout(p=0.0, inplace=False)\n",
      "          (3): Linear(in_features=3072, out_features=768, bias=True)\n",
      "          (4): Dropout(p=0.0, inplace=False)\n",
      "        )\n",
      "      )\n",
      "      (encoder_layer_5): EncoderBlock(\n",
      "        (ln_1): LayerNorm((768,), eps=1e-06, elementwise_affine=True)\n",
      "        (self_attention): MultiheadAttention(\n",
      "          (out_proj): NonDynamicallyQuantizableLinear(in_features=768, out_features=768, bias=True)\n",
      "        )\n",
      "        (dropout): Dropout(p=0.0, inplace=False)\n",
      "        (ln_2): LayerNorm((768,), eps=1e-06, elementwise_affine=True)\n",
      "        (mlp): MLPBlock(\n",
      "          (0): Linear(in_features=768, out_features=3072, bias=True)\n",
      "          (1): GELU(approximate='none')\n",
      "          (2): Dropout(p=0.0, inplace=False)\n",
      "          (3): Linear(in_features=3072, out_features=768, bias=True)\n",
      "          (4): Dropout(p=0.0, inplace=False)\n",
      "        )\n",
      "      )\n",
      "      (encoder_layer_6): EncoderBlock(\n",
      "        (ln_1): LayerNorm((768,), eps=1e-06, elementwise_affine=True)\n",
      "        (self_attention): MultiheadAttention(\n",
      "          (out_proj): NonDynamicallyQuantizableLinear(in_features=768, out_features=768, bias=True)\n",
      "        )\n",
      "        (dropout): Dropout(p=0.0, inplace=False)\n",
      "        (ln_2): LayerNorm((768,), eps=1e-06, elementwise_affine=True)\n",
      "        (mlp): MLPBlock(\n",
      "          (0): Linear(in_features=768, out_features=3072, bias=True)\n",
      "          (1): GELU(approximate='none')\n",
      "          (2): Dropout(p=0.0, inplace=False)\n",
      "          (3): Linear(in_features=3072, out_features=768, bias=True)\n",
      "          (4): Dropout(p=0.0, inplace=False)\n",
      "        )\n",
      "      )\n",
      "      (encoder_layer_7): EncoderBlock(\n",
      "        (ln_1): LayerNorm((768,), eps=1e-06, elementwise_affine=True)\n",
      "        (self_attention): MultiheadAttention(\n",
      "          (out_proj): NonDynamicallyQuantizableLinear(in_features=768, out_features=768, bias=True)\n",
      "        )\n",
      "        (dropout): Dropout(p=0.0, inplace=False)\n",
      "        (ln_2): LayerNorm((768,), eps=1e-06, elementwise_affine=True)\n",
      "        (mlp): MLPBlock(\n",
      "          (0): Linear(in_features=768, out_features=3072, bias=True)\n",
      "          (1): GELU(approximate='none')\n",
      "          (2): Dropout(p=0.0, inplace=False)\n",
      "          (3): Linear(in_features=3072, out_features=768, bias=True)\n",
      "          (4): Dropout(p=0.0, inplace=False)\n",
      "        )\n",
      "      )\n",
      "      (encoder_layer_8): EncoderBlock(\n",
      "        (ln_1): LayerNorm((768,), eps=1e-06, elementwise_affine=True)\n",
      "        (self_attention): MultiheadAttention(\n",
      "          (out_proj): NonDynamicallyQuantizableLinear(in_features=768, out_features=768, bias=True)\n",
      "        )\n",
      "        (dropout): Dropout(p=0.0, inplace=False)\n",
      "        (ln_2): LayerNorm((768,), eps=1e-06, elementwise_affine=True)\n",
      "        (mlp): MLPBlock(\n",
      "          (0): Linear(in_features=768, out_features=3072, bias=True)\n",
      "          (1): GELU(approximate='none')\n",
      "          (2): Dropout(p=0.0, inplace=False)\n",
      "          (3): Linear(in_features=3072, out_features=768, bias=True)\n",
      "          (4): Dropout(p=0.0, inplace=False)\n",
      "        )\n",
      "      )\n",
      "      (encoder_layer_9): EncoderBlock(\n",
      "        (ln_1): LayerNorm((768,), eps=1e-06, elementwise_affine=True)\n",
      "        (self_attention): MultiheadAttention(\n",
      "          (out_proj): NonDynamicallyQuantizableLinear(in_features=768, out_features=768, bias=True)\n",
      "        )\n",
      "        (dropout): Dropout(p=0.0, inplace=False)\n",
      "        (ln_2): LayerNorm((768,), eps=1e-06, elementwise_affine=True)\n",
      "        (mlp): MLPBlock(\n",
      "          (0): Linear(in_features=768, out_features=3072, bias=True)\n",
      "          (1): GELU(approximate='none')\n",
      "          (2): Dropout(p=0.0, inplace=False)\n",
      "          (3): Linear(in_features=3072, out_features=768, bias=True)\n",
      "          (4): Dropout(p=0.0, inplace=False)\n",
      "        )\n",
      "      )\n",
      "      (encoder_layer_10): EncoderBlock(\n",
      "        (ln_1): LayerNorm((768,), eps=1e-06, elementwise_affine=True)\n",
      "        (self_attention): MultiheadAttention(\n",
      "          (out_proj): NonDynamicallyQuantizableLinear(in_features=768, out_features=768, bias=True)\n",
      "        )\n",
      "        (dropout): Dropout(p=0.0, inplace=False)\n",
      "        (ln_2): LayerNorm((768,), eps=1e-06, elementwise_affine=True)\n",
      "        (mlp): MLPBlock(\n",
      "          (0): Linear(in_features=768, out_features=3072, bias=True)\n",
      "          (1): GELU(approximate='none')\n",
      "          (2): Dropout(p=0.0, inplace=False)\n",
      "          (3): Linear(in_features=3072, out_features=768, bias=True)\n",
      "          (4): Dropout(p=0.0, inplace=False)\n",
      "        )\n",
      "      )\n",
      "      (encoder_layer_11): EncoderBlock(\n",
      "        (ln_1): LayerNorm((768,), eps=1e-06, elementwise_affine=True)\n",
      "        (self_attention): MultiheadAttention(\n",
      "          (out_proj): NonDynamicallyQuantizableLinear(in_features=768, out_features=768, bias=True)\n",
      "        )\n",
      "        (dropout): Dropout(p=0.0, inplace=False)\n",
      "        (ln_2): LayerNorm((768,), eps=1e-06, elementwise_affine=True)\n",
      "        (mlp): MLPBlock(\n",
      "          (0): Linear(in_features=768, out_features=3072, bias=True)\n",
      "          (1): GELU(approximate='none')\n",
      "          (2): Dropout(p=0.0, inplace=False)\n",
      "          (3): Linear(in_features=3072, out_features=768, bias=True)\n",
      "          (4): Dropout(p=0.0, inplace=False)\n",
      "        )\n",
      "      )\n",
      "    )\n",
      "    (ln): LayerNorm((768,), eps=1e-06, elementwise_affine=True)\n",
      "  )\n",
      "  (heads): Sequential(\n",
      "    (head): Linear(in_features=768, out_features=1000, bias=True)\n",
      "  )\n",
      ")\n"
     ]
    }
   ],
   "source": [
    "print(vit_b_16(weights=ViT_B_16_Weights))"
   ]
  },
  {
   "cell_type": "code",
   "execution_count": 6,
   "metadata": {},
   "outputs": [],
   "source": [
    "class ResNet_Model(pl.LightningModule):\n",
    "    def __init__(self, learning_rate=1e-3, num_classes=5):\n",
    "        super().__init__()\n",
    "        self.learning_rate = learning_rate \n",
    "        self.criterion = nn.CrossEntropyLoss()  ## Define your loss! What should it be?\n",
    "        \n",
    "        ## Load the pre-trained network as follows\n",
    "        ## vit_b_16 from models\n",
    "        ## Use the importedweights of:   ViT_B_16_Weights.IMAGENET1K_V1\n",
    "        ## See pytorch documentation on how to load models with a pre-trained weight\n",
    "        self.resnet = vit_b_16(weights=ViT_B_16_Weights)## Load the pre-trained network as follows\n",
    "        ## Freeze vit_b_16 weights (see PDF's hints)\n",
    "        ## You can set the param.requires_grad = False \n",
    "        ## That way those parameters will not get updated\n",
    "        self.resnet.requires_grad_(False)\n",
    "\n",
    "        ## Remake the vit_b_16 FC layer. You can use the in_features from the original model \n",
    "        self.resnet.heads= nn.Linear(768,num_classes)\n",
    "\n",
    "        ## Which error do we use? Remember, we are dealing with minimising coordinate errors in the landmarks\n",
    "        self.val_error = nn.CrossEntropyLoss()\n",
    "        self.train_error = nn.CrossEntropyLoss()\n",
    "        self.test_error = nn.CrossEntropyLoss()\n",
    "        # Define your accuracies        \n",
    "        self.train_accuracy = Accuracy(task=\"multiclass\",num_classes=num_classes)\n",
    "        self.val_accuracy = Accuracy(task=\"multiclass\",num_classes=num_classes)\n",
    "        self.test_accuracy = Accuracy(task=\"multiclass\",num_classes=num_classes)\n",
    "            \n",
    "    def forward(self, x):\n",
    "        #Pass input through the model\n",
    "        x_out = self.resnet(x)\n",
    "    \n",
    "        return x_out\n",
    "    \n",
    "    def training_step(self, batch, batch_idx):\n",
    "        x, y= batch\n",
    "        logits = self(x)\n",
    "        loss = self.criterion(logits, y)\n",
    "\n",
    "        # Compute accuracy\n",
    "        preds = logits.argmax(1)\n",
    "        self.train_accuracy.update(preds, y)\n",
    "        acc = self.train_accuracy.compute()\n",
    "\n",
    "        # Record accuracy and loss\n",
    "        # Log anything you think necessary\n",
    "        train_dict = {\"train_loss\": loss,\n",
    "                    \"train_acc\": acc,\n",
    "                    \"epoch\": self.current_epoch}\n",
    "        \n",
    "        self.log_dict(train_dict, prog_bar=True, on_step=False, on_epoch=True)\n",
    "\n",
    "        return loss\n",
    "\n",
    "    def validation_step(self, batch, batch_idx):\n",
    "        x, y= batch\n",
    "        logits = self(x)\n",
    "        loss = self.criterion(logits, y)\n",
    "\n",
    "        # Compute accuracy\n",
    "        preds = logits.argmax(1)\n",
    "        self.val_accuracy.update(preds, y)\n",
    "        acc = self.val_accuracy.compute()\n",
    "\n",
    "        # Record accuracy and loss\n",
    "        # Log anything you think necessary\n",
    "        val_dict = {\"val_loss\": loss,\n",
    "                    \"val_acc\": acc,\n",
    "                    \"epoch\": self.current_epoch}\n",
    "        \n",
    "        self.log_dict(val_dict, prog_bar=True, on_step=False, on_epoch=True)\n",
    "    \n",
    "        \n",
    "\n",
    "    def test_step(self, batch, batch_idx):\n",
    "        x, y= batch\n",
    "        logits = self(x)\n",
    "        loss = self.criterion(logits, y)\n",
    "\n",
    "        # Compute accuracy\n",
    "        preds = logits.argmax(1)\n",
    "        self.test_accuracy.update(preds, y)\n",
    "        acc = self.test_accuracy.compute()\n",
    "\n",
    "        # Record accuracy and loss\n",
    "        # Log anything you think necessary\n",
    "        test_dict = {\"test_loss\": loss,\n",
    "                    \"test_acc\": acc,\n",
    "                    \"epoch\": self.current_epoch}\n",
    "        \n",
    "        self.log_dict(test_dict, prog_bar=True, on_step=False, on_epoch=True)\n",
    "\n",
    "        return preds, logits, x, y\n",
    "    \n",
    "    def predict_step(self, batch, batch_idx):\n",
    "        x, y= batch\n",
    "        logits = self(x)\n",
    "        loss = self.criterion(logits, y)\n",
    "\n",
    "        # Compute accuracy\n",
    "        preds = logits.argmax(1)\n",
    "        print(preds)\n",
    "        self.test_accuracy.update(preds, y)\n",
    "\n",
    "        return preds, logits, x, y\n",
    "\n",
    "    def configure_optimizers(self):\n",
    "        optimizer = torch.optim.Adam(self.parameters(),self.learning_rate)\n",
    "        return optimizer\n",
    "\n",
    "    ####################\n",
    "    # DATA RELATED HOOKS\n",
    "    ####################\n",
    "\n",
    "    def train_dataloader(self):\n",
    "        return train_loader\n",
    "    \n",
    "    def val_dataloader(self):\n",
    "        return valid_loader\n",
    "\n",
    "    def test_dataloader(self):\n",
    "        return test_loader"
   ]
  },
  {
   "cell_type": "code",
   "execution_count": 7,
   "metadata": {},
   "outputs": [
    {
     "name": "stderr",
     "output_type": "stream",
     "text": [
      "GPU available: True (cuda), used: True\n",
      "TPU available: False, using: 0 TPU cores\n",
      "IPU available: False, using: 0 IPUs\n",
      "HPU available: False, using: 0 HPUs\n"
     ]
    }
   ],
   "source": [
    "# Initialize the CNN model\n",
    "max_epochs = 100 # Feel free to change this\n",
    "model_cnn = ResNet_Model()\n",
    "\n",
    "# Initialize checkpoint callback to save the best model using validation loss\n",
    "checkpoint_callback = ModelCheckpoint(\n",
    "        monitor=\"val_loss\",\n",
    "        dirpath=\"checkpoints_section/v3/\",\n",
    "        save_top_k=1,        \n",
    "        mode=\"min\",\n",
    "        every_n_epochs=1\n",
    "    )\n",
    "\n",
    "# Create customized progress bar theme (Optional)\n",
    "progress_bar_task = RichProgressBar(refresh_rate=1, leave=True,\n",
    "    theme=RichProgressBarTheme(\n",
    "        description=\"green_yellow\",\n",
    "        progress_bar=\"green1\",\n",
    "        progress_bar_finished=\"green1\",\n",
    "        progress_bar_pulse=\"#6206E0\",\n",
    "        batch_progress=\"green_yellow\",\n",
    "        time=\"grey82\",\n",
    "        processing_speed=\"grey82\",\n",
    "        metrics=\"grey82\"\n",
    "    )\n",
    ")\n",
    "\n",
    "# Call the Trainer and train the model\n",
    "early_stopping = EarlyStopping('val_loss', patience = 10, mode = 'min')\n",
    "\n",
    "trainer_task = pl.Trainer(\n",
    "    accelerator=\"auto\",#\"cpu\",\n",
    "    devices=1, #if torch.cuda.is_available() else None,  # limiting got iPython runs\n",
    "    max_epochs=max_epochs,\n",
    "    callbacks=[progress_bar_task, checkpoint_callback,early_stopping],\n",
    "    logger=CSVLogger(save_dir=\"logs_task/v3/\"),\n",
    "    precision=32\n",
    ")"
   ]
  },
  {
   "cell_type": "code",
   "execution_count": 8,
   "metadata": {},
   "outputs": [
    {
     "name": "stderr",
     "output_type": "stream",
     "text": [
      "LOCAL_RANK: 0 - CUDA_VISIBLE_DEVICES: [0]\n"
     ]
    },
    {
     "data": {
      "text/html": [
       "<pre style=\"white-space:pre;overflow-x:auto;line-height:normal;font-family:Menlo,'DejaVu Sans Mono',consolas,'Courier New',monospace\">┏━━━┳━━━━━━━━━━━━━━━━┳━━━━━━━━━━━━━━━━━━━━┳━━━━━━━━┓\n",
       "┃<span style=\"color: #800080; text-decoration-color: #800080; font-weight: bold\">   </span>┃<span style=\"color: #800080; text-decoration-color: #800080; font-weight: bold\"> Name           </span>┃<span style=\"color: #800080; text-decoration-color: #800080; font-weight: bold\"> Type               </span>┃<span style=\"color: #800080; text-decoration-color: #800080; font-weight: bold\"> Params </span>┃\n",
       "┡━━━╇━━━━━━━━━━━━━━━━╇━━━━━━━━━━━━━━━━━━━━╇━━━━━━━━┩\n",
       "│<span style=\"color: #7f7f7f; text-decoration-color: #7f7f7f\"> 0 </span>│ criterion      │ CrossEntropyLoss   │      0 │\n",
       "│<span style=\"color: #7f7f7f; text-decoration-color: #7f7f7f\"> 1 </span>│ resnet         │ VisionTransformer  │ 85.8 M │\n",
       "│<span style=\"color: #7f7f7f; text-decoration-color: #7f7f7f\"> 2 </span>│ val_error      │ CrossEntropyLoss   │      0 │\n",
       "│<span style=\"color: #7f7f7f; text-decoration-color: #7f7f7f\"> 3 </span>│ train_error    │ CrossEntropyLoss   │      0 │\n",
       "│<span style=\"color: #7f7f7f; text-decoration-color: #7f7f7f\"> 4 </span>│ test_error     │ CrossEntropyLoss   │      0 │\n",
       "│<span style=\"color: #7f7f7f; text-decoration-color: #7f7f7f\"> 5 </span>│ train_accuracy │ MulticlassAccuracy │      0 │\n",
       "│<span style=\"color: #7f7f7f; text-decoration-color: #7f7f7f\"> 6 </span>│ val_accuracy   │ MulticlassAccuracy │      0 │\n",
       "│<span style=\"color: #7f7f7f; text-decoration-color: #7f7f7f\"> 7 </span>│ test_accuracy  │ MulticlassAccuracy │      0 │\n",
       "└───┴────────────────┴────────────────────┴────────┘\n",
       "</pre>\n"
      ],
      "text/plain": [
       "┏━━━┳━━━━━━━━━━━━━━━━┳━━━━━━━━━━━━━━━━━━━━┳━━━━━━━━┓\n",
       "┃\u001b[1;35m \u001b[0m\u001b[1;35m \u001b[0m\u001b[1;35m \u001b[0m┃\u001b[1;35m \u001b[0m\u001b[1;35mName          \u001b[0m\u001b[1;35m \u001b[0m┃\u001b[1;35m \u001b[0m\u001b[1;35mType              \u001b[0m\u001b[1;35m \u001b[0m┃\u001b[1;35m \u001b[0m\u001b[1;35mParams\u001b[0m\u001b[1;35m \u001b[0m┃\n",
       "┡━━━╇━━━━━━━━━━━━━━━━╇━━━━━━━━━━━━━━━━━━━━╇━━━━━━━━┩\n",
       "│\u001b[2m \u001b[0m\u001b[2m0\u001b[0m\u001b[2m \u001b[0m│ criterion      │ CrossEntropyLoss   │      0 │\n",
       "│\u001b[2m \u001b[0m\u001b[2m1\u001b[0m\u001b[2m \u001b[0m│ resnet         │ VisionTransformer  │ 85.8 M │\n",
       "│\u001b[2m \u001b[0m\u001b[2m2\u001b[0m\u001b[2m \u001b[0m│ val_error      │ CrossEntropyLoss   │      0 │\n",
       "│\u001b[2m \u001b[0m\u001b[2m3\u001b[0m\u001b[2m \u001b[0m│ train_error    │ CrossEntropyLoss   │      0 │\n",
       "│\u001b[2m \u001b[0m\u001b[2m4\u001b[0m\u001b[2m \u001b[0m│ test_error     │ CrossEntropyLoss   │      0 │\n",
       "│\u001b[2m \u001b[0m\u001b[2m5\u001b[0m\u001b[2m \u001b[0m│ train_accuracy │ MulticlassAccuracy │      0 │\n",
       "│\u001b[2m \u001b[0m\u001b[2m6\u001b[0m\u001b[2m \u001b[0m│ val_accuracy   │ MulticlassAccuracy │      0 │\n",
       "│\u001b[2m \u001b[0m\u001b[2m7\u001b[0m\u001b[2m \u001b[0m│ test_accuracy  │ MulticlassAccuracy │      0 │\n",
       "└───┴────────────────┴────────────────────┴────────┘\n"
      ]
     },
     "metadata": {},
     "output_type": "display_data"
    },
    {
     "data": {
      "text/html": [
       "<pre style=\"white-space:pre;overflow-x:auto;line-height:normal;font-family:Menlo,'DejaVu Sans Mono',consolas,'Courier New',monospace\"><span style=\"font-weight: bold\">Trainable params</span>: 3.8 K                                                                                            \n",
       "<span style=\"font-weight: bold\">Non-trainable params</span>: 85.8 M                                                                                       \n",
       "<span style=\"font-weight: bold\">Total params</span>: 85.8 M                                                                                               \n",
       "<span style=\"font-weight: bold\">Total estimated model params size (MB)</span>: 343                                                                        \n",
       "</pre>\n"
      ],
      "text/plain": [
       "\u001b[1mTrainable params\u001b[0m: 3.8 K                                                                                            \n",
       "\u001b[1mNon-trainable params\u001b[0m: 85.8 M                                                                                       \n",
       "\u001b[1mTotal params\u001b[0m: 85.8 M                                                                                               \n",
       "\u001b[1mTotal estimated model params size (MB)\u001b[0m: 343                                                                        \n"
      ]
     },
     "metadata": {},
     "output_type": "display_data"
    },
    {
     "data": {
      "application/vnd.jupyter.widget-view+json": {
       "model_id": "9c526b05a1d8457d926d12aee6d17c59",
       "version_major": 2,
       "version_minor": 0
      },
      "text/plain": [
       "Output()"
      ]
     },
     "metadata": {},
     "output_type": "display_data"
    },
    {
     "data": {
      "text/html": [
       "<pre style=\"white-space:pre;overflow-x:auto;line-height:normal;font-family:Menlo,'DejaVu Sans Mono',consolas,'Courier New',monospace\">c:\\Users\\shelb\\anaconda3\\envs\\pytorch\\Lib\\site-packages\\lightning\\pytorch\\trainer\\connectors\\logger_connector\\resul\n",
       "t.py:212: UserWarning: You called `self.log('epoch', ...)` in your `validation_step` but the value needs to be \n",
       "floating point. Converting it to torch.float32.\n",
       "  warning_cache.warn(\n",
       "</pre>\n"
      ],
      "text/plain": [
       "c:\\Users\\shelb\\anaconda3\\envs\\pytorch\\Lib\\site-packages\\lightning\\pytorch\\trainer\\connectors\\logger_connector\\resul\n",
       "t.py:212: UserWarning: You called `self.log('epoch', ...)` in your `validation_step` but the value needs to be \n",
       "floating point. Converting it to torch.float32.\n",
       "  warning_cache.warn(\n"
      ]
     },
     "metadata": {},
     "output_type": "display_data"
    },
    {
     "data": {
      "text/html": [
       "<pre style=\"white-space:pre;overflow-x:auto;line-height:normal;font-family:Menlo,'DejaVu Sans Mono',consolas,'Courier New',monospace\">c:\\Users\\shelb\\anaconda3\\envs\\pytorch\\Lib\\site-packages\\lightning\\pytorch\\trainer\\connectors\\logger_connector\\resul\n",
       "t.py:212: UserWarning: You called `self.log('epoch', ...)` in your `training_step` but the value needs to be \n",
       "floating point. Converting it to torch.float32.\n",
       "  warning_cache.warn(\n",
       "</pre>\n"
      ],
      "text/plain": [
       "c:\\Users\\shelb\\anaconda3\\envs\\pytorch\\Lib\\site-packages\\lightning\\pytorch\\trainer\\connectors\\logger_connector\\resul\n",
       "t.py:212: UserWarning: You called `self.log('epoch', ...)` in your `training_step` but the value needs to be \n",
       "floating point. Converting it to torch.float32.\n",
       "  warning_cache.warn(\n"
      ]
     },
     "metadata": {},
     "output_type": "display_data"
    },
    {
     "data": {
      "text/html": [
       "<pre style=\"white-space:pre;overflow-x:auto;line-height:normal;font-family:Menlo,'DejaVu Sans Mono',consolas,'Courier New',monospace\"></pre>\n"
      ],
      "text/plain": []
     },
     "metadata": {},
     "output_type": "display_data"
    },
    {
     "data": {
      "text/html": [
       "<pre style=\"white-space:pre;overflow-x:auto;line-height:normal;font-family:Menlo,'DejaVu Sans Mono',consolas,'Courier New',monospace\">\n",
       "</pre>\n"
      ],
      "text/plain": [
       "\n"
      ]
     },
     "metadata": {},
     "output_type": "display_data"
    },
    {
     "data": {
      "application/vnd.jupyter.widget-view+json": {
       "model_id": "70b310fc435b4acd8823d56dd26ef6ba",
       "version_major": 2,
       "version_minor": 0
      },
      "text/plain": [
       "Output()"
      ]
     },
     "metadata": {},
     "output_type": "display_data"
    },
    {
     "data": {
      "text/html": [
       "<pre style=\"white-space:pre;overflow-x:auto;line-height:normal;font-family:Menlo,'DejaVu Sans Mono',consolas,'Courier New',monospace\"></pre>\n"
      ],
      "text/plain": []
     },
     "metadata": {},
     "output_type": "display_data"
    },
    {
     "data": {
      "text/html": [
       "<pre style=\"white-space:pre;overflow-x:auto;line-height:normal;font-family:Menlo,'DejaVu Sans Mono',consolas,'Courier New',monospace\">\n",
       "</pre>\n"
      ],
      "text/plain": [
       "\n"
      ]
     },
     "metadata": {},
     "output_type": "display_data"
    },
    {
     "data": {
      "application/vnd.jupyter.widget-view+json": {
       "model_id": "a79afb47e06a476e8547141f1662f06e",
       "version_major": 2,
       "version_minor": 0
      },
      "text/plain": [
       "Output()"
      ]
     },
     "metadata": {},
     "output_type": "display_data"
    },
    {
     "data": {
      "text/html": [
       "<pre style=\"white-space:pre;overflow-x:auto;line-height:normal;font-family:Menlo,'DejaVu Sans Mono',consolas,'Courier New',monospace\"></pre>\n"
      ],
      "text/plain": []
     },
     "metadata": {},
     "output_type": "display_data"
    },
    {
     "data": {
      "text/html": [
       "<pre style=\"white-space:pre;overflow-x:auto;line-height:normal;font-family:Menlo,'DejaVu Sans Mono',consolas,'Courier New',monospace\">\n",
       "</pre>\n"
      ],
      "text/plain": [
       "\n"
      ]
     },
     "metadata": {},
     "output_type": "display_data"
    },
    {
     "data": {
      "application/vnd.jupyter.widget-view+json": {
       "model_id": "3eda52da11f24882b58ef503ac66b956",
       "version_major": 2,
       "version_minor": 0
      },
      "text/plain": [
       "Output()"
      ]
     },
     "metadata": {},
     "output_type": "display_data"
    },
    {
     "data": {
      "text/html": [
       "<pre style=\"white-space:pre;overflow-x:auto;line-height:normal;font-family:Menlo,'DejaVu Sans Mono',consolas,'Courier New',monospace\">c:\\Users\\shelb\\anaconda3\\envs\\pytorch\\Lib\\site-packages\\lightning\\pytorch\\trainer\\call.py:53: UserWarning: Detected\n",
       "KeyboardInterrupt, attempting graceful shutdown...\n",
       "  rank_zero_warn(\"Detected KeyboardInterrupt, attempting graceful shutdown...\")\n",
       "</pre>\n"
      ],
      "text/plain": [
       "c:\\Users\\shelb\\anaconda3\\envs\\pytorch\\Lib\\site-packages\\lightning\\pytorch\\trainer\\call.py:53: UserWarning: Detected\n",
       "KeyboardInterrupt, attempting graceful shutdown...\n",
       "  rank_zero_warn(\"Detected KeyboardInterrupt, attempting graceful shutdown...\")\n"
      ]
     },
     "metadata": {},
     "output_type": "display_data"
    },
    {
     "data": {
      "text/html": [
       "<pre style=\"white-space:pre;overflow-x:auto;line-height:normal;font-family:Menlo,'DejaVu Sans Mono',consolas,'Courier New',monospace\"></pre>\n"
      ],
      "text/plain": []
     },
     "metadata": {},
     "output_type": "display_data"
    },
    {
     "data": {
      "text/html": [
       "<pre style=\"white-space:pre;overflow-x:auto;line-height:normal;font-family:Menlo,'DejaVu Sans Mono',consolas,'Courier New',monospace\">\n",
       "</pre>\n"
      ],
      "text/plain": [
       "\n"
      ]
     },
     "metadata": {},
     "output_type": "display_data"
    }
   ],
   "source": [
    "trainer_task.fit(model_cnn)"
   ]
  },
  {
   "cell_type": "code",
   "execution_count": 7,
   "metadata": {},
   "outputs": [],
   "source": [
    "# torch.save(model_cnn,\"./models/v3/model_0.pt\")\n",
    "# model_cnn = torch.load(\"./models/v2/model_0.pt\")"
   ]
  },
  {
   "cell_type": "code",
   "execution_count": 13,
   "metadata": {},
   "outputs": [
    {
     "name": "stderr",
     "output_type": "stream",
     "text": [
      "LOCAL_RANK: 0 - CUDA_VISIBLE_DEVICES: [0]\n",
      "c:\\Users\\Dylan\\anaconda3\\envs\\pytorch\\Lib\\site-packages\\lightning\\pytorch\\trainer\\connectors\\data_connector.py:436: Consider setting `persistent_workers=True` in 'test_dataloader' to speed up the dataloader worker initialization.\n",
      "c:\\Users\\Dylan\\anaconda3\\envs\\pytorch\\Lib\\site-packages\\torch\\utils\\data\\dataloader.py:557: UserWarning: This DataLoader will create 16 worker processes in total. Our suggested max number of worker in current system is 8 (`cpuset` is not taken into account), which is smaller than what this DataLoader is going to create. Please be aware that excessive worker creation might get DataLoader running slow or even freeze, lower the worker number to avoid potential slowness/freeze if necessary.\n",
      "  warnings.warn(_create_warning_msg(\n"
     ]
    },
    {
     "data": {
      "application/vnd.jupyter.widget-view+json": {
       "model_id": "247041b8503a4e07a532c0cf8ddc1b75",
       "version_major": 2,
       "version_minor": 0
      },
      "text/plain": [
       "Output()"
      ]
     },
     "metadata": {},
     "output_type": "display_data"
    },
    {
     "data": {
      "text/html": [
       "<pre style=\"white-space:pre;overflow-x:auto;line-height:normal;font-family:Menlo,'DejaVu Sans Mono',consolas,'Courier New',monospace\">┏━━━━━━━━━━━━━━━━━━━━━━━━━━━┳━━━━━━━━━━━━━━━━━━━━━━━━━━━┓\n",
       "┃<span style=\"font-weight: bold\">        Test metric        </span>┃<span style=\"font-weight: bold\">       DataLoader 0        </span>┃\n",
       "┡━━━━━━━━━━━━━━━━━━━━━━━━━━━╇━━━━━━━━━━━━━━━━━━━━━━━━━━━┩\n",
       "│<span style=\"color: #008080; text-decoration-color: #008080\">           epoch           </span>│<span style=\"color: #800080; text-decoration-color: #800080\">            0.0            </span>│\n",
       "│<span style=\"color: #008080; text-decoration-color: #008080\">         test_acc          </span>│<span style=\"color: #800080; text-decoration-color: #800080\">    0.8543092608451843     </span>│\n",
       "│<span style=\"color: #008080; text-decoration-color: #008080\">         test_loss         </span>│<span style=\"color: #800080; text-decoration-color: #800080\">    0.49160322546958923    </span>│\n",
       "└───────────────────────────┴───────────────────────────┘\n",
       "</pre>\n"
      ],
      "text/plain": [
       "┏━━━━━━━━━━━━━━━━━━━━━━━━━━━┳━━━━━━━━━━━━━━━━━━━━━━━━━━━┓\n",
       "┃\u001b[1m \u001b[0m\u001b[1m       Test metric       \u001b[0m\u001b[1m \u001b[0m┃\u001b[1m \u001b[0m\u001b[1m      DataLoader 0       \u001b[0m\u001b[1m \u001b[0m┃\n",
       "┡━━━━━━━━━━━━━━━━━━━━━━━━━━━╇━━━━━━━━━━━━━━━━━━━━━━━━━━━┩\n",
       "│\u001b[36m \u001b[0m\u001b[36m          epoch          \u001b[0m\u001b[36m \u001b[0m│\u001b[35m \u001b[0m\u001b[35m           0.0           \u001b[0m\u001b[35m \u001b[0m│\n",
       "│\u001b[36m \u001b[0m\u001b[36m        test_acc         \u001b[0m\u001b[36m \u001b[0m│\u001b[35m \u001b[0m\u001b[35m   0.8543092608451843    \u001b[0m\u001b[35m \u001b[0m│\n",
       "│\u001b[36m \u001b[0m\u001b[36m        test_loss        \u001b[0m\u001b[36m \u001b[0m│\u001b[35m \u001b[0m\u001b[35m   0.49160322546958923   \u001b[0m\u001b[35m \u001b[0m│\n",
       "└───────────────────────────┴───────────────────────────┘\n"
      ]
     },
     "metadata": {},
     "output_type": "display_data"
    },
    {
     "data": {
      "text/html": [
       "<pre style=\"white-space:pre;overflow-x:auto;line-height:normal;font-family:Menlo,'DejaVu Sans Mono',consolas,'Courier New',monospace\"></pre>\n"
      ],
      "text/plain": []
     },
     "metadata": {},
     "output_type": "display_data"
    },
    {
     "data": {
      "text/html": [
       "<pre style=\"white-space:pre;overflow-x:auto;line-height:normal;font-family:Menlo,'DejaVu Sans Mono',consolas,'Courier New',monospace\">\n",
       "</pre>\n"
      ],
      "text/plain": [
       "\n"
      ]
     },
     "metadata": {},
     "output_type": "display_data"
    },
    {
     "data": {
      "text/plain": [
       "[{'test_loss': 0.49160322546958923,\n",
       "  'test_acc': 0.8543092608451843,\n",
       "  'epoch': 0.0}]"
      ]
     },
     "execution_count": 13,
     "metadata": {},
     "output_type": "execute_result"
    }
   ],
   "source": [
    "trainer_task.test(model_cnn,test_loader)"
   ]
  },
  {
   "cell_type": "code",
   "execution_count": 12,
   "metadata": {},
   "outputs": [
    {
     "name": "stdout",
     "output_type": "stream",
     "text": [
      "45\n"
     ]
    },
    {
     "name": "stderr",
     "output_type": "stream",
     "text": [
      "C:\\Users\\shelb\\AppData\\Local\\Temp\\ipykernel_27512\\1089344017.py:11: FutureWarning: The behavior of obj[i:j] with a float-dtype index is deprecated. In a future version, this will be treated as positional instead of label-based. For label-based slicing, use obj.loc[i:j] instead\n",
      "  plt.plot(metrics_task[\"train_loss\"][0:epochs-1])\n",
      "C:\\Users\\shelb\\AppData\\Local\\Temp\\ipykernel_27512\\1089344017.py:12: FutureWarning: The behavior of obj[i:j] with a float-dtype index is deprecated. In a future version, this will be treated as positional instead of label-based. For label-based slicing, use obj.loc[i:j] instead\n",
      "  plt.plot(metrics_task[\"val_loss\"][0:epochs-1])\n",
      "C:\\Users\\shelb\\AppData\\Local\\Temp\\ipykernel_27512\\1089344017.py:21: FutureWarning: The behavior of obj[i:j] with a float-dtype index is deprecated. In a future version, this will be treated as positional instead of label-based. For label-based slicing, use obj.loc[i:j] instead\n",
      "  plt.plot(metrics_task[\"train_acc\"][0:epochs-1])\n",
      "C:\\Users\\shelb\\AppData\\Local\\Temp\\ipykernel_27512\\1089344017.py:22: FutureWarning: The behavior of obj[i:j] with a float-dtype index is deprecated. In a future version, this will be treated as positional instead of label-based. For label-based slicing, use obj.loc[i:j] instead\n",
      "  plt.plot(metrics_task[\"val_acc\"][0:epochs-1])\n"
     ]
    },
    {
     "data": {
      "image/png": "[encoded data removed]",
      "text/plain": [
       "<Figure size 1000x500 with 2 Axes>"
      ]
     },
     "metadata": {},
     "output_type": "display_data"
    }
   ],
   "source": [
    "METRICS_PATH = \"./logs_task/v2/lightning_logs/version_2\"\n",
    "metrics_task = pd.read_csv(METRICS_PATH + \"/metrics.csv\")\n",
    "metrics_task.set_index(\"epoch\", inplace=True)\n",
    "metrics_task = metrics_task.groupby(level=0).sum().drop(\"step\", axis=1)\n",
    "\n",
    "plt.rcParams[\"figure.figsize\"] = (10, 5)\n",
    "\n",
    "plt.subplot(1,2,1)\n",
    "epochs = len(metrics_task)-1\n",
    "print(epochs)\n",
    "plt.plot(metrics_task[\"train_loss\"][0:epochs-1])\n",
    "plt.plot(metrics_task[\"val_loss\"][0:epochs-1])\n",
    "\n",
    "plt.xlabel('Epoch')\n",
    "plt.ylabel('Loss')\n",
    "plt.title(\"Train and Validation Loss\")\n",
    "plt.legend([\"Train\", \"Validation\"]);\n",
    "\n",
    "plt.subplot(1,2,2)\n",
    "\n",
    "plt.plot(metrics_task[\"train_acc\"][0:epochs-1])\n",
    "plt.plot(metrics_task[\"val_acc\"][0:epochs-1])\n",
    "plt.xlabel('Epoch')\n",
    "plt.ylabel('Accuracy')\n",
    "plt.title(\"Train and Validation Accuracy\")\n",
    "plt.legend([\"Train\", \"Validation\"]);\n",
    "\n",
    "plt.tight_layout();"
   ]
  },
  {
   "cell_type": "code",
   "execution_count": 8,
   "metadata": {},
   "outputs": [
    {
     "name": "stderr",
     "output_type": "stream",
     "text": [
      "LOCAL_RANK: 0 - CUDA_VISIBLE_DEVICES: [0]\n",
      "c:\\Users\\Dylan\\anaconda3\\envs\\pytorch\\Lib\\site-packages\\lightning\\pytorch\\trainer\\connectors\\data_connector.py:436: Consider setting `persistent_workers=True` in 'predict_dataloader' to speed up the dataloader worker initialization.\n"
     ]
    },
    {
     "data": {
      "application/vnd.jupyter.widget-view+json": {
       "model_id": "6d1580dbdc114e67a08c336b53d69575",
       "version_major": 2,
       "version_minor": 0
      },
      "text/plain": [
       "Output()"
      ]
     },
     "metadata": {},
     "output_type": "display_data"
    },
    {
     "data": {
      "text/html": [
       "<pre style=\"white-space:pre;overflow-x:auto;line-height:normal;font-family:Menlo,'DejaVu Sans Mono',consolas,'Courier New',monospace\"></pre>\n"
      ],
      "text/plain": []
     },
     "metadata": {},
     "output_type": "display_data"
    },
    {
     "data": {
      "text/html": [
       "<pre style=\"white-space:pre;overflow-x:auto;line-height:normal;font-family:Menlo,'DejaVu Sans Mono',consolas,'Courier New',monospace\">\n",
       "</pre>\n"
      ],
      "text/plain": [
       "\n"
      ]
     },
     "metadata": {},
     "output_type": "display_data"
    }
   ],
   "source": [
    "# Concatenate the predictions from multiple batches\n",
    "model_cnn.eval()\n",
    "predictions = trainer_task.predict(model_cnn,test_loader)\n"
   ]
  },
  {
   "cell_type": "code",
   "execution_count": 9,
   "metadata": {},
   "outputs": [],
   "source": [
    "test_outputs = torch.cat([prediction[1] for prediction in predictions], dim=0)  # Concatenate model outputs\n",
    "test_labels = torch.cat([prediction[3] for prediction in predictions], dim=0)  # Concatenate true labels\n",
    "test_inputs = torch.cat([prediction[2] for prediction in predictions], dim=0)  # Concatenate input images\n",
    "test_preds = torch.cat([prediction[0] for prediction in predictions], dim=0)#test_outputs.argmax(dim=1)  # Find the index of the maximum probability along the classes (predicted labels)"
   ]
  },
  {
   "cell_type": "code",
   "execution_count": 10,
   "metadata": {},
   "outputs": [
    {
     "data": {
      "image/png": "[encoded data removed]",
      "text/plain": [
       "<Figure size 640x480 with 1 Axes>"
      ]
     },
     "metadata": {},
     "output_type": "display_data"
    },
    {
     "name": "stdout",
     "output_type": "stream",
     "text": [
      "tensor(0.8432)\n"
     ]
    }
   ],
   "source": [
    "plt.hist(test_preds+0.5,bins=[0,0.5,1,1.5,2,2.5,3,3.5,4,4.5,5],label=\"Pred\");\n",
    "plt.hist(test_labels,bins=[0,0.5,1,1.5,2,2.5,3,3.5,4,4.5,5],label=\"GT\");\n",
    "plt.legend()\n",
    "plt.show()\n",
    "\n",
    "print(torch.where(test_preds==test_labels,1,0).sum()/len(test_labels))"
   ]
  },
  {
   "cell_type": "code",
   "execution_count": 11,
   "metadata": {},
   "outputs": [],
   "source": [
    "#GradCAM\n",
    "import warnings\n",
    "warnings.filterwarnings('ignore')\n",
    "from torchvision import models\n",
    "import numpy as np\n",
    "import cv2\n",
    "import requests\n",
    "from pytorch_grad_cam import GradCAM\n",
    "from pytorch_grad_cam.utils.model_targets import ClassifierOutputTarget\n",
    "from pytorch_grad_cam.utils.image import show_cam_on_image, \\\n",
    "    deprocess_image, \\\n",
    "    preprocess_image\n",
    "from PIL import Image\n",
    "   \n",
    "\n",
    "def saliency(index,plot=False, save_plot=False):\n",
    "    # Retrieve the input image, true label, model output, predicted label for the selected index\n",
    "    pred = test_preds[index]\n",
    "    label = test_labels[index]\n",
    "    output = test_outputs[index]\n",
    "    image_original = test_inputs[index]\n",
    "\n",
    "    # Add a batch dimension to the input image (via .unsqueeze()) and set requires_grad to True for saliency analysis\n",
    "    image = image_original.unsqueeze(0)\n",
    "    image.requires_grad = True\n",
    "\n",
    "    # Compute the scores and gradients for the input image\n",
    "    # To compute the scores, do a forward pass of the image and then take the argmax\n",
    "    # Use this index to extract the score_max value from \"scores\"\n",
    "    # Then perform a backward step so that it backpropagates the gradient\n",
    "    scores = model_cnn.forward(image)\n",
    "    score_max_index = torch.argmax(scores)\n",
    "    score_max = scores[0, score_max_index]\n",
    "    score_max.backward() # Do the backward step here for the gradient calculation\n",
    "\n",
    "    # Calculate the saliency map by finding the maximum absolute gradient values across channels\n",
    "    # You can use .abs() and torch.max()\n",
    "    grad = image.grad\n",
    "    grad_abs = torch.squeeze(grad.abs())\n",
    "    grad_max = torch.max(grad_abs,dim=0).values\n",
    "    #Unnormalise Image for display\n",
    "    clean_img = []\n",
    "    for ch in range(3):\n",
    "        ch_layer = image_original[ch]\n",
    "        corrected_layer = ch_layer*stds[ch]+means[ch]\n",
    "        clean_img.append(corrected_layer.abs())\n",
    "    clean_img = torch.tensor(np.array(clean_img)).permute(1,2,0)\n",
    "    clean_img = np.array(clean_img)\n",
    "\n",
    "    model = model_cnn\n",
    "    model.eval()\n",
    "\n",
    "    targets = [ClassifierOutputTarget(label.item())] #0-5\n",
    "    target_layers = [model.conv_blk2.conv2]\n",
    "    with GradCAM(model=model, target_layers=target_layers) as cam:\n",
    "        grayscale_cams = cam(input_tensor=image, targets=targets)\n",
    "        cam_image = show_cam_on_image(clean_img, grayscale_cams[0, :], use_rgb=True)\n",
    "    cam = np.uint8(255*grayscale_cams[0, :])\n",
    "    cam = cv2.merge([cam, cam, cam])\n",
    "\n",
    "\n",
    "    # # Create a subplot to display the original image and saliency map side by side\n",
    "    if plot or save_plot:\n",
    "        # images = np.hstack((cam , cam_image))\n",
    "        # grad_cam = Image.fromarray(images)\n",
    "        actions_list = [\"INT\",\"Right\",\"Left\",\"Down\",\"Up\",]\n",
    "        plt.close()\n",
    "        plt.figure()\n",
    "\n",
    "        # Create a subplot to display the original image and saliency map side by side\n",
    "        plt.rcParams[\"figure.figsize\"] = (10, 10)\n",
    "        plt.subplot(2,2,1)\n",
    "        plt.imshow(grad_max)\n",
    "        plt.title(f\"Saliency (Max)\\nPred: {actions_list[pred.item()]}, GT: {actions_list[label.item()]}, Index: {index}\")\n",
    "        plt.axis('off')\n",
    "\n",
    "        #GradCAM Plot\n",
    "        plt.subplot(2,2,4)\n",
    "        plt.imshow(cam)\n",
    "        plt.title(f\"GradCAM\\nPred: {actions_list[pred.item()]}, GT: {actions_list[label.item()]}, Index: {index}\")\n",
    "        plt.axis('off')\n",
    "\n",
    "        plt.subplot(2,2,3)\n",
    "        plt.imshow(cam_image)\n",
    "        plt.title(f\"GradCAM Overlay\\nPred: {actions_list[pred.item()]}, GT: {actions_list[label.item()]}, Index: {index}\")\n",
    "        plt.axis('off')\n",
    "\n",
    "        #Original Image\n",
    "        plt.subplot(2,2,2)\n",
    "        plt.title(f\"Original (Blue)\\nPred: {actions_list[pred.item()]}, GT: {actions_list[label.item()]}, Index: {index}\")\n",
    "        plt.imshow((clean_img))\n",
    "        plt.axis('off')\n",
    "\n",
    "        if plot:\n",
    "            plt.show()\n",
    "            print(\"Probabilities:\",torch.nn.functional.softmax(output))\n",
    "\n",
    "        if save_plot:\n",
    "            plt.savefig(fname=f\"./results/v2/{index}.png\")\n",
    "        \n",
    "    return grad_max, cam, image_original"
   ]
  },
  {
   "cell_type": "code",
   "execution_count": 24,
   "metadata": {},
   "outputs": [],
   "source": [
    "grad_stats = []\n",
    "cam_stats = []\n",
    "input_stats = []\n",
    "for index in range(len(test_labels)):\n",
    "    grad_stat, cam_stat, _ = saliency(index, False, False)\n",
    "    grad_stats.append(np.array(grad_stat,dtype=\"float16\"))\n",
    "    cam_stats.append(np.array(cam_stat,dtype=\"float16\"))\n",
    "\n",
    "\n",
    "np.save(\"./results/v2/stats.npy\",np.array(grad_stats))\n",
    "np.save(\"./results/v2/stats_gradcam.npy\",np.array(cam_stats))"
   ]
  },
  {
   "cell_type": "code",
   "execution_count": 23,
   "metadata": {},
   "outputs": [
    {
     "name": "stdout",
     "output_type": "stream",
     "text": [
      "[11055  8915  1318  7221 11468  7540   664  6137  6833  8471  9449  7322\n",
      "  8222  1182  7916  8060  7962 10682 10360  7644 11589 11600  9161  2431\n",
      "   246  2558  3503  5682  3824  5883  5196 12198  1530 10983  7307  6784\n",
      "  4841 12107 10576     3  1282  1299 11148  6603  4467  3691 11278  3315\n",
      " 10695 12092  8682  6763  4014  7068  3153  9047  9997  4212 12896 11148\n",
      " 12485   625  3039  8165 11935  8953 11865  9300 10285  2576 12329 12216\n",
      "  5206  8108   986 11219  2351  5138  9813  9902  2530 12069  6950 12423\n",
      "  3044  1731  1774  2607  3062 10484 10614  8879  9103  2594    10  3356\n",
      "  5124  2130  4199 10585]\n",
      "dupes 11148\n",
      "dupes 11148\n"
     ]
    }
   ],
   "source": [
    "np.random.seed(1234)\n",
    "results_indices = np.random.randint(0,len(test_labels),size=100)\n",
    "print(results_indices)\n",
    "for res in results_indices:\n",
    "    count =0\n",
    "    for res2 in results_indices:\n",
    "        if res==res2:\n",
    "            count+=1\n",
    "        if count>1:\n",
    "            print(\"dupes\", res)\n",
    "            break\n",
    "\n",
    "# for index in results_indices:\n",
    "#     grad_stat = saliency(index, False, True)\n"
   ]
  }
 ],
 "metadata": {
  "kernelspec": {
   "display_name": "ece4179",
   "language": "python",
   "name": "python3"
  },
  "language_info": {
   "codemirror_mode": {
    "name": "ipython",
    "version": 3
   },
   "file_extension": ".py",
   "mimetype": "text/x-python",
   "name": "python",
   "nbconvert_exporter": "python",
   "pygments_lexer": "ipython3",
   "version": "3.11.5"
  }
 },
 "nbformat": 4,
 "nbformat_minor": 2
}
