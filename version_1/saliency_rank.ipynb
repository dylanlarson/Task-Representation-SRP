{
 "cells": [
  {
   "cell_type": "code",
   "execution_count": 2,
   "metadata": {},
   "outputs": [],
   "source": [
    "import numpy as np\n",
    "import matplotlib.pyplot as plt"
   ]
  },
  {
   "cell_type": "code",
   "execution_count": 16,
   "metadata": {},
   "outputs": [],
   "source": [
    "# FILES\n",
    "mlp_stats = np.load(\"./results/v1/stats.npy\")\n",
    "cnn2_stats = np.load(\"./results/v2_2/ranks.npy\")\n",
    "cnne_stats = np.load(\"./results/v4/rank_stats.npy\")\n",
    "\n",
    "# print(mlp_stats.shape, cnne_stats.shape, cnne_stats_inputs.shape)"
   ]
  },
  {
   "cell_type": "code",
   "execution_count": 7,
   "metadata": {},
   "outputs": [],
   "source": [
    "# Labels and print functions\n",
    "mlp_label = [\"P2_X\", \"P2_Y\", \"P1_O1\",\"P1_O2\",\"P1_Onion\",\"P1_Dish\", \"P1_Soup\", \"P2_O1\",\"P2_O2\",\"P2_Onion\",\"P2_Dish\", \"P2_Soup\",\"TP_X\",\"TP_Y\",\"TO_X\",\"TO_Y\",\"TD_X\",\"TD_Y\",\"TS_X\",\"TS_Y\"]\n",
    "cnne_ch_label = [\"Map\",\"Bench\",\"Pot\",\"Onion Box\",\"Dish Box\",\"Serve\",\"Pot Onions\",\"Pot Tick\",\"Onion(s)\",\"Dish(es)\", \"Soup(s)\",\"P1 O1\",\"P1 O2\",\"P1 O3\",\"P1 O4\"]#,\"P2 O1\",\"P2 O2\",\"P2 O3\",\"P2 O4\"]\n",
    "tile_label = [\"Bench\",\"Pot\",\"Onion\",\"Dish\",\"Serve\",\"P1\",\"P2\",\"Empty\"]\n",
    "def print_lists(orders,labels,col_names):\n",
    "    #HEADER\n",
    "    header=f\"    \"\n",
    "    for name in col_names:\n",
    "        header += f\"{name:<15}\"\n",
    "    print(header)\n",
    "\n",
    "    L = len(orders[0])\n",
    "    for i in range(L):\n",
    "        row=f\"{i+1:<4}\"\n",
    "        for order in orders:\n",
    "            row+= f\"{labels[order[i]]:<15}\"\n",
    "        \n",
    "        print(row)"
   ]
  },
  {
   "cell_type": "code",
   "execution_count": 8,
   "metadata": {},
   "outputs": [],
   "source": [
    "#Schluze ranking method\n",
    "def schluze(stats):\n",
    "    W  = len(stats[0])\n",
    "    d_grid = np.zeros([W,W])\n",
    "    for row in stats:\n",
    "        for i in range(W):\n",
    "            if i<W:\n",
    "                for j in range(i+1,W):\n",
    "                    item1 = row[i]\n",
    "                    item2 = row[j]\n",
    "                    # print(item1,item2)\n",
    "                    if item1>item2:\n",
    "                        d_grid[i,j]+=1\n",
    "                    elif item2>item1:\n",
    "                        d_grid[j,i]+=1\n",
    "                    else:\n",
    "                        print(\"idk\")\n",
    "                        d_grid[i,j]+=1\n",
    "    # print(d_grid)\n",
    "\n",
    "    p_grid = np.zeros([W,W])\n",
    "    for i in range(W):\n",
    "        for j in range(W):\n",
    "            if i!=j:\n",
    "                if d_grid[i,j] > d_grid[j,i]:\n",
    "                    p_grid[i,j] = d_grid[i,j]\n",
    "                else:\n",
    "                    p_grid[i,j]=0\n",
    "\n",
    "    for i in range(W):\n",
    "        for j in range(W):\n",
    "            if i!=j:\n",
    "                for k in range(W):\n",
    "                    if i!=k and j!=k:\n",
    "                        p_grid[j,k] = max(p_grid[j,k],min(p_grid[j,i],p_grid[i,k]))\n",
    "    \n",
    "\n",
    "    # print(p_grid)\n",
    "\n",
    "    w_grid = np.zeros([W,W])\n",
    "    for i in range(W):\n",
    "        if i<W:\n",
    "            for j in range(i+1,W):\n",
    "                item1 = p_grid[i,j]\n",
    "                item2 = p_grid[j,i]\n",
    "\n",
    "                # print(item1,item2)\n",
    "                if item1>item2:\n",
    "                    w_grid[i,j]=1\n",
    "                elif item2>item1:\n",
    "                    w_grid[j,i]=1\n",
    "                else:\n",
    "                    print(\"idk2\")\n",
    "    # print(w_grid)\n",
    "\n",
    "    w_sum = np.sum(w_grid,axis=0)\n",
    "    return w_sum\n"
   ]
  },
  {
   "cell_type": "code",
   "execution_count": 6,
   "metadata": {},
   "outputs": [
    {
     "name": "stdout",
     "output_type": "stream",
     "text": [
      "    AddSort        Mean           Schluze        \n",
      "1   P1_Soup        P1_Soup        P1_Soup        \n",
      "2   P1_O1          P1_O1          P1_O1          \n",
      "3   P1_O2          P1_O2          P1_O2          \n",
      "4   TP_Y           TP_X           TP_Y           \n",
      "5   TP_X           TP_Y           TP_X           \n",
      "6   TS_Y           TS_Y           TS_Y           \n",
      "7   TO_X           TO_Y           TO_X           \n",
      "8   TD_Y           TO_X           TO_Y           \n",
      "9   TO_Y           TD_Y           TD_Y           \n",
      "10  P2_O2          P2_O2          P2_O2          \n",
      "11  TD_X           TS_X           TD_X           \n",
      "12  TS_X           TD_X           P2_O1          \n",
      "13  P2_O1          P2_O1          TS_X           \n",
      "14  P2_X           P2_X           P2_X           \n",
      "15  P2_Y           P2_Y           P2_Y           \n",
      "16  P2_Onion       P2_Onion       P2_Onion       \n",
      "17  P1_Dish        P1_Dish        P1_Dish        \n",
      "18  P2_Dish        P2_Dish        P2_Dish        \n",
      "19  P1_Onion       P1_Onion       P1_Onion       \n",
      "20  P2_Soup        P2_Soup        P2_Soup        \n"
     ]
    }
   ],
   "source": [
    "# MLP Rank addition combination\n",
    "mlp_rank_sum = np.zeros(mlp_stats.shape[1])\n",
    "for row in mlp_stats:\n",
    "    # row = np.round(row,2)\n",
    "    row_ranks = row.argsort().argsort()\n",
    "    mlp_rank_sum += row_ranks\n",
    "mlp_rank_order = (-mlp_rank_sum).argsort()\n",
    "\n",
    "# MLP Rank mean combination\n",
    "mlp_grad_sum = np.linalg.norm(mlp_stats,axis=1)\n",
    "mlp_grad_norm = mlp_stats / mlp_grad_sum[:, np.newaxis]\n",
    "\n",
    "mlp_grad_mean = np.mean(mlp_grad_norm,axis=0)\n",
    "mlp_mean_order = (-mlp_grad_mean).argsort()\n",
    "\n",
    "# MLP Rank schluze combination\n",
    "mlp_schluze_rank = schluze(mlp_stats)\n",
    "mlp_schluze_order = mlp_schluze_rank.argsort()\n",
    "\n",
    "# Print orders\n",
    "col_names = [\"AddSort\",\"Mean\",\"Schluze\"]\n",
    "\n",
    "print_lists([mlp_rank_order, mlp_mean_order, mlp_schluze_order],mlp_label,col_names)"
   ]
  },
  {
   "cell_type": "code",
   "execution_count": 20,
   "metadata": {},
   "outputs": [
    {
     "name": "stdout",
     "output_type": "stream",
     "text": [
      "    Schluze Max    Schluze Std    \n",
      "1   P1 O1          Pot Tick       \n",
      "2   P1 O3          P1 O1          \n",
      "3   P1 O4          P1 O3          \n",
      "4   Pot Tick       P1 O4          \n",
      "5   P1 O2          P1 O2          \n",
      "6   Dish(es)       Dish(es)       \n",
      "7   Onion(s)       Onion(s)       \n",
      "8   Soup(s)        Soup(s)        \n",
      "9   Pot Onions     Pot Onions     \n",
      "10  Serve          Serve          \n",
      "11  Dish Box       Dish Box       \n",
      "12  Onion Box      Onion Box      \n",
      "13  Pot            Pot            \n",
      "14  Bench          Bench          \n",
      "15  Map            Map            \n"
     ]
    }
   ],
   "source": [
    "# CNNe Rank schluze combination\n",
    "# Channel Analysis\n",
    "\n",
    "cnne_flat_stats = cnne_stats.reshape(cnne_stats.shape[0],cnne_stats.shape[1],cnne_stats.shape[2]*cnne_stats.shape[3])\n",
    "\n",
    "cnne_stats_ch_max = np.max(cnne_flat_stats,axis=2)\n",
    "cnne_stats_ch_std = np.std(cnne_flat_stats,axis=2)\n",
    "# print(cnne_flat_stats.shape, cnne_stats_ch_max.shape, cnne_stats_ch_std.shape)\n",
    "\n",
    "cnne_schluze_max_rank = schluze(cnne_stats_ch_max)\n",
    "cnne_schluze_max_order = cnne_schluze_max_rank.argsort()\n",
    "\n",
    "cnne_schluze_std_rank = schluze(cnne_stats_ch_std)\n",
    "cnne_schluze_std_order = cnne_schluze_std_rank.argsort()\n",
    "\n",
    "# Print orders\n",
    "col_names = [\"Schluze Max\",\"Schluze Std\"]\n",
    "\n",
    "print_lists([cnne_schluze_max_order, cnne_schluze_std_order],cnne_ch_label,col_names)"
   ]
  },
  {
   "cell_type": "code",
   "execution_count": 10,
   "metadata": {},
   "outputs": [],
   "source": [
    "#Stats generated in respective file to reduce memory requirements\n",
    "# Each row has a sequency of characters representing tiles in order of saliency (highest to lowest)\n",
    "# Used max across colour channels and downsampled to grid size.\n",
    "def rank_stats(ss_arr, title):\n",
    "    #Reformat data for schluze application\n",
    "    # note this results in encoding before the schluze function and decoding within the function\n",
    "    # so this can be optimised to just 1 direct encoding if needed\n",
    "\n",
    "    #No duplicate items in sequence\n",
    "    # 0 - Bench (X) 0/1\n",
    "    # 1 - Pot 0/1\n",
    "    # 2 - Onion Source 0/1\n",
    "    # 3 - Dish Source 0/1\n",
    "    # 4 - Serving 0/1\n",
    "    # 5 - Player 1\n",
    "    # 6 - Player 2\n",
    "    # 7 - None/Empty space\n",
    "\n",
    "    chars = 'XPODS12E'\n",
    "    idx_dict = {chars[i]: i for i in range(len(chars))}\n",
    "    ss_arr_order = np.zeros(ss_arr.shape)\n",
    "    for i in range(len(ss_arr)):\n",
    "        for j in range(len(ss_arr[i])):\n",
    "            ss_arr_order[i][idx_dict[ss_arr[i][j]]] = len(ss_arr[i]) - j - 1\n",
    "\n",
    "    #Schluze ranking\n",
    "    cnn2_schluze_max_rank = schluze(ss_arr_order)\n",
    "    cnn2_schluze_max_order = cnn2_schluze_max_rank.argsort()\n",
    "\n",
    "    # Print orders\n",
    "    col_names = [title]\n",
    "    print_lists([cnn2_schluze_max_order],tile_label,col_names)\n",
    "\n",
    "\n",
    "    #Displays distribution of ranking\n",
    "    cnn_ss_no_dupes = np.zeros([8,8],dtype=\"int64\")\n",
    "    for ss2 in ss_arr_order:\n",
    "        for i in range(len(ss2)):\n",
    "            ranking = int(ss2[i])\n",
    "            cnn_ss_no_dupes[7-ranking,i]+=1\n",
    "    print(cnn_ss_no_dupes)"
   ]
  },
  {
   "cell_type": "code",
   "execution_count": 11,
   "metadata": {},
   "outputs": [
    {
     "name": "stdout",
     "output_type": "stream",
     "text": [
      "    CNN2           \n",
      "1   P1             \n",
      "2   P2             \n",
      "3   Pot            \n",
      "4   Bench          \n",
      "5   Dish           \n",
      "6   Empty          \n",
      "7   Onion          \n",
      "8   Serve          \n",
      "[[    5    16    14   192     0 12948   483     0]\n",
      " [ 1696  3426   803  2768    28   661  3704   572]\n",
      " [ 2278  2764  1591  2450   133    47  2621  1774]\n",
      " [ 2898  1699  1453  1821   119     2  2525  3141]\n",
      " [ 3586  1741  1660  1260   202     0  1982  3227]\n",
      " [ 2095  1952  3298  1442   563     0  1376  2932]\n",
      " [ 1039  1800  3307  2075  2775     0   827  1835]\n",
      " [   61   260  1532  1650  9838     0   140   177]]\n"
     ]
    }
   ],
   "source": [
    "rank_stats(cnn2_stats, \"CNN2\")\n",
    "#The array represents the ranking of items (first row is number of occurences of a tile in rank 1, etc. The column indicates trhe type of tile. This is used in the poster.)"
   ]
  },
  {
   "cell_type": "code",
   "execution_count": 18,
   "metadata": {},
   "outputs": [
    {
     "name": "stdout",
     "output_type": "stream",
     "text": [
      "    Encoded CNN    \n",
      "1   Empty          \n",
      "2   P1             \n",
      "3   Bench          \n",
      "4   P2             \n",
      "5   Serve          \n",
      "6   Onion          \n",
      "7   Dish           \n",
      "8   Pot            \n",
      "[[1869   34  133  137  329 4748 1366 5042]\n",
      " [3283  108  362  258  762 2913 1169 4803]\n",
      " [4829  344  828  588 1327 1953 1403 2386]\n",
      " [2506 1103 1908 1376 2368 1500 1942  955]\n",
      " [ 819 2156 2438 2236 2271 1183 2219  336]\n",
      " [ 294 2871 2984 2567 2091  709 2044   98]\n",
      " [  51 3323 2882 3042 2301  445 1578   36]\n",
      " [   7 3719 2123 3454 2209  207 1937    2]]\n"
     ]
    }
   ],
   "source": [
    "rank_stats(cnne_stats, \"Encoded CNN\")\n",
    "#Ranked by backpropagated gradients, may not be valid for encoded CNN due to different input types\n",
    "#The array represents the ranking of items (first row is number of occurences of a tile in rank 1, etc. The column indicates trhe type of tile)"
   ]
  }
 ],
 "metadata": {
  "kernelspec": {
   "display_name": "pytorch",
   "language": "python",
   "name": "python3"
  },
  "language_info": {
   "codemirror_mode": {
    "name": "ipython",
    "version": 3
   },
   "file_extension": ".py",
   "mimetype": "text/x-python",
   "name": "python",
   "nbconvert_exporter": "python",
   "pygments_lexer": "ipython3",
   "version": "3.11.7"
  }
 },
 "nbformat": 4,
 "nbformat_minor": 2
}
