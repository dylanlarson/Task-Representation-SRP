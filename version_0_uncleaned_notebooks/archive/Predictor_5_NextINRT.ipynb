{
 "cells": [
  {
   "cell_type": "code",
   "execution_count": 1,
   "metadata": {},
   "outputs": [],
   "source": [
    "# If you run on google colab uncomment bellow comment\n",
    "# !pip install torchmetrics pytorch-lightning torchvision -qq\n",
    "# !pip install imutils\n",
    "\n",
    "import copy\n",
    "import os\n",
    "import random\n",
    "import numpy as np\n",
    "import pandas as pd\n",
    "import matplotlib.pyplot as plt\n",
    "import math\n",
    "from math import *\n",
    "\n",
    "import torch\n",
    "import torchvision\n",
    "from torchvision.datasets import GTSRB\n",
    "import torch.nn as nn\n",
    "from torchvision import transforms\n",
    "from torch.utils.data import DataLoader, random_split, Dataset\n",
    "from torchmetrics import Accuracy\n",
    "\n",
    "import lightning as pl # Pytorch lightning is a wrapper for pytorch that makes it easier to train models\n",
    "from lightning.pytorch.loggers import CSVLogger\n",
    "from lightning.pytorch.callbacks import Callback, ModelCheckpoint, EarlyStopping\n",
    "from lightning.pytorch.callbacks.progress import RichProgressBar\n",
    "from lightning.pytorch.callbacks.progress.rich_progress import RichProgressBarTheme\n",
    "\n",
    "\n",
    "from torch.optim.lr_scheduler import StepLR\n",
    "\n",
    "import os\n",
    "os.environ['KMP_DUPLICATE_LIB_OK']='True'\n",
    "\n",
    "BATCH_SIZE = 256 if torch.cuda.is_available() else 64\n",
    "# Define GPU number\n",
    "GPU_indx = 0\n",
    "device = torch.device(GPU_indx if torch.cuda.is_available() else 'cpu')\n",
    "num_workers = 0 # Set to your device\n",
    "torch.set_float32_matmul_precision('medium')\n",
    "import json"
   ]
  },
  {
   "cell_type": "code",
   "execution_count": 2,
   "metadata": {},
   "outputs": [],
   "source": [
    "dfs = pd.read_pickle(\"2019_hh_trials_all.pickle\")"
   ]
  },
  {
   "cell_type": "code",
   "execution_count": 3,
   "metadata": {},
   "outputs": [],
   "source": [
    "def next_inrt(player_idx,current_i,L,dfs,step=1):\n",
    "    for i in range(current_i,L,step):\n",
    "        row = dfs.iloc[i]\n",
    "\n",
    "        ja = row['joint_action']\n",
    "        ja = ja.replace(\"\\'\",\"\\\"\")\n",
    "        y_act = json.loads(ja)\n",
    "\n",
    "        #Output/GT\n",
    "        y = None\n",
    "\n",
    "        # for y_row in y_act: # action pair for each player\n",
    "        y_row = y_act[player_idx]\n",
    "        if y_row == 'INTERACT':\n",
    "            y=0\n",
    "        elif y_row[0]==1:\n",
    "            y=1\n",
    "        elif y_row[0]==-1:\n",
    "            y=2\n",
    "        elif y_row[1]==1:\n",
    "            y=3\n",
    "        elif y_row[1]==-1:\n",
    "            y=4\n",
    "        else: #No action\n",
    "            y=5\n",
    "\n",
    "        if row['time_left']==-1:\n",
    "            return None, -1\n",
    "        if y==0:\n",
    "            state = json.loads(row['state'])\n",
    "            player = state['players'][player_idx]\n",
    "            player_pos = (player['position'][0],player['position'][1])\n",
    "            player_or = (player['orientation'][0],player['orientation'][1])\n",
    "\n",
    "            player_look_pos = np.array([player_pos[0]+player_or[0],player_pos[1]+player_or[1]])\n",
    "            \n",
    "            return player_look_pos, i\n",
    "    \n",
    "    raise Exception(\"oh no\")\n",
    "    return None, -1"
   ]
  },
  {
   "cell_type": "code",
   "execution_count": 4,
   "metadata": {},
   "outputs": [
    {
     "name": "stdout",
     "output_type": "stream",
     "text": [
      "103141\n"
     ]
    }
   ],
   "source": [
    "#Fixed sized inputs for NN v2\n",
    "L = len(dfs)\n",
    "step = 1\n",
    "print(L)\n",
    "input_list = [] \n",
    "output_list = [] \n",
    "index_list = []\n",
    "map_list = []\n",
    "save_img_idx = -1\n",
    "target_list = ['X','P','O','D','S']\n",
    "# Processing into array for NN\n",
    "nxt_inrt_idx = [-1,-1]\n",
    "nxt_inrt_pos = [[0,0],[0,0]]\n",
    "\n",
    "for i in range(0,L,step):\n",
    "    row = dfs.iloc[i]\n",
    "\n",
    "    ja = row['joint_action']\n",
    "    ja = ja.replace(\"\\'\",\"\\\"\")\n",
    "    y_act = json.loads(ja)\n",
    "\n",
    "    #Add entry for both players\n",
    "    for player_idx in [0,1]:\n",
    "        #Output/GT\n",
    "        y = 0\n",
    "\n",
    "        # for y_row in y_act: # action pair for each player\n",
    "        y_row = y_act[player_idx]\n",
    "        if y_row == 'INTERACT':\n",
    "            y=0\n",
    "        elif y_row[0]==1:\n",
    "            y=1\n",
    "        elif y_row[0]==-1:\n",
    "            y=2\n",
    "        elif y_row[1]==1:\n",
    "            y=3\n",
    "        elif y_row[1]==-1:\n",
    "            y=4\n",
    "        else: #No action\n",
    "            y=5\n",
    "\n",
    "        if y!=5:\n",
    "            save_img_idx+=1\n",
    "        if y!=5 and row['time_left']!=-1: #Filters out wait actions\n",
    "            \n",
    "            # if i>nxt_inrt_idx[player_idx]:\n",
    "            nxt_inrt_pos[player_idx], nxt_inrt_idx[player_idx] = next_inrt(player_idx,i,L, dfs, step)\n",
    "            # print(nxt_inrt_pos[player_idx], nxt_inrt_idx[player_idx], player_idx)\n",
    "            if nxt_inrt_pos[player_idx] is None:\n",
    "                break\n",
    "\n",
    "\n",
    "            future_row = dfs.iloc[i+1]\n",
    "            future_state = json.loads(future_row['state'])\n",
    "            state = json.loads(row['state'])\n",
    "            player = state['players'][player_idx]\n",
    "            player_pos = (player['position'][0],player['position'][1])\n",
    "            player_or = (player['orientation'][0],player['orientation'][1])\n",
    "            future_player = future_state['players'][player_idx]\n",
    "            future_player_pos = (future_player['position'][0],future_player['position'][1])\n",
    "            future_player_or = (future_player['orientation'][0],player['orientation'][1])\n",
    "            if future_player_pos==player_pos and future_player_or==player_or and y!=0:#if action made no change and is not interact\n",
    "                pass\n",
    "            else:\n",
    "                # Map layout data\n",
    "                # 0 - Map exists 0/1\n",
    "                # 1 - Bench (X) 0/1\n",
    "                # 2 - Pot 0/1\n",
    "                # 3 - Onion Source 0/1\n",
    "                # 4 - Dish Source 0/1\n",
    "                # 5 - Serving 0/1\n",
    "                # 6 - Pot onions 0-3\n",
    "                # 7 - Pot tick 0-20\n",
    "                # 8 - Placed onions 0/1 incl. player held\n",
    "                # 9 - Placed dishes 0/1 incl. player held\n",
    "                # 10 - placed soups 0/1 incl. player held\n",
    "                # 11 - P1 O1 -1/0/1 @ Player location\n",
    "                # 12 - P1 O2 -1/0/1 @ Player location\n",
    "                # 13 - P2 O1 -1/0/1 @ player location\n",
    "                # 14 - P2 O2 -1/0/1 @ player location\n",
    "                \n",
    "                map_layout = row['layout']\n",
    "                map_layout = map_layout.replace(\"\\'\",\"\\\"\")\n",
    "                map_layout = json.loads(map_layout)\n",
    "\n",
    "                x = np.zeros([15,5,9]) #biggest map size\n",
    "                pot_locations = []\n",
    "\n",
    "                ## partial 8-10, 11-14\n",
    "                state = json.loads(row['state'])\n",
    "\n",
    "                for player in [state['players'][player_idx], state['players'][(player_idx+1)%2]]:\n",
    "                    #Position\n",
    "                    player_pos = (player['position'][0],player['position'][1])\n",
    "                    #Orientation\n",
    "                    player_or = (player['orientation'][0],player['orientation'][1])\n",
    "\n",
    "                    or_idx = 11\n",
    "                    if player_idx==1:\n",
    "                        or_idx = 13\n",
    "                    \n",
    "                    x[or_idx, player_pos[1],player_pos[0]] = player_or[0]\n",
    "                    x[or_idx+1, player_pos[1],player_pos[0]] = player_or[1]\n",
    "\n",
    "                    #Held object converter\n",
    "                    if player[\"held_object\"] is None:\n",
    "                        pass\n",
    "                    else:\n",
    "                        if player[\"held_object\"]['name'] == \"onion\":\n",
    "                            x[8, player_pos[1],player_pos[0]] = 1\n",
    "                        elif player[\"held_object\"]['name'] == \"dish\":\n",
    "                            x[9, player_pos[1],player_pos[0]] = 1\n",
    "                        elif player[\"held_object\"]['name'] == \"soup\":\n",
    "                            x[10, player_pos[1],player_pos[0]] = 1\n",
    "                        else:\n",
    "                            print(\"unknown held item\", player[\"held_object\"]['name'])\n",
    "\n",
    "                ## 0-5\n",
    "                for map_row_idx in range(len(map_layout)):\n",
    "                    for map_col_idx in range(len(map_layout[0])):\n",
    "\n",
    "                        # 0\n",
    "                        x[0,map_row_idx,map_col_idx]=1\n",
    "\n",
    "                        # 1-5\n",
    "                        tile = map_layout[map_row_idx][map_col_idx]\n",
    "                        for target_idx in range(len(target_list)):\n",
    "                            if target_list[target_idx] == tile:\n",
    "                                x[target_idx+1, map_row_idx,map_col_idx] = 1\n",
    "\n",
    "                ## partial 8-10, 6-7\n",
    "                object_list = state['objects']\n",
    "                for obj in object_list:\n",
    "                    obj_name = obj['name']\n",
    "                    obj_pos = obj['position']\n",
    "\n",
    "                    if obj_name == \"onion\":\n",
    "                        x[8, obj_pos[1],obj_pos[0]] = 1\n",
    "                    elif obj_name == \"dish\":\n",
    "                        x[9, obj_pos[1],obj_pos[0]] = 1\n",
    "                    elif obj_name == \"soup\":\n",
    "                        x[6, obj_pos[1],obj_pos[0]] = len(obj['_ingredients'])\n",
    "                        x[10, obj_pos[1],obj_pos[0]] = 1\n",
    "                        if obj['is_ready']:\n",
    "                            x[7, obj_pos[1],obj_pos[0]] = obj['cooking_tick']\n",
    "                \n",
    "                #{'name': 'soup', 'position': [4, 2], '_ingredients': [{'name': 'onion', 'position': [4, 2]}, {'name': 'onion', 'position': [4, 2]}, {'name': 'onion', 'position': [4, 2]}], 'cooking_tick': 20, 'is_cooking': False, 'is_ready': True, 'is_idle': False, 'cook_time': 20, '_cooking_tick': 20}\n",
    "                #{'name': 'soup', 'position': [8, 3], '_ingredients': [{'name': 'onion', 'position': [8, 3]}, {'name': 'onion', 'position': [8, 3]}, {'name': 'onion', 'position': [8, 3]}], 'cooking_tick': 20, 'is_cooking': False, 'is_ready': True, 'is_idle': False, 'cook_time': 20, '_cooking_tick': 20}\n",
    "                index_list.append((save_img_idx,player_idx))\n",
    "                input_list.append(x)\n",
    "                output_list.append(nxt_inrt_pos[player_idx])\n"
   ]
  },
  {
   "cell_type": "code",
   "execution_count": 5,
   "metadata": {},
   "outputs": [
    {
     "name": "stdout",
     "output_type": "stream",
     "text": [
      "66349\n"
     ]
    }
   ],
   "source": [
    "# print(input_list[0].shape)\n",
    "print(len(input_list))"
   ]
  },
  {
   "cell_type": "code",
   "execution_count": 6,
   "metadata": {},
   "outputs": [],
   "source": [
    "# RANDOM\n",
    "np.random.seed(1234)\n",
    "list_train_input = []\n",
    "list_train_output = []\n",
    "list_train_index = []\n",
    "\n",
    "list_valtest_input = []\n",
    "list_valtest_output = []\n",
    "list_valtest_index = []\n",
    "\n",
    "train_prob = 0.7\n",
    "no_samples = len(input_list)\n",
    "\n",
    "means = np.zeros([15])\n",
    "stds = np.zeros([15])\n",
    "count = 0\n",
    "for split_idx in range(no_samples):\n",
    "    rand_float = np.random.rand()\n",
    "    if rand_float<train_prob:\n",
    "        list_train_input.append(input_list[split_idx])\n",
    "        list_train_output.append(output_list[split_idx])\n",
    "        list_train_index.append(index_list[split_idx])\n",
    "    else:\n",
    "        list_valtest_input.append(input_list[split_idx])\n",
    "        list_valtest_output.append(output_list[split_idx])\n",
    "        list_valtest_index.append(index_list[split_idx])\n",
    "\n",
    "    x = input_list[split_idx]\n",
    "    # print(x.shape)\n",
    "    x=x.reshape(x.shape[0],x.shape[1]*x.shape[2])\n",
    "    ch_mean = np.mean(x,axis=1)\n",
    "    ch_std = np.std(x,axis=1)\n",
    "    # print(x.shape,ch_std,ch_std.shape)\n",
    "    means += ch_mean\n",
    "    stds +=ch_std\n",
    "    count+=1\n",
    "\n",
    "means = (means/count).tolist()\n",
    "stds = (stds/count).tolist()\n",
    "np.random.seed()"
   ]
  },
  {
   "cell_type": "code",
   "execution_count": 7,
   "metadata": {},
   "outputs": [],
   "source": [
    "# Dataset Class\n",
    "class OCData(Dataset):\n",
    "    def __init__(self, input_list, output_list, z,  transform=None):\n",
    "        self.input = input_list\n",
    "        self.output = output_list\n",
    "        self.transform = transform\n",
    "        self.z = z\n",
    "    def __len__(self):\n",
    "        return len(self.output)\n",
    "\n",
    "    def __getitem__(self, idx):\n",
    "        x = self.input[idx]\n",
    "        y = self.output[idx]\n",
    "        x = torch.tensor(x,dtype=torch.float32).to(device=device)\n",
    "        y = torch.tensor(y,dtype=torch.float32).to(device=device)\n",
    "        z = self.z[idx]\n",
    "        # If there is a transform, apply it here to your sample\n",
    "        \n",
    "        if self.transform is not None:\n",
    "            x = self.transform(x)\n",
    "           \n",
    "        return x,y,z"
   ]
  },
  {
   "cell_type": "code",
   "execution_count": 8,
   "metadata": {},
   "outputs": [],
   "source": [
    "data_transforms = transforms.Compose([\n",
    "    # Convert the image to a PyTorch tensor\n",
    "    transforms.Normalize(mean=means,std=stds)\n",
    "])"
   ]
  },
  {
   "cell_type": "code",
   "execution_count": 9,
   "metadata": {},
   "outputs": [],
   "source": [
    "train_set = OCData(list_train_input,list_train_output, list_train_index,transform=data_transforms)\n",
    "val_set = OCData(list_valtest_input,list_valtest_output, list_valtest_index,transform=data_transforms)\n",
    "# print(np.array(input_list).shape)\n",
    "# Split the train set into training, validation and test\n",
    "val_set, test_set = random_split(val_set, [int(len(val_set)*0.5), len(val_set) - int(len(val_set)*0.5)])\n",
    "\n",
    "# Create Dataloaders again with features generated from pre-trained CNN model\n",
    "train_loader = DataLoader(train_set, batch_size=BATCH_SIZE, shuffle=True, num_workers=num_workers)#,persistent_workers=True)\n",
    "valid_loader = DataLoader(val_set, batch_size=BATCH_SIZE, shuffle=False, num_workers=num_workers)#, persistent_workers=True)\n",
    "test_loader = DataLoader(test_set, batch_size=BATCH_SIZE, shuffle=False, num_workers=num_workers)"
   ]
  },
  {
   "cell_type": "code",
   "execution_count": 10,
   "metadata": {},
   "outputs": [],
   "source": [
    "# We will use modular convolutional blocks. \n",
    "# Define a convolutional layer along with an activation function\n",
    "# Remember, you can use other techniques you have learnt from the lectures and workshops such as dropout, batchnorm, pooling etc.\n",
    "\n",
    "class ConvBlock(nn.Module):\n",
    "\n",
    "    def __init__(self, channels_in, channels_out,stride=1):\n",
    "        super(ConvBlock, self).__init__()     # Call constructor\n",
    "        middle_channel = (channels_in+channels_out)//2\n",
    "        print(middle_channel)\n",
    "        self.conv1 = nn.Conv2d(in_channels=channels_in,out_channels=middle_channel, kernel_size=3,stride=stride, padding=1)\n",
    "        self.conv2 = nn.Conv2d(in_channels=middle_channel,out_channels=channels_out, kernel_size=3,stride=stride, padding=1)\n",
    "        self.activ = nn.LeakyReLU()\n",
    "        #self.batchnorm1 = nn.BatchNorm2d(middle_channel)\n",
    "        #self.batchnorm2 = nn.BatchNorm2d(channels_out)\n",
    "\n",
    "    def forward(self, x):\n",
    "        x = self.conv1(x)\n",
    "        x = self.activ(x)\n",
    "\n",
    "        x = self.conv2(x)\n",
    "        x = self.activ(x)\n",
    "        return x\n",
    "\n",
    "#Let's create a simple CNN for image classification\n",
    "class Simple_CNN(pl.LightningModule):\n",
    "    \n",
    "    def __init__(self, num_classes=2, learning_rate=1e-3):\n",
    "        super().__init__()\n",
    "        \n",
    "        self.learning_rate = learning_rate\n",
    "        self.num_classes = num_classes\n",
    "        self.criterion = nn.MSELoss()\n",
    "        \n",
    "        # Initialise at least 2 convolutional blocks with\n",
    "        self.conv_blk1 = ConvBlock(15, 32)\n",
    "        self.conv_blk2 = ConvBlock(32, 64)\n",
    "        \n",
    "        # You can use other layers too, feel free to define them here\n",
    "        self.pool = nn.MaxPool2d(2)\n",
    "        self.gap = nn.AdaptiveAvgPool2d(output_size=9)\n",
    "        self.dropout = nn.Dropout(0.15)\n",
    "        \n",
    "        # You will need to define your fully connected layer:\n",
    "        self.fc1 = nn.Linear(64*9*9,256)\n",
    "        self.fc2 = nn.Linear(256,128)\n",
    "        self.fc3 = nn.Linear(128, num_classes)\n",
    "\n",
    "        self.leaky_relu = nn.LeakyReLU()\n",
    "        \n",
    "        \n",
    "        \n",
    "    def forward(self, x):\n",
    "        x = self.dropout(x)\n",
    "        x = self.conv_blk1(x)\n",
    "        # x = self.pool(x)\n",
    "        x = self.conv_blk2(x)\n",
    "        x = self.gap(x)\n",
    "\n",
    "        x = torch.flatten(x,start_dim=1)\n",
    "        x = self.dropout(x)\n",
    "        x = self.leaky_relu(self.fc1(x))\n",
    "        x = self.leaky_relu(self.fc2(x))\n",
    "        x = self.leaky_relu(self.fc3(x))\n",
    "\n",
    "        return x\n",
    "    \n",
    "    def training_step(self, batch, batch_idx):\n",
    "        x, y, z= batch\n",
    "        logits = self(x)\n",
    "        loss = self.criterion(logits, y)\n",
    "\n",
    "\n",
    "        # Record accuracy and loss\n",
    "        # Log anything you think necessary\n",
    "        train_dict = {\"train_loss\": loss,\n",
    "                    \"epoch\": self.current_epoch}\n",
    "        \n",
    "        self.log_dict(train_dict, prog_bar=True, on_step=False, on_epoch=True)\n",
    "\n",
    "        return loss\n",
    "\n",
    "    def validation_step(self, batch, batch_idx):\n",
    "        x, y, z= batch\n",
    "        logits = self(x)\n",
    "        loss = self.criterion(logits, y)\n",
    "\n",
    "\n",
    "        # Record accuracy and loss\n",
    "        # Log anything you think necessary\n",
    "        val_dict = {\"val_loss\": loss,\n",
    "                    \"epoch\": self.current_epoch}\n",
    "        \n",
    "        self.log_dict(val_dict, prog_bar=True, on_step=False, on_epoch=True)\n",
    "    \n",
    "        \n",
    "\n",
    "    def test_step(self, batch, batch_idx):\n",
    "        x, y, z= batch\n",
    "        logits = self(x)\n",
    "        loss = self.criterion(logits, y)\n",
    "\n",
    "        # Record accuracy and loss\n",
    "        # Log anything you think necessary\n",
    "        test_dict = {\"test_loss\": loss,\n",
    "                    \"epoch\": self.current_epoch}\n",
    "        \n",
    "        self.log_dict(test_dict, prog_bar=True, on_step=False, on_epoch=True)\n",
    "\n",
    "        return logits, x, y\n",
    "    \n",
    "    def predict_step(self, batch, batch_idx):\n",
    "        x, y, z = batch\n",
    "        logits = self(x)\n",
    "        loss = self.criterion(logits, y)\n",
    "\n",
    "        return logits, logits, x, y, z\n",
    "\n",
    "        \n",
    "\n",
    "    def configure_optimizers(self):\n",
    "        optimizer = torch.optim.Adam(self.parameters(),self.learning_rate)\n",
    "        return optimizer\n",
    "\n",
    "    ##########\n",
    "    # DATA RELATED HOOKS\n",
    "    ##########\n",
    "\n",
    "    def train_dataloader(self):\n",
    "        return train_loader\n",
    "    def val_dataloader(self):\n",
    "        return valid_loader\n",
    "    def test_dataloader(self):\n",
    "        return test_loader"
   ]
  },
  {
   "cell_type": "code",
   "execution_count": 11,
   "metadata": {},
   "outputs": [
    {
     "name": "stdout",
     "output_type": "stream",
     "text": [
      "23\n",
      "48\n"
     ]
    },
    {
     "name": "stderr",
     "output_type": "stream",
     "text": [
      "GPU available: True (cuda), used: True\n",
      "TPU available: False, using: 0 TPU cores\n",
      "IPU available: False, using: 0 IPUs\n",
      "HPU available: False, using: 0 HPUs\n"
     ]
    }
   ],
   "source": [
    "# Initialize the CNN model\n",
    "max_epochs = 30 # Feel free to change this\n",
    "model_cnn = Simple_CNN()\n",
    "\n",
    "# Initialize checkpoint callback to save the best model using validation loss\n",
    "checkpoint_callback = ModelCheckpoint(\n",
    "        monitor=\"val_loss\",\n",
    "        dirpath=\"checkpoints_section/v5/\",\n",
    "        save_top_k=1,        \n",
    "        mode=\"min\",\n",
    "        every_n_epochs=1\n",
    "    )\n",
    "\n",
    "# Create customized progress bar theme (Optional)\n",
    "progress_bar_task = RichProgressBar(refresh_rate=1, leave=True,\n",
    "    theme=RichProgressBarTheme(\n",
    "        description=\"green_yellow\",\n",
    "        progress_bar=\"green1\",\n",
    "        progress_bar_finished=\"green1\",\n",
    "        progress_bar_pulse=\"#6206E0\",\n",
    "        batch_progress=\"green_yellow\",\n",
    "        time=\"grey82\",\n",
    "        processing_speed=\"grey82\",\n",
    "        metrics=\"grey82\"\n",
    "    )\n",
    ")\n",
    "\n",
    "# Call the Trainer and train the model\n",
    "# early_stopping = EarlyStopping('val_loss', patience = 10, mode = 'min')\n",
    "trainer_task = pl.Trainer(\n",
    "    accelerator=\"auto\",\n",
    "    devices=1, #if torch.cuda.is_available() else None,  # limiting got iPython runs\n",
    "    max_epochs=max_epochs,\n",
    "    callbacks=[progress_bar_task, checkpoint_callback],#,early_stopping],\n",
    "    logger=CSVLogger(save_dir=\"logs_task/v5/\"),\n",
    ")"
   ]
  },
  {
   "cell_type": "code",
   "execution_count": 12,
   "metadata": {},
   "outputs": [
    {
     "name": "stderr",
     "output_type": "stream",
     "text": [
      "c:\\Users\\shelb\\anaconda3\\envs\\pytorch\\Lib\\site-packages\\lightning\\pytorch\\callbacks\\model_checkpoint.py:617: UserWarning: Checkpoint directory D:\\SRP-Dylan\\checkpoints_section\\v5 exists and is not empty.\n",
      "  rank_zero_warn(f\"Checkpoint directory {dirpath} exists and is not empty.\")\n",
      "LOCAL_RANK: 0 - CUDA_VISIBLE_DEVICES: [0]\n"
     ]
    },
    {
     "data": {
      "text/html": [
       "<pre style=\"white-space:pre;overflow-x:auto;line-height:normal;font-family:Menlo,'DejaVu Sans Mono',consolas,'Courier New',monospace\">┏━━━┳━━━━━━━━━━━━┳━━━━━━━━━━━━━━━━━━━┳━━━━━━━━┓\n",
       "┃<span style=\"color: #800080; text-decoration-color: #800080; font-weight: bold\">   </span>┃<span style=\"color: #800080; text-decoration-color: #800080; font-weight: bold\"> Name       </span>┃<span style=\"color: #800080; text-decoration-color: #800080; font-weight: bold\"> Type              </span>┃<span style=\"color: #800080; text-decoration-color: #800080; font-weight: bold\"> Params </span>┃\n",
       "┡━━━╇━━━━━━━━━━━━╇━━━━━━━━━━━━━━━━━━━╇━━━━━━━━┩\n",
       "│<span style=\"color: #7f7f7f; text-decoration-color: #7f7f7f\"> 0 </span>│ criterion  │ MSELoss           │      0 │\n",
       "│<span style=\"color: #7f7f7f; text-decoration-color: #7f7f7f\"> 1 </span>│ conv_blk1  │ ConvBlock         │  9.8 K │\n",
       "│<span style=\"color: #7f7f7f; text-decoration-color: #7f7f7f\"> 2 </span>│ conv_blk2  │ ConvBlock         │ 41.6 K │\n",
       "│<span style=\"color: #7f7f7f; text-decoration-color: #7f7f7f\"> 3 </span>│ pool       │ MaxPool2d         │      0 │\n",
       "│<span style=\"color: #7f7f7f; text-decoration-color: #7f7f7f\"> 4 </span>│ gap        │ AdaptiveAvgPool2d │      0 │\n",
       "│<span style=\"color: #7f7f7f; text-decoration-color: #7f7f7f\"> 5 </span>│ dropout    │ Dropout           │      0 │\n",
       "│<span style=\"color: #7f7f7f; text-decoration-color: #7f7f7f\"> 6 </span>│ fc1        │ Linear            │  1.3 M │\n",
       "│<span style=\"color: #7f7f7f; text-decoration-color: #7f7f7f\"> 7 </span>│ fc2        │ Linear            │ 32.9 K │\n",
       "│<span style=\"color: #7f7f7f; text-decoration-color: #7f7f7f\"> 8 </span>│ fc3        │ Linear            │    258 │\n",
       "│<span style=\"color: #7f7f7f; text-decoration-color: #7f7f7f\"> 9 </span>│ leaky_relu │ LeakyReLU         │      0 │\n",
       "└───┴────────────┴───────────────────┴────────┘\n",
       "</pre>\n"
      ],
      "text/plain": [
       "┏━━━┳━━━━━━━━━━━━┳━━━━━━━━━━━━━━━━━━━┳━━━━━━━━┓\n",
       "┃\u001b[1;35m \u001b[0m\u001b[1;35m \u001b[0m\u001b[1;35m \u001b[0m┃\u001b[1;35m \u001b[0m\u001b[1;35mName      \u001b[0m\u001b[1;35m \u001b[0m┃\u001b[1;35m \u001b[0m\u001b[1;35mType             \u001b[0m\u001b[1;35m \u001b[0m┃\u001b[1;35m \u001b[0m\u001b[1;35mParams\u001b[0m\u001b[1;35m \u001b[0m┃\n",
       "┡━━━╇━━━━━━━━━━━━╇━━━━━━━━━━━━━━━━━━━╇━━━━━━━━┩\n",
       "│\u001b[2m \u001b[0m\u001b[2m0\u001b[0m\u001b[2m \u001b[0m│ criterion  │ MSELoss           │      0 │\n",
       "│\u001b[2m \u001b[0m\u001b[2m1\u001b[0m\u001b[2m \u001b[0m│ conv_blk1  │ ConvBlock         │  9.8 K │\n",
       "│\u001b[2m \u001b[0m\u001b[2m2\u001b[0m\u001b[2m \u001b[0m│ conv_blk2  │ ConvBlock         │ 41.6 K │\n",
       "│\u001b[2m \u001b[0m\u001b[2m3\u001b[0m\u001b[2m \u001b[0m│ pool       │ MaxPool2d         │      0 │\n",
       "│\u001b[2m \u001b[0m\u001b[2m4\u001b[0m\u001b[2m \u001b[0m│ gap        │ AdaptiveAvgPool2d │      0 │\n",
       "│\u001b[2m \u001b[0m\u001b[2m5\u001b[0m\u001b[2m \u001b[0m│ dropout    │ Dropout           │      0 │\n",
       "│\u001b[2m \u001b[0m\u001b[2m6\u001b[0m\u001b[2m \u001b[0m│ fc1        │ Linear            │  1.3 M │\n",
       "│\u001b[2m \u001b[0m\u001b[2m7\u001b[0m\u001b[2m \u001b[0m│ fc2        │ Linear            │ 32.9 K │\n",
       "│\u001b[2m \u001b[0m\u001b[2m8\u001b[0m\u001b[2m \u001b[0m│ fc3        │ Linear            │    258 │\n",
       "│\u001b[2m \u001b[0m\u001b[2m9\u001b[0m\u001b[2m \u001b[0m│ leaky_relu │ LeakyReLU         │      0 │\n",
       "└───┴────────────┴───────────────────┴────────┘\n"
      ]
     },
     "metadata": {},
     "output_type": "display_data"
    },
    {
     "data": {
      "text/html": [
       "<pre style=\"white-space:pre;overflow-x:auto;line-height:normal;font-family:Menlo,'DejaVu Sans Mono',consolas,'Courier New',monospace\"><span style=\"font-weight: bold\">Trainable params</span>: 1.4 M                                                                                            \n",
       "<span style=\"font-weight: bold\">Non-trainable params</span>: 0                                                                                            \n",
       "<span style=\"font-weight: bold\">Total params</span>: 1.4 M                                                                                                \n",
       "<span style=\"font-weight: bold\">Total estimated model params size (MB)</span>: 5                                                                          \n",
       "</pre>\n"
      ],
      "text/plain": [
       "\u001b[1mTrainable params\u001b[0m: 1.4 M                                                                                            \n",
       "\u001b[1mNon-trainable params\u001b[0m: 0                                                                                            \n",
       "\u001b[1mTotal params\u001b[0m: 1.4 M                                                                                                \n",
       "\u001b[1mTotal estimated model params size (MB)\u001b[0m: 5                                                                          \n"
      ]
     },
     "metadata": {},
     "output_type": "display_data"
    },
    {
     "data": {
      "application/vnd.jupyter.widget-view+json": {
       "model_id": "d4df5f78e12e4dbeb949d9ce4523d03a",
       "version_major": 2,
       "version_minor": 0
      },
      "text/plain": [
       "Output()"
      ]
     },
     "metadata": {},
     "output_type": "display_data"
    },
    {
     "data": {
      "text/html": [
       "<pre style=\"white-space:pre;overflow-x:auto;line-height:normal;font-family:Menlo,'DejaVu Sans Mono',consolas,'Courier New',monospace\">c:\\Users\\shelb\\anaconda3\\envs\\pytorch\\Lib\\site-packages\\lightning\\pytorch\\trainer\\connectors\\data_connector.py:442:\n",
       "PossibleUserWarning: The dataloader, val_dataloader, does not have many workers which may be a bottleneck. Consider\n",
       "increasing the value of the `num_workers` argument` (try 16 which is the number of cpus on this machine) in the \n",
       "`DataLoader` init to improve performance.\n",
       "  rank_zero_warn(\n",
       "</pre>\n"
      ],
      "text/plain": [
       "c:\\Users\\shelb\\anaconda3\\envs\\pytorch\\Lib\\site-packages\\lightning\\pytorch\\trainer\\connectors\\data_connector.py:442:\n",
       "PossibleUserWarning: The dataloader, val_dataloader, does not have many workers which may be a bottleneck. Consider\n",
       "increasing the value of the `num_workers` argument` (try 16 which is the number of cpus on this machine) in the \n",
       "`DataLoader` init to improve performance.\n",
       "  rank_zero_warn(\n"
      ]
     },
     "metadata": {},
     "output_type": "display_data"
    },
    {
     "data": {
      "text/html": [
       "<pre style=\"white-space:pre;overflow-x:auto;line-height:normal;font-family:Menlo,'DejaVu Sans Mono',consolas,'Courier New',monospace\">c:\\Users\\shelb\\anaconda3\\envs\\pytorch\\Lib\\site-packages\\lightning\\pytorch\\trainer\\connectors\\logger_connector\\resul\n",
       "t.py:212: UserWarning: You called `self.log('epoch', ...)` in your `validation_step` but the value needs to be \n",
       "floating point. Converting it to torch.float32.\n",
       "  warning_cache.warn(\n",
       "</pre>\n"
      ],
      "text/plain": [
       "c:\\Users\\shelb\\anaconda3\\envs\\pytorch\\Lib\\site-packages\\lightning\\pytorch\\trainer\\connectors\\logger_connector\\resul\n",
       "t.py:212: UserWarning: You called `self.log('epoch', ...)` in your `validation_step` but the value needs to be \n",
       "floating point. Converting it to torch.float32.\n",
       "  warning_cache.warn(\n"
      ]
     },
     "metadata": {},
     "output_type": "display_data"
    },
    {
     "data": {
      "text/html": [
       "<pre style=\"white-space:pre;overflow-x:auto;line-height:normal;font-family:Menlo,'DejaVu Sans Mono',consolas,'Courier New',monospace\">c:\\Users\\shelb\\anaconda3\\envs\\pytorch\\Lib\\site-packages\\lightning\\pytorch\\trainer\\connectors\\data_connector.py:442:\n",
       "PossibleUserWarning: The dataloader, train_dataloader, does not have many workers which may be a bottleneck. \n",
       "Consider increasing the value of the `num_workers` argument` (try 16 which is the number of cpus on this machine) \n",
       "in the `DataLoader` init to improve performance.\n",
       "  rank_zero_warn(\n",
       "</pre>\n"
      ],
      "text/plain": [
       "c:\\Users\\shelb\\anaconda3\\envs\\pytorch\\Lib\\site-packages\\lightning\\pytorch\\trainer\\connectors\\data_connector.py:442:\n",
       "PossibleUserWarning: The dataloader, train_dataloader, does not have many workers which may be a bottleneck. \n",
       "Consider increasing the value of the `num_workers` argument` (try 16 which is the number of cpus on this machine) \n",
       "in the `DataLoader` init to improve performance.\n",
       "  rank_zero_warn(\n"
      ]
     },
     "metadata": {},
     "output_type": "display_data"
    },
    {
     "data": {
      "text/html": [
       "<pre style=\"white-space:pre;overflow-x:auto;line-height:normal;font-family:Menlo,'DejaVu Sans Mono',consolas,'Courier New',monospace\">c:\\Users\\shelb\\anaconda3\\envs\\pytorch\\Lib\\site-packages\\lightning\\pytorch\\trainer\\connectors\\logger_connector\\resul\n",
       "t.py:212: UserWarning: You called `self.log('epoch', ...)` in your `training_step` but the value needs to be \n",
       "floating point. Converting it to torch.float32.\n",
       "  warning_cache.warn(\n",
       "</pre>\n"
      ],
      "text/plain": [
       "c:\\Users\\shelb\\anaconda3\\envs\\pytorch\\Lib\\site-packages\\lightning\\pytorch\\trainer\\connectors\\logger_connector\\resul\n",
       "t.py:212: UserWarning: You called `self.log('epoch', ...)` in your `training_step` but the value needs to be \n",
       "floating point. Converting it to torch.float32.\n",
       "  warning_cache.warn(\n"
      ]
     },
     "metadata": {},
     "output_type": "display_data"
    },
    {
     "data": {
      "text/html": [
       "<pre style=\"white-space:pre;overflow-x:auto;line-height:normal;font-family:Menlo,'DejaVu Sans Mono',consolas,'Courier New',monospace\"></pre>\n"
      ],
      "text/plain": []
     },
     "metadata": {},
     "output_type": "display_data"
    },
    {
     "data": {
      "text/html": [
       "<pre style=\"white-space:pre;overflow-x:auto;line-height:normal;font-family:Menlo,'DejaVu Sans Mono',consolas,'Courier New',monospace\">\n",
       "</pre>\n"
      ],
      "text/plain": [
       "\n"
      ]
     },
     "metadata": {},
     "output_type": "display_data"
    },
    {
     "data": {
      "application/vnd.jupyter.widget-view+json": {
       "model_id": "494072f1cc294b25a0cf6254d8c65e86",
       "version_major": 2,
       "version_minor": 0
      },
      "text/plain": [
       "Output()"
      ]
     },
     "metadata": {},
     "output_type": "display_data"
    },
    {
     "data": {
      "text/html": [
       "<pre style=\"white-space:pre;overflow-x:auto;line-height:normal;font-family:Menlo,'DejaVu Sans Mono',consolas,'Courier New',monospace\"></pre>\n"
      ],
      "text/plain": []
     },
     "metadata": {},
     "output_type": "display_data"
    },
    {
     "data": {
      "text/html": [
       "<pre style=\"white-space:pre;overflow-x:auto;line-height:normal;font-family:Menlo,'DejaVu Sans Mono',consolas,'Courier New',monospace\">\n",
       "</pre>\n"
      ],
      "text/plain": [
       "\n"
      ]
     },
     "metadata": {},
     "output_type": "display_data"
    },
    {
     "data": {
      "application/vnd.jupyter.widget-view+json": {
       "model_id": "00899a7cb07b42eebca6dc2b0c11aff1",
       "version_major": 2,
       "version_minor": 0
      },
      "text/plain": [
       "Output()"
      ]
     },
     "metadata": {},
     "output_type": "display_data"
    },
    {
     "data": {
      "text/html": [
       "<pre style=\"white-space:pre;overflow-x:auto;line-height:normal;font-family:Menlo,'DejaVu Sans Mono',consolas,'Courier New',monospace\"></pre>\n"
      ],
      "text/plain": []
     },
     "metadata": {},
     "output_type": "display_data"
    },
    {
     "data": {
      "text/html": [
       "<pre style=\"white-space:pre;overflow-x:auto;line-height:normal;font-family:Menlo,'DejaVu Sans Mono',consolas,'Courier New',monospace\">\n",
       "</pre>\n"
      ],
      "text/plain": [
       "\n"
      ]
     },
     "metadata": {},
     "output_type": "display_data"
    },
    {
     "data": {
      "application/vnd.jupyter.widget-view+json": {
       "model_id": "7ad970c1127441d3a6cbbabda84df52b",
       "version_major": 2,
       "version_minor": 0
      },
      "text/plain": [
       "Output()"
      ]
     },
     "metadata": {},
     "output_type": "display_data"
    },
    {
     "data": {
      "text/html": [
       "<pre style=\"white-space:pre;overflow-x:auto;line-height:normal;font-family:Menlo,'DejaVu Sans Mono',consolas,'Courier New',monospace\"></pre>\n"
      ],
      "text/plain": []
     },
     "metadata": {},
     "output_type": "display_data"
    },
    {
     "data": {
      "text/html": [
       "<pre style=\"white-space:pre;overflow-x:auto;line-height:normal;font-family:Menlo,'DejaVu Sans Mono',consolas,'Courier New',monospace\">\n",
       "</pre>\n"
      ],
      "text/plain": [
       "\n"
      ]
     },
     "metadata": {},
     "output_type": "display_data"
    },
    {
     "data": {
      "application/vnd.jupyter.widget-view+json": {
       "model_id": "4e153169c1b743789a2e5ce3d43ed060",
       "version_major": 2,
       "version_minor": 0
      },
      "text/plain": [
       "Output()"
      ]
     },
     "metadata": {},
     "output_type": "display_data"
    },
    {
     "data": {
      "text/html": [
       "<pre style=\"white-space:pre;overflow-x:auto;line-height:normal;font-family:Menlo,'DejaVu Sans Mono',consolas,'Courier New',monospace\"></pre>\n"
      ],
      "text/plain": []
     },
     "metadata": {},
     "output_type": "display_data"
    },
    {
     "data": {
      "text/html": [
       "<pre style=\"white-space:pre;overflow-x:auto;line-height:normal;font-family:Menlo,'DejaVu Sans Mono',consolas,'Courier New',monospace\">\n",
       "</pre>\n"
      ],
      "text/plain": [
       "\n"
      ]
     },
     "metadata": {},
     "output_type": "display_data"
    },
    {
     "data": {
      "application/vnd.jupyter.widget-view+json": {
       "model_id": "e6051f3ac3d6417f82dcbedc0f1e2782",
       "version_major": 2,
       "version_minor": 0
      },
      "text/plain": [
       "Output()"
      ]
     },
     "metadata": {},
     "output_type": "display_data"
    },
    {
     "data": {
      "text/html": [
       "<pre style=\"white-space:pre;overflow-x:auto;line-height:normal;font-family:Menlo,'DejaVu Sans Mono',consolas,'Courier New',monospace\"></pre>\n"
      ],
      "text/plain": []
     },
     "metadata": {},
     "output_type": "display_data"
    },
    {
     "data": {
      "text/html": [
       "<pre style=\"white-space:pre;overflow-x:auto;line-height:normal;font-family:Menlo,'DejaVu Sans Mono',consolas,'Courier New',monospace\">\n",
       "</pre>\n"
      ],
      "text/plain": [
       "\n"
      ]
     },
     "metadata": {},
     "output_type": "display_data"
    },
    {
     "data": {
      "application/vnd.jupyter.widget-view+json": {
       "model_id": "25cf188911794081972a2ab2be5cf3e7",
       "version_major": 2,
       "version_minor": 0
      },
      "text/plain": [
       "Output()"
      ]
     },
     "metadata": {},
     "output_type": "display_data"
    },
    {
     "data": {
      "text/html": [
       "<pre style=\"white-space:pre;overflow-x:auto;line-height:normal;font-family:Menlo,'DejaVu Sans Mono',consolas,'Courier New',monospace\"></pre>\n"
      ],
      "text/plain": []
     },
     "metadata": {},
     "output_type": "display_data"
    },
    {
     "data": {
      "text/html": [
       "<pre style=\"white-space:pre;overflow-x:auto;line-height:normal;font-family:Menlo,'DejaVu Sans Mono',consolas,'Courier New',monospace\">\n",
       "</pre>\n"
      ],
      "text/plain": [
       "\n"
      ]
     },
     "metadata": {},
     "output_type": "display_data"
    },
    {
     "data": {
      "application/vnd.jupyter.widget-view+json": {
       "model_id": "137b9fede5db49a6a86f7f89182913ed",
       "version_major": 2,
       "version_minor": 0
      },
      "text/plain": [
       "Output()"
      ]
     },
     "metadata": {},
     "output_type": "display_data"
    },
    {
     "data": {
      "text/html": [
       "<pre style=\"white-space:pre;overflow-x:auto;line-height:normal;font-family:Menlo,'DejaVu Sans Mono',consolas,'Courier New',monospace\"></pre>\n"
      ],
      "text/plain": []
     },
     "metadata": {},
     "output_type": "display_data"
    },
    {
     "data": {
      "text/html": [
       "<pre style=\"white-space:pre;overflow-x:auto;line-height:normal;font-family:Menlo,'DejaVu Sans Mono',consolas,'Courier New',monospace\">\n",
       "</pre>\n"
      ],
      "text/plain": [
       "\n"
      ]
     },
     "metadata": {},
     "output_type": "display_data"
    },
    {
     "data": {
      "application/vnd.jupyter.widget-view+json": {
       "model_id": "d5e4627194da432f96560d767754971c",
       "version_major": 2,
       "version_minor": 0
      },
      "text/plain": [
       "Output()"
      ]
     },
     "metadata": {},
     "output_type": "display_data"
    },
    {
     "data": {
      "text/html": [
       "<pre style=\"white-space:pre;overflow-x:auto;line-height:normal;font-family:Menlo,'DejaVu Sans Mono',consolas,'Courier New',monospace\"></pre>\n"
      ],
      "text/plain": []
     },
     "metadata": {},
     "output_type": "display_data"
    },
    {
     "data": {
      "text/html": [
       "<pre style=\"white-space:pre;overflow-x:auto;line-height:normal;font-family:Menlo,'DejaVu Sans Mono',consolas,'Courier New',monospace\">\n",
       "</pre>\n"
      ],
      "text/plain": [
       "\n"
      ]
     },
     "metadata": {},
     "output_type": "display_data"
    },
    {
     "data": {
      "application/vnd.jupyter.widget-view+json": {
       "model_id": "595bf611db054503845f7eb5f12204ea",
       "version_major": 2,
       "version_minor": 0
      },
      "text/plain": [
       "Output()"
      ]
     },
     "metadata": {},
     "output_type": "display_data"
    },
    {
     "data": {
      "text/html": [
       "<pre style=\"white-space:pre;overflow-x:auto;line-height:normal;font-family:Menlo,'DejaVu Sans Mono',consolas,'Courier New',monospace\"></pre>\n"
      ],
      "text/plain": []
     },
     "metadata": {},
     "output_type": "display_data"
    },
    {
     "data": {
      "text/html": [
       "<pre style=\"white-space:pre;overflow-x:auto;line-height:normal;font-family:Menlo,'DejaVu Sans Mono',consolas,'Courier New',monospace\">\n",
       "</pre>\n"
      ],
      "text/plain": [
       "\n"
      ]
     },
     "metadata": {},
     "output_type": "display_data"
    },
    {
     "data": {
      "application/vnd.jupyter.widget-view+json": {
       "model_id": "30577e5e72ed4f08bcd9164e29fe566c",
       "version_major": 2,
       "version_minor": 0
      },
      "text/plain": [
       "Output()"
      ]
     },
     "metadata": {},
     "output_type": "display_data"
    },
    {
     "data": {
      "text/html": [
       "<pre style=\"white-space:pre;overflow-x:auto;line-height:normal;font-family:Menlo,'DejaVu Sans Mono',consolas,'Courier New',monospace\"></pre>\n"
      ],
      "text/plain": []
     },
     "metadata": {},
     "output_type": "display_data"
    },
    {
     "data": {
      "text/html": [
       "<pre style=\"white-space:pre;overflow-x:auto;line-height:normal;font-family:Menlo,'DejaVu Sans Mono',consolas,'Courier New',monospace\">\n",
       "</pre>\n"
      ],
      "text/plain": [
       "\n"
      ]
     },
     "metadata": {},
     "output_type": "display_data"
    },
    {
     "data": {
      "application/vnd.jupyter.widget-view+json": {
       "model_id": "c17db41669144b0282230d98c2832fb7",
       "version_major": 2,
       "version_minor": 0
      },
      "text/plain": [
       "Output()"
      ]
     },
     "metadata": {},
     "output_type": "display_data"
    },
    {
     "data": {
      "text/html": [
       "<pre style=\"white-space:pre;overflow-x:auto;line-height:normal;font-family:Menlo,'DejaVu Sans Mono',consolas,'Courier New',monospace\"></pre>\n"
      ],
      "text/plain": []
     },
     "metadata": {},
     "output_type": "display_data"
    },
    {
     "data": {
      "text/html": [
       "<pre style=\"white-space:pre;overflow-x:auto;line-height:normal;font-family:Menlo,'DejaVu Sans Mono',consolas,'Courier New',monospace\">\n",
       "</pre>\n"
      ],
      "text/plain": [
       "\n"
      ]
     },
     "metadata": {},
     "output_type": "display_data"
    },
    {
     "data": {
      "application/vnd.jupyter.widget-view+json": {
       "model_id": "046794d831a840f78b425b2acebfdc3f",
       "version_major": 2,
       "version_minor": 0
      },
      "text/plain": [
       "Output()"
      ]
     },
     "metadata": {},
     "output_type": "display_data"
    },
    {
     "data": {
      "text/html": [
       "<pre style=\"white-space:pre;overflow-x:auto;line-height:normal;font-family:Menlo,'DejaVu Sans Mono',consolas,'Courier New',monospace\"></pre>\n"
      ],
      "text/plain": []
     },
     "metadata": {},
     "output_type": "display_data"
    },
    {
     "data": {
      "text/html": [
       "<pre style=\"white-space:pre;overflow-x:auto;line-height:normal;font-family:Menlo,'DejaVu Sans Mono',consolas,'Courier New',monospace\">\n",
       "</pre>\n"
      ],
      "text/plain": [
       "\n"
      ]
     },
     "metadata": {},
     "output_type": "display_data"
    },
    {
     "data": {
      "application/vnd.jupyter.widget-view+json": {
       "model_id": "e865bc99a0bc4e989e7d3a579449f6b4",
       "version_major": 2,
       "version_minor": 0
      },
      "text/plain": [
       "Output()"
      ]
     },
     "metadata": {},
     "output_type": "display_data"
    },
    {
     "data": {
      "text/html": [
       "<pre style=\"white-space:pre;overflow-x:auto;line-height:normal;font-family:Menlo,'DejaVu Sans Mono',consolas,'Courier New',monospace\"></pre>\n"
      ],
      "text/plain": []
     },
     "metadata": {},
     "output_type": "display_data"
    },
    {
     "data": {
      "text/html": [
       "<pre style=\"white-space:pre;overflow-x:auto;line-height:normal;font-family:Menlo,'DejaVu Sans Mono',consolas,'Courier New',monospace\">\n",
       "</pre>\n"
      ],
      "text/plain": [
       "\n"
      ]
     },
     "metadata": {},
     "output_type": "display_data"
    },
    {
     "data": {
      "application/vnd.jupyter.widget-view+json": {
       "model_id": "e7fa1c5f439946aea2bf3a8808027654",
       "version_major": 2,
       "version_minor": 0
      },
      "text/plain": [
       "Output()"
      ]
     },
     "metadata": {},
     "output_type": "display_data"
    },
    {
     "data": {
      "text/html": [
       "<pre style=\"white-space:pre;overflow-x:auto;line-height:normal;font-family:Menlo,'DejaVu Sans Mono',consolas,'Courier New',monospace\"></pre>\n"
      ],
      "text/plain": []
     },
     "metadata": {},
     "output_type": "display_data"
    },
    {
     "data": {
      "text/html": [
       "<pre style=\"white-space:pre;overflow-x:auto;line-height:normal;font-family:Menlo,'DejaVu Sans Mono',consolas,'Courier New',monospace\">\n",
       "</pre>\n"
      ],
      "text/plain": [
       "\n"
      ]
     },
     "metadata": {},
     "output_type": "display_data"
    },
    {
     "data": {
      "application/vnd.jupyter.widget-view+json": {
       "model_id": "70343cc287374d8484f04f4b5b166215",
       "version_major": 2,
       "version_minor": 0
      },
      "text/plain": [
       "Output()"
      ]
     },
     "metadata": {},
     "output_type": "display_data"
    },
    {
     "data": {
      "text/html": [
       "<pre style=\"white-space:pre;overflow-x:auto;line-height:normal;font-family:Menlo,'DejaVu Sans Mono',consolas,'Courier New',monospace\"></pre>\n"
      ],
      "text/plain": []
     },
     "metadata": {},
     "output_type": "display_data"
    },
    {
     "data": {
      "text/html": [
       "<pre style=\"white-space:pre;overflow-x:auto;line-height:normal;font-family:Menlo,'DejaVu Sans Mono',consolas,'Courier New',monospace\">\n",
       "</pre>\n"
      ],
      "text/plain": [
       "\n"
      ]
     },
     "metadata": {},
     "output_type": "display_data"
    },
    {
     "data": {
      "application/vnd.jupyter.widget-view+json": {
       "model_id": "31df466a8c1345ab81ad9c7217b93e50",
       "version_major": 2,
       "version_minor": 0
      },
      "text/plain": [
       "Output()"
      ]
     },
     "metadata": {},
     "output_type": "display_data"
    },
    {
     "data": {
      "text/html": [
       "<pre style=\"white-space:pre;overflow-x:auto;line-height:normal;font-family:Menlo,'DejaVu Sans Mono',consolas,'Courier New',monospace\"></pre>\n"
      ],
      "text/plain": []
     },
     "metadata": {},
     "output_type": "display_data"
    },
    {
     "data": {
      "text/html": [
       "<pre style=\"white-space:pre;overflow-x:auto;line-height:normal;font-family:Menlo,'DejaVu Sans Mono',consolas,'Courier New',monospace\">\n",
       "</pre>\n"
      ],
      "text/plain": [
       "\n"
      ]
     },
     "metadata": {},
     "output_type": "display_data"
    },
    {
     "data": {
      "application/vnd.jupyter.widget-view+json": {
       "model_id": "a1290dddb0c84977a9088db8d910a052",
       "version_major": 2,
       "version_minor": 0
      },
      "text/plain": [
       "Output()"
      ]
     },
     "metadata": {},
     "output_type": "display_data"
    },
    {
     "data": {
      "text/html": [
       "<pre style=\"white-space:pre;overflow-x:auto;line-height:normal;font-family:Menlo,'DejaVu Sans Mono',consolas,'Courier New',monospace\"></pre>\n"
      ],
      "text/plain": []
     },
     "metadata": {},
     "output_type": "display_data"
    },
    {
     "data": {
      "text/html": [
       "<pre style=\"white-space:pre;overflow-x:auto;line-height:normal;font-family:Menlo,'DejaVu Sans Mono',consolas,'Courier New',monospace\">\n",
       "</pre>\n"
      ],
      "text/plain": [
       "\n"
      ]
     },
     "metadata": {},
     "output_type": "display_data"
    },
    {
     "data": {
      "application/vnd.jupyter.widget-view+json": {
       "model_id": "c1579c45679c49e1b620d40ab609da04",
       "version_major": 2,
       "version_minor": 0
      },
      "text/plain": [
       "Output()"
      ]
     },
     "metadata": {},
     "output_type": "display_data"
    },
    {
     "data": {
      "text/html": [
       "<pre style=\"white-space:pre;overflow-x:auto;line-height:normal;font-family:Menlo,'DejaVu Sans Mono',consolas,'Courier New',monospace\"></pre>\n"
      ],
      "text/plain": []
     },
     "metadata": {},
     "output_type": "display_data"
    },
    {
     "data": {
      "text/html": [
       "<pre style=\"white-space:pre;overflow-x:auto;line-height:normal;font-family:Menlo,'DejaVu Sans Mono',consolas,'Courier New',monospace\">\n",
       "</pre>\n"
      ],
      "text/plain": [
       "\n"
      ]
     },
     "metadata": {},
     "output_type": "display_data"
    },
    {
     "data": {
      "application/vnd.jupyter.widget-view+json": {
       "model_id": "3b09774ea6c14dafbf6bcfd64ac5f9c6",
       "version_major": 2,
       "version_minor": 0
      },
      "text/plain": [
       "Output()"
      ]
     },
     "metadata": {},
     "output_type": "display_data"
    },
    {
     "data": {
      "text/html": [
       "<pre style=\"white-space:pre;overflow-x:auto;line-height:normal;font-family:Menlo,'DejaVu Sans Mono',consolas,'Courier New',monospace\"></pre>\n"
      ],
      "text/plain": []
     },
     "metadata": {},
     "output_type": "display_data"
    },
    {
     "data": {
      "text/html": [
       "<pre style=\"white-space:pre;overflow-x:auto;line-height:normal;font-family:Menlo,'DejaVu Sans Mono',consolas,'Courier New',monospace\">\n",
       "</pre>\n"
      ],
      "text/plain": [
       "\n"
      ]
     },
     "metadata": {},
     "output_type": "display_data"
    },
    {
     "data": {
      "application/vnd.jupyter.widget-view+json": {
       "model_id": "79504e0ae0c041e583b954c562903874",
       "version_major": 2,
       "version_minor": 0
      },
      "text/plain": [
       "Output()"
      ]
     },
     "metadata": {},
     "output_type": "display_data"
    },
    {
     "data": {
      "text/html": [
       "<pre style=\"white-space:pre;overflow-x:auto;line-height:normal;font-family:Menlo,'DejaVu Sans Mono',consolas,'Courier New',monospace\"></pre>\n"
      ],
      "text/plain": []
     },
     "metadata": {},
     "output_type": "display_data"
    },
    {
     "data": {
      "text/html": [
       "<pre style=\"white-space:pre;overflow-x:auto;line-height:normal;font-family:Menlo,'DejaVu Sans Mono',consolas,'Courier New',monospace\">\n",
       "</pre>\n"
      ],
      "text/plain": [
       "\n"
      ]
     },
     "metadata": {},
     "output_type": "display_data"
    },
    {
     "data": {
      "application/vnd.jupyter.widget-view+json": {
       "model_id": "702e7a142e1c4ed8bb2ca62775527531",
       "version_major": 2,
       "version_minor": 0
      },
      "text/plain": [
       "Output()"
      ]
     },
     "metadata": {},
     "output_type": "display_data"
    },
    {
     "data": {
      "text/html": [
       "<pre style=\"white-space:pre;overflow-x:auto;line-height:normal;font-family:Menlo,'DejaVu Sans Mono',consolas,'Courier New',monospace\"></pre>\n"
      ],
      "text/plain": []
     },
     "metadata": {},
     "output_type": "display_data"
    },
    {
     "data": {
      "text/html": [
       "<pre style=\"white-space:pre;overflow-x:auto;line-height:normal;font-family:Menlo,'DejaVu Sans Mono',consolas,'Courier New',monospace\">\n",
       "</pre>\n"
      ],
      "text/plain": [
       "\n"
      ]
     },
     "metadata": {},
     "output_type": "display_data"
    },
    {
     "data": {
      "application/vnd.jupyter.widget-view+json": {
       "model_id": "1412a0593f9f40c697b6530181222dfb",
       "version_major": 2,
       "version_minor": 0
      },
      "text/plain": [
       "Output()"
      ]
     },
     "metadata": {},
     "output_type": "display_data"
    },
    {
     "data": {
      "text/html": [
       "<pre style=\"white-space:pre;overflow-x:auto;line-height:normal;font-family:Menlo,'DejaVu Sans Mono',consolas,'Courier New',monospace\"></pre>\n"
      ],
      "text/plain": []
     },
     "metadata": {},
     "output_type": "display_data"
    },
    {
     "data": {
      "text/html": [
       "<pre style=\"white-space:pre;overflow-x:auto;line-height:normal;font-family:Menlo,'DejaVu Sans Mono',consolas,'Courier New',monospace\">\n",
       "</pre>\n"
      ],
      "text/plain": [
       "\n"
      ]
     },
     "metadata": {},
     "output_type": "display_data"
    },
    {
     "data": {
      "application/vnd.jupyter.widget-view+json": {
       "model_id": "b102bed5543245c5ad2f82840b4876b5",
       "version_major": 2,
       "version_minor": 0
      },
      "text/plain": [
       "Output()"
      ]
     },
     "metadata": {},
     "output_type": "display_data"
    },
    {
     "data": {
      "text/html": [
       "<pre style=\"white-space:pre;overflow-x:auto;line-height:normal;font-family:Menlo,'DejaVu Sans Mono',consolas,'Courier New',monospace\"></pre>\n"
      ],
      "text/plain": []
     },
     "metadata": {},
     "output_type": "display_data"
    },
    {
     "data": {
      "text/html": [
       "<pre style=\"white-space:pre;overflow-x:auto;line-height:normal;font-family:Menlo,'DejaVu Sans Mono',consolas,'Courier New',monospace\">\n",
       "</pre>\n"
      ],
      "text/plain": [
       "\n"
      ]
     },
     "metadata": {},
     "output_type": "display_data"
    },
    {
     "data": {
      "application/vnd.jupyter.widget-view+json": {
       "model_id": "7e3aa70bb9ef4944b5ed314772edc154",
       "version_major": 2,
       "version_minor": 0
      },
      "text/plain": [
       "Output()"
      ]
     },
     "metadata": {},
     "output_type": "display_data"
    },
    {
     "data": {
      "text/html": [
       "<pre style=\"white-space:pre;overflow-x:auto;line-height:normal;font-family:Menlo,'DejaVu Sans Mono',consolas,'Courier New',monospace\"></pre>\n"
      ],
      "text/plain": []
     },
     "metadata": {},
     "output_type": "display_data"
    },
    {
     "data": {
      "text/html": [
       "<pre style=\"white-space:pre;overflow-x:auto;line-height:normal;font-family:Menlo,'DejaVu Sans Mono',consolas,'Courier New',monospace\">\n",
       "</pre>\n"
      ],
      "text/plain": [
       "\n"
      ]
     },
     "metadata": {},
     "output_type": "display_data"
    },
    {
     "data": {
      "application/vnd.jupyter.widget-view+json": {
       "model_id": "d3e773e8aaeb469f8aab545bb0745bf3",
       "version_major": 2,
       "version_minor": 0
      },
      "text/plain": [
       "Output()"
      ]
     },
     "metadata": {},
     "output_type": "display_data"
    },
    {
     "data": {
      "text/html": [
       "<pre style=\"white-space:pre;overflow-x:auto;line-height:normal;font-family:Menlo,'DejaVu Sans Mono',consolas,'Courier New',monospace\"></pre>\n"
      ],
      "text/plain": []
     },
     "metadata": {},
     "output_type": "display_data"
    },
    {
     "data": {
      "text/html": [
       "<pre style=\"white-space:pre;overflow-x:auto;line-height:normal;font-family:Menlo,'DejaVu Sans Mono',consolas,'Courier New',monospace\">\n",
       "</pre>\n"
      ],
      "text/plain": [
       "\n"
      ]
     },
     "metadata": {},
     "output_type": "display_data"
    },
    {
     "data": {
      "application/vnd.jupyter.widget-view+json": {
       "model_id": "3315a1c1af754cc7bf6bf83ba6de77e4",
       "version_major": 2,
       "version_minor": 0
      },
      "text/plain": [
       "Output()"
      ]
     },
     "metadata": {},
     "output_type": "display_data"
    },
    {
     "data": {
      "text/html": [
       "<pre style=\"white-space:pre;overflow-x:auto;line-height:normal;font-family:Menlo,'DejaVu Sans Mono',consolas,'Courier New',monospace\"></pre>\n"
      ],
      "text/plain": []
     },
     "metadata": {},
     "output_type": "display_data"
    },
    {
     "data": {
      "text/html": [
       "<pre style=\"white-space:pre;overflow-x:auto;line-height:normal;font-family:Menlo,'DejaVu Sans Mono',consolas,'Courier New',monospace\">\n",
       "</pre>\n"
      ],
      "text/plain": [
       "\n"
      ]
     },
     "metadata": {},
     "output_type": "display_data"
    },
    {
     "data": {
      "application/vnd.jupyter.widget-view+json": {
       "model_id": "ce93cb07f2ab49b7af15343e6d67add7",
       "version_major": 2,
       "version_minor": 0
      },
      "text/plain": [
       "Output()"
      ]
     },
     "metadata": {},
     "output_type": "display_data"
    },
    {
     "data": {
      "text/html": [
       "<pre style=\"white-space:pre;overflow-x:auto;line-height:normal;font-family:Menlo,'DejaVu Sans Mono',consolas,'Courier New',monospace\"></pre>\n"
      ],
      "text/plain": []
     },
     "metadata": {},
     "output_type": "display_data"
    },
    {
     "data": {
      "text/html": [
       "<pre style=\"white-space:pre;overflow-x:auto;line-height:normal;font-family:Menlo,'DejaVu Sans Mono',consolas,'Courier New',monospace\">\n",
       "</pre>\n"
      ],
      "text/plain": [
       "\n"
      ]
     },
     "metadata": {},
     "output_type": "display_data"
    },
    {
     "data": {
      "application/vnd.jupyter.widget-view+json": {
       "model_id": "5c3e9e57aaf24ade87860e661709e19d",
       "version_major": 2,
       "version_minor": 0
      },
      "text/plain": [
       "Output()"
      ]
     },
     "metadata": {},
     "output_type": "display_data"
    },
    {
     "data": {
      "text/html": [
       "<pre style=\"white-space:pre;overflow-x:auto;line-height:normal;font-family:Menlo,'DejaVu Sans Mono',consolas,'Courier New',monospace\"></pre>\n"
      ],
      "text/plain": []
     },
     "metadata": {},
     "output_type": "display_data"
    },
    {
     "data": {
      "text/html": [
       "<pre style=\"white-space:pre;overflow-x:auto;line-height:normal;font-family:Menlo,'DejaVu Sans Mono',consolas,'Courier New',monospace\">\n",
       "</pre>\n"
      ],
      "text/plain": [
       "\n"
      ]
     },
     "metadata": {},
     "output_type": "display_data"
    },
    {
     "data": {
      "application/vnd.jupyter.widget-view+json": {
       "model_id": "0e41b34ecd064b0ea3ec234659d372c9",
       "version_major": 2,
       "version_minor": 0
      },
      "text/plain": [
       "Output()"
      ]
     },
     "metadata": {},
     "output_type": "display_data"
    },
    {
     "name": "stderr",
     "output_type": "stream",
     "text": [
      "`Trainer.fit` stopped: `max_epochs=30` reached.\n"
     ]
    },
    {
     "data": {
      "text/html": [
       "<pre style=\"white-space:pre;overflow-x:auto;line-height:normal;font-family:Menlo,'DejaVu Sans Mono',consolas,'Courier New',monospace\"></pre>\n"
      ],
      "text/plain": []
     },
     "metadata": {},
     "output_type": "display_data"
    },
    {
     "data": {
      "text/html": [
       "<pre style=\"white-space:pre;overflow-x:auto;line-height:normal;font-family:Menlo,'DejaVu Sans Mono',consolas,'Courier New',monospace\">\n",
       "</pre>\n"
      ],
      "text/plain": [
       "\n"
      ]
     },
     "metadata": {},
     "output_type": "display_data"
    }
   ],
   "source": [
    "trainer_task.fit(model_cnn)\n",
    "# model_cnn.load_from_checkpoint(\"/SRP-Dylan/checkpoints_section/v4/epoch=36-step=8399.ckpt\")"
   ]
  },
  {
   "cell_type": "code",
   "execution_count": 13,
   "metadata": {},
   "outputs": [],
   "source": [
    "torch.save(model_cnn,\"./models/v5/model30n.pt\")\n",
    "# model_cnn = torch.load(\"./models/v5/model.pt\")"
   ]
  },
  {
   "cell_type": "code",
   "execution_count": 14,
   "metadata": {},
   "outputs": [
    {
     "name": "stderr",
     "output_type": "stream",
     "text": [
      "LOCAL_RANK: 0 - CUDA_VISIBLE_DEVICES: [0]\n"
     ]
    },
    {
     "data": {
      "application/vnd.jupyter.widget-view+json": {
       "model_id": "8cc3f37435a44943806f5ce1f667adf1",
       "version_major": 2,
       "version_minor": 0
      },
      "text/plain": [
       "Output()"
      ]
     },
     "metadata": {},
     "output_type": "display_data"
    },
    {
     "data": {
      "text/html": [
       "<pre style=\"white-space:pre;overflow-x:auto;line-height:normal;font-family:Menlo,'DejaVu Sans Mono',consolas,'Courier New',monospace\">c:\\Users\\shelb\\anaconda3\\envs\\pytorch\\Lib\\site-packages\\lightning\\pytorch\\trainer\\connectors\\logger_connector\\resul\n",
       "t.py:212: UserWarning: You called `self.log('epoch', ...)` in your `test_step` but the value needs to be floating \n",
       "point. Converting it to torch.float32.\n",
       "  warning_cache.warn(\n",
       "</pre>\n"
      ],
      "text/plain": [
       "c:\\Users\\shelb\\anaconda3\\envs\\pytorch\\Lib\\site-packages\\lightning\\pytorch\\trainer\\connectors\\logger_connector\\resul\n",
       "t.py:212: UserWarning: You called `self.log('epoch', ...)` in your `test_step` but the value needs to be floating \n",
       "point. Converting it to torch.float32.\n",
       "  warning_cache.warn(\n"
      ]
     },
     "metadata": {},
     "output_type": "display_data"
    },
    {
     "name": "stderr",
     "output_type": "stream",
     "text": [
      "c:\\Users\\shelb\\anaconda3\\envs\\pytorch\\Lib\\site-packages\\lightning\\pytorch\\trainer\\connectors\\data_connector.py:442: PossibleUserWarning: The dataloader, test_dataloader, does not have many workers which may be a bottleneck. Consider increasing the value of the `num_workers` argument` (try 16 which is the number of cpus on this machine) in the `DataLoader` init to improve performance.\n",
      "  rank_zero_warn(\n"
     ]
    },
    {
     "data": {
      "text/html": [
       "<pre style=\"white-space:pre;overflow-x:auto;line-height:normal;font-family:Menlo,'DejaVu Sans Mono',consolas,'Courier New',monospace\">┏━━━━━━━━━━━━━━━━━━━━━━━━━━━┳━━━━━━━━━━━━━━━━━━━━━━━━━━━┓\n",
       "┃<span style=\"font-weight: bold\">   Runningstage.testing    </span>┃<span style=\"font-weight: bold\">                           </span>┃\n",
       "┃<span style=\"font-weight: bold\">          metric           </span>┃<span style=\"font-weight: bold\">       DataLoader 0        </span>┃\n",
       "┡━━━━━━━━━━━━━━━━━━━━━━━━━━━╇━━━━━━━━━━━━━━━━━━━━━━━━━━━┩\n",
       "│<span style=\"color: #008080; text-decoration-color: #008080\">           epoch           </span>│<span style=\"color: #800080; text-decoration-color: #800080\">           30.0            </span>│\n",
       "│<span style=\"color: #008080; text-decoration-color: #008080\">         test_loss         </span>│<span style=\"color: #800080; text-decoration-color: #800080\">    1.0024083852767944     </span>│\n",
       "└───────────────────────────┴───────────────────────────┘\n",
       "</pre>\n"
      ],
      "text/plain": [
       "┏━━━━━━━━━━━━━━━━━━━━━━━━━━━┳━━━━━━━━━━━━━━━━━━━━━━━━━━━┓\n",
       "┃\u001b[1m \u001b[0m\u001b[1m  Runningstage.testing   \u001b[0m\u001b[1m \u001b[0m┃\u001b[1m                           \u001b[0m┃\n",
       "┃\u001b[1m \u001b[0m\u001b[1m         metric          \u001b[0m\u001b[1m \u001b[0m┃\u001b[1m \u001b[0m\u001b[1m      DataLoader 0       \u001b[0m\u001b[1m \u001b[0m┃\n",
       "┡━━━━━━━━━━━━━━━━━━━━━━━━━━━╇━━━━━━━━━━━━━━━━━━━━━━━━━━━┩\n",
       "│\u001b[36m \u001b[0m\u001b[36m          epoch          \u001b[0m\u001b[36m \u001b[0m│\u001b[35m \u001b[0m\u001b[35m          30.0           \u001b[0m\u001b[35m \u001b[0m│\n",
       "│\u001b[36m \u001b[0m\u001b[36m        test_loss        \u001b[0m\u001b[36m \u001b[0m│\u001b[35m \u001b[0m\u001b[35m   1.0024083852767944    \u001b[0m\u001b[35m \u001b[0m│\n",
       "└───────────────────────────┴───────────────────────────┘\n"
      ]
     },
     "metadata": {},
     "output_type": "display_data"
    },
    {
     "data": {
      "text/html": [
       "<pre style=\"white-space:pre;overflow-x:auto;line-height:normal;font-family:Menlo,'DejaVu Sans Mono',consolas,'Courier New',monospace\"></pre>\n"
      ],
      "text/plain": []
     },
     "metadata": {},
     "output_type": "display_data"
    },
    {
     "data": {
      "text/html": [
       "<pre style=\"white-space:pre;overflow-x:auto;line-height:normal;font-family:Menlo,'DejaVu Sans Mono',consolas,'Courier New',monospace\">\n",
       "</pre>\n"
      ],
      "text/plain": [
       "\n"
      ]
     },
     "metadata": {},
     "output_type": "display_data"
    },
    {
     "data": {
      "text/plain": [
       "[{'test_loss': 1.0024083852767944, 'epoch': 30.0}]"
      ]
     },
     "execution_count": 14,
     "metadata": {},
     "output_type": "execute_result"
    }
   ],
   "source": [
    "trainer_task.test(model_cnn,test_loader)"
   ]
  },
  {
   "cell_type": "code",
   "execution_count": 15,
   "metadata": {},
   "outputs": [
    {
     "name": "stderr",
     "output_type": "stream",
     "text": [
      "LOCAL_RANK: 0 - CUDA_VISIBLE_DEVICES: [0]\n"
     ]
    },
    {
     "data": {
      "application/vnd.jupyter.widget-view+json": {
       "model_id": "c6218b474cd34bd7b7dca4b5198b6ff6",
       "version_major": 2,
       "version_minor": 0
      },
      "text/plain": [
       "Output()"
      ]
     },
     "metadata": {},
     "output_type": "display_data"
    },
    {
     "name": "stderr",
     "output_type": "stream",
     "text": [
      "c:\\Users\\shelb\\anaconda3\\envs\\pytorch\\Lib\\site-packages\\lightning\\pytorch\\trainer\\connectors\\data_connector.py:442: PossibleUserWarning: The dataloader, predict_dataloader, does not have many workers which may be a bottleneck. Consider increasing the value of the `num_workers` argument` (try 16 which is the number of cpus on this machine) in the `DataLoader` init to improve performance.\n",
      "  rank_zero_warn(\n"
     ]
    },
    {
     "data": {
      "text/html": [
       "<pre style=\"white-space:pre;overflow-x:auto;line-height:normal;font-family:Menlo,'DejaVu Sans Mono',consolas,'Courier New',monospace\"></pre>\n"
      ],
      "text/plain": []
     },
     "metadata": {},
     "output_type": "display_data"
    },
    {
     "data": {
      "text/html": [
       "<pre style=\"white-space:pre;overflow-x:auto;line-height:normal;font-family:Menlo,'DejaVu Sans Mono',consolas,'Courier New',monospace\">\n",
       "</pre>\n"
      ],
      "text/plain": [
       "\n"
      ]
     },
     "metadata": {},
     "output_type": "display_data"
    }
   ],
   "source": [
    "# Concatenate the predictions from multiple batches\n",
    "model_cnn.eval()\n",
    "predictions = trainer_task.predict(model_cnn,test_loader)\n",
    "test_img_index = []\n",
    "test_player_index = []\n",
    "for prediction in predictions:\n",
    "    idx1,idx2 =(prediction[4])\n",
    "    for idx11 in idx1:\n",
    "        test_img_index.append(idx11)\n",
    "    for idx22 in idx2:\n",
    "        test_player_index.append(idx22)\n",
    "test_outputs = torch.cat([prediction[1] for prediction in predictions], dim=0)  # Concatenate model outputs\n",
    "test_labels = torch.cat([prediction[3] for prediction in predictions], dim=0)  # Concatenate true labels\n",
    "test_inputs = torch.cat([prediction[2] for prediction in predictions], dim=0)  # Concatenate input images\n",
    "# Determine the predicted labels by selecting the class with the highest probability\n",
    "test_preds = torch.cat([prediction[0] for prediction in predictions], dim=0)#test_outputs.argmax(dim=1)  # Find the index of the maximum probability along the classes (predicted labels)"
   ]
  },
  {
   "cell_type": "code",
   "execution_count": 19,
   "metadata": {},
   "outputs": [
    {
     "data": {
      "image/png": "[encoded data removed]",
      "text/plain": [
       "<Figure size 1000x300 with 3 Axes>"
      ]
     },
     "metadata": {},
     "output_type": "display_data"
    }
   ],
   "source": [
    "## Saliency map\n",
    "# Find indices of correctly classified test samples\n",
    "indices = list(range(0,len(test_player_index)))\n",
    "\n",
    "# Select a random index from the correctly classified samples\n",
    "np.random.seed()#For consistent results\n",
    "rand_index=np.random.randint(0,len(indices))\n",
    "index = indices[rand_index]\n",
    "\n",
    "# Retrieve the input image, true label, model output, predicted label for the selected index\n",
    "pred = test_preds[index]\n",
    "label = test_labels[index]\n",
    "output = test_outputs[index]\n",
    "image_original = test_inputs[index]\n",
    "\n",
    "img_idx = test_img_index[index]\n",
    "player_idx = test_player_index[index]\n",
    "\n",
    "# Add a batch dimension to the input image (via .unsqueeze()) and set requires_grad to True for saliency analysis\n",
    "image = image_original.unsqueeze(0)\n",
    "image.requires_grad = True\n",
    "\n",
    "# Compute the scores and gradients for the input image\n",
    "# To compute the scores, do a forward pass of the image and then take the argmax\n",
    "# Use this index to extract the score_max value from \"scores\"\n",
    "# Then perform a backward step so that it backpropagates the gradient\n",
    "scores = model_cnn.forward(image)\n",
    "score_max_index = torch.argmax(scores)\n",
    "score_max = scores[0, score_max_index]\n",
    "score_max.backward() # Do the backward step here for the gradient calculation\n",
    "\n",
    "# Calculate the saliency map by finding the maximum absolute gradient values across channels\n",
    "# You can use .abs() and torch.max()\n",
    "grad = image.grad\n",
    "grad_abs = torch.squeeze(grad.abs())\n",
    "grad_max = torch.max(grad_abs,dim=0).values\n",
    "# print(grad_max)\n",
    "\n",
    "# Create a subplot to display the original image and saliency map side by side\n",
    "plt.rcParams[\"figure.figsize\"] = (10, 3)\n",
    "plt.subplot(1,2,1)\n",
    "plt.imshow(grad_max)\n",
    "plt.colorbar()\n",
    "# plt.bar(range(1,len(grad_abs)+1),grad_abs)\n",
    "player_actions = [\"INTERACT\",\"Right\",\"Left\",\"Down\",\"Up\"]\n",
    "player_colours = [\"Blue\",\"Green\"]\n",
    "plt.title(f\"Saliency Analysis\\n Pred: ({round(pred[1].item(),1)},{round(pred[0].item(),1)}), GT: ({round(label[1].item())},{round(label[0].item())})\\nIndex: {img_idx}\")\n",
    "plt.axis('off')\n",
    "# Show the original image and saliency map side by side\n",
    "for img_action_no in [0,1,2,3,4,5]:\n",
    "    try:\n",
    "        image = torchvision.io.read_image(f\"/SRP-Dylan/img_data/{img_action_no}/{img_idx}.png\")\n",
    "        break\n",
    "    except:\n",
    "        pass\n",
    "plt.subplot(1,2,2)\n",
    "# print(img_idx,player_idx)\n",
    "plt.title(f\"Player: {player_colours[player_idx]}\")\n",
    "image = image.permute(1,2,0)\n",
    "plt.axis('off')\n",
    "# image = torchvision.transforms.functional.rotate(image,90)\n",
    "plt.imshow(image)\n",
    "plt.show()"
   ]
  }
 ],
 "metadata": {
  "kernelspec": {
   "display_name": "ece4179",
   "language": "python",
   "name": "python3"
  },
  "language_info": {
   "codemirror_mode": {
    "name": "ipython",
    "version": 3
   },
   "file_extension": ".py",
   "mimetype": "text/x-python",
   "name": "python",
   "nbconvert_exporter": "python",
   "pygments_lexer": "ipython3",
   "version": "3.11.5"
  }
 },
 "nbformat": 4,
 "nbformat_minor": 2
}
