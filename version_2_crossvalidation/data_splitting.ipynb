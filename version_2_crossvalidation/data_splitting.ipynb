{
 "cells": [
  {
   "cell_type": "code",
   "execution_count": 1,
   "metadata": {},
   "outputs": [],
   "source": [
    "%matplotlib inline\n",
    "%matplotlib notebook\n",
    "import tqdm, copy\n",
    "import random, os\n",
    "import pandas as pd\n",
    "from tqdm import trange\n",
    "import matplotlib.pyplot as plt\n",
    "import json\n",
    "import numpy as np"
   ]
  },
  {
   "cell_type": "code",
   "execution_count": 2,
   "metadata": {},
   "outputs": [],
   "source": [
    "from overcooked_ai_py.utils import save_pickle\n",
    "from human_aware_rl.utils import set_global_seed\n",
    "from human_aware_rl.human.process_dataframes import *\n",
    "from human_aware_rl.human.process_human_trials import *\n",
    "from human_aware_rl.static import *\n",
    "from overcooked_ai_py.visualization.state_visualizer import StateVisualizer\n",
    "from overcooked_ai_py.mdp.overcooked_mdp import OvercookedState, SoupState, ObjectState\n",
    "from collections import defaultdict\n",
    "set_global_seed(1884)"
   ]
  },
  {
   "cell_type": "code",
   "execution_count": 7,
   "metadata": {},
   "outputs": [
    {
     "name": "stdout",
     "output_type": "stream",
     "text": [
      "Unnamed: 0                                                      0\n",
      "joint_action                                     [[0, 0], [0, 0]]\n",
      "player_idx                                                      0\n",
      "layout                       ['XXPXX', 'O  2O', 'X1  X', 'XDXSX']\n",
      "layout_name                                          cramped_room\n",
      "state           {\"players\": [{\"position\": [1, 2], \"orientation...\n",
      "time_left                                                   180.0\n",
      "trial_id                                                        0\n",
      "Name: 0, dtype: object\n"
     ]
    }
   ],
   "source": [
    "# All Trials\n",
    "all_trials = pd.read_pickle(\"./data/2019_hh_trials_all.pickle\")\n",
    "for col in [\"time_elapsed\",\"player_0_is_human\",\"player_1_is_human\",\"reward\",\"score\",\"player_0_id\",\"player_1_id\",\"cur_gameloop\",\"cur_gameloop_total\",\"score_total\",\"button_press\",\"button_press_total\",\"timesteps_since_interact\",\"button_presses_per_timstep\"]:\n",
    "    all_trials=all_trials.drop(col, axis=1)\n",
    "all_trials.insert(2,\"player_idx\",[0]*len(all_trials),True)\n",
    "print(all_trials.iloc[0])"
   ]
  },
  {
   "cell_type": "code",
   "execution_count": 4,
   "metadata": {},
   "outputs": [],
   "source": [
    "# Filtered Trials:\n",
    "# Player data between frames must not be identical (Different position/orientation/holding).\n",
    "# Last frame of trajectory is not considered.\n",
    "def filter_trials(all_trials):\n",
    "    clean_trials = pd.DataFrame(columns=all_trials.columns)\n",
    "\n",
    "    # Processing into array for NN\n",
    "    L = len(all_trials)\n",
    "    for i in range(L):\n",
    "        row = all_trials.iloc[i]\n",
    "\n",
    "        # Actions by both players\n",
    "        ja = row['joint_action']\n",
    "        ja = ja.replace(\"\\'\",\"\\\"\")\n",
    "        y_act = json.loads(ja)\n",
    "\n",
    "        # Consider both player perspectives\n",
    "        for player_idx in [0,1]:\n",
    "            #Output/GT\n",
    "            y = 0\n",
    "\n",
    "            y_row = y_act[player_idx]\n",
    "            if y_row == 'INTERACT':\n",
    "                y=0\n",
    "            elif y_row[0]==1:\n",
    "                y=1\n",
    "            elif y_row[0]==-1:\n",
    "                y=2\n",
    "            elif y_row[1]==1:\n",
    "                y=3\n",
    "            elif y_row[1]==-1:\n",
    "                y=4\n",
    "            else: #No action\n",
    "                y=5\n",
    "            \n",
    "            if y!=5 and row['time_left']!=-1: #Filters out wait actions\n",
    "                state = json.loads(row['state'])\n",
    "                player = state['players'][player_idx]\n",
    "                \n",
    "                future_row = all_trials.iloc[i+1]\n",
    "                future_state = json.loads(future_row['state'])\n",
    "                future_player = future_state['players'][player_idx]\n",
    "                if future_player!=player:\n",
    "                    temp_row = row.copy()\n",
    "                    temp_row['player_idx']=player_idx\n",
    "                    clean_trials = pd.concat([clean_trials,temp_row.to_frame().T])\n",
    "\n",
    "    return clean_trials\n",
    "clean_trials = filter_trials(all_trials)"
   ]
  },
  {
   "cell_type": "code",
   "execution_count": 8,
   "metadata": {},
   "outputs": [
    {
     "name": "stdout",
     "output_type": "stream",
     "text": [
      "65773 103141\n"
     ]
    }
   ],
   "source": [
    "# clean_trials.to_pickle(\"./data/2019_hh_trials_action.pickle\")\n",
    "clean_trials = pd.read_pickle(\"./data/2019_hh_trials_action.pickle\")\n",
    "print(len(clean_trials), len(all_trials))\n"
   ]
  },
  {
   "cell_type": "code",
   "execution_count": 9,
   "metadata": {},
   "outputs": [
    {
     "name": "stdout",
     "output_type": "stream",
     "text": [
      "[[2849. 4409. 2426. 2085. 3823.]\n",
      " [2130. 1953. 2835. 4537. 1483.]\n",
      " [2168. 3163. 3083. 4523. 1983.]\n",
      " [1220. 2122. 3111. 2481. 1289.]\n",
      " [1984. 2758. 3016. 2750. 1592.]]\n",
      "['cramped_room', 'asymmetric_advantages', 'coordination_ring', 'random3', 'random0']\n",
      "Map:  [15.74 21.9  22.   24.9  15.46]\n",
      "Act:  [23.71 19.67 22.68 15.54 18.4 ]\n"
     ]
    },
    {
     "data": {
      "text/plain": [
       "array([[2849., 4409., 2426., 2085., 3823.],\n",
       "       [2130., 1953., 2835., 4537., 1483.],\n",
       "       [2168., 3163., 3083., 4523., 1983.],\n",
       "       [1220., 2122., 3111., 2481., 1289.],\n",
       "       [1984., 2758., 3016., 2750., 1592.]])"
      ]
     },
     "execution_count": 9,
     "metadata": {},
     "output_type": "execute_result"
    }
   ],
   "source": [
    "#Statistics\n",
    "# 5 maps\n",
    "# 5 actions (excluding wait actions)\n",
    "def balance_stats(trials, print_stats=True):\n",
    "    layout_name_list = []\n",
    "    grid = np.zeros([5,5])\n",
    "    for i in range(len(trials)):\n",
    "        row = trials.iloc[i]\n",
    "        # Action\n",
    "        ja = row['joint_action']\n",
    "        ja = ja.replace(\"\\'\",\"\\\"\")\n",
    "        y_act = json.loads(ja)\n",
    "        player_idx = row['player_idx']\n",
    "        # if player_idx==1:\n",
    "        #     print('test')\n",
    "        y=0\n",
    "        y_row = y_act[player_idx]\n",
    "        if y_row == 'INTERACT':\n",
    "            y=0\n",
    "        elif y_row[0]==1:\n",
    "            y=1\n",
    "        elif y_row[0]==-1:\n",
    "            y=2\n",
    "        elif y_row[1]==1:\n",
    "            y=3\n",
    "        elif y_row[1]==-1:\n",
    "            y=4\n",
    "        else:\n",
    "            print(\"error\",y, y_row)\n",
    "\n",
    "        layout_name = row['layout_name']\n",
    "        if layout_name not in layout_name_list:\n",
    "            layout_name_list.append(layout_name)\n",
    "\n",
    "        name_idx = layout_name_list.index(layout_name)\n",
    "        # print(name_idx,layout_name_list)\n",
    "        grid[y,name_idx]+=1\n",
    "\n",
    "    if print_stats:\n",
    "        print(grid)\n",
    "        print(layout_name_list)\n",
    "        print(\"Map: \",np.round(grid.sum(0)*100/len(trials),2))\n",
    "        print(\"Act: \",np.round(grid.sum(1)*100/len(trials),2))\n",
    "\n",
    "    return grid\n",
    "\n",
    "balance_stats(clean_trials)"
   ]
  },
  {
   "cell_type": "code",
   "execution_count": 21,
   "metadata": {},
   "outputs": [],
   "source": [
    "def split_data(dataframes, split_percentages=[0.6,0.2,0.2],balance=True,max_attempts=10):\n",
    "    #Splits data based on trial_ids such that no trial is shared between training/test/val data\n",
    "\n",
    "    S = len(split_percentages) #Amount of returned groups\n",
    "    N = len(dataframes) #Amount of frames/ datapoints\n",
    "\n",
    "    #Get all trial ids\n",
    "    all_ids = []\n",
    "    for i in range(N):\n",
    "        row = dataframes.iloc[i]\n",
    "        trial_id = row['trial_id']\n",
    "        if trial_id not in all_ids:\n",
    "            all_ids.append(trial_id)\n",
    "    NO_IDS = len(all_ids)\n",
    "\n",
    "\n",
    "    #Allocates number of ids for each group\n",
    "    split_count_list = (np.array(split_percentages)*NO_IDS)\n",
    "    if (np.sum(np.round(split_count_list)))> NO_IDS:\n",
    "        split_count_list = np.floor(split_count_list)\n",
    "    else:\n",
    "        split_count_list = np.round(split_count_list)\n",
    "    # print(np.sum(split_count_list))\n",
    "    \n",
    "    complete = False\n",
    "    best_group = None\n",
    "    best_avg_std = 999999\n",
    "    attempts = 0\n",
    "\n",
    "    while complete==False and attempts<max_attempts:\n",
    "    #Allocates specific ids\n",
    "        all_ids_copy = all_ids.copy()\n",
    "        attempts += 1\n",
    "        all_group_ids = []\n",
    "        random.shuffle(all_ids_copy)\n",
    "        # print(split_count_list)\n",
    "        for i in range(S):\n",
    "            group_ids=[]\n",
    "            for _ in range(int(split_count_list[i])):\n",
    "                item = all_ids_copy.pop()\n",
    "                group_ids.append(item)\n",
    "            all_group_ids.append(group_ids)\n",
    "        # print(all_group_ids)\n",
    "\n",
    "        # Create dataframe objects\n",
    "        final_groups=[]\n",
    "        for _ in range(S):\n",
    "            final_groups.append([pd.DataFrame(columns=dataframes.columns)])\n",
    "\n",
    "        #Add frames to respective group with id ownership\n",
    "        for i in range(N):\n",
    "            row = dataframes.iloc[i]\n",
    "            trial_id = row['trial_id']\n",
    "            for j in range(S):\n",
    "                if trial_id in all_group_ids[j]:\n",
    "                    final_groups[j].append(row.to_frame().T)\n",
    "                    break\n",
    "\n",
    "        for j in range(S):\n",
    "            final_groups[j] = pd.concat(final_groups[j])\n",
    "\n",
    "        if balance==False:\n",
    "            return final_groups\n",
    "        else:\n",
    "            complete=True\n",
    "            std = 0\n",
    "            for group in final_groups:\n",
    "                grid = balance_stats(group,False)\n",
    "                grid0 = grid.sum(0)/np.sum(grid)\n",
    "                grid1 = grid.sum(1)/np.sum(grid)\n",
    "                std += np.std(grid0) + np.std(grid1)\n",
    "                if (grid0<0.15).any() or (grid1<0.15).any():\n",
    "                    complete=False\n",
    "        \n",
    "            if std < best_avg_std:\n",
    "                best_avg_std=std\n",
    "                best_group = final_groups.copy()\n",
    "        print(attempts)\n",
    "    return best_group"
   ]
  },
  {
   "cell_type": "code",
   "execution_count": 22,
   "metadata": {},
   "outputs": [
    {
     "name": "stdout",
     "output_type": "stream",
     "text": [
      "1\n",
      "2\n",
      "3\n",
      "4\n",
      "5\n",
      "6\n",
      "7\n",
      "8\n",
      "9\n",
      "10\n",
      "1\n",
      "2\n",
      "3\n",
      "4\n",
      "5\n",
      "6\n",
      "7\n",
      "8\n",
      "9\n",
      "10\n"
     ]
    }
   ],
   "source": [
    "trainvals_df, test_df = split_data(clean_trials, split_percentages=[0.8,0.2],balance=True,max_attempts=10)\n",
    "train_val_dfs = split_data(trainvals_df, split_percentages=[0.25,0.25,0.25,0.25])"
   ]
  },
  {
   "cell_type": "code",
   "execution_count": 37,
   "metadata": {},
   "outputs": [
    {
     "name": "stdout",
     "output_type": "stream",
     "text": [
      "38757 13014 4\n",
      "38988 12783 4\n",
      "37566 14205 4\n",
      "40002 11769 4\n"
     ]
    }
   ],
   "source": [
    "save=False\n",
    "load=True\n",
    "save_img = True\n",
    "\n",
    "for i in range(len(train_val_dfs)):\n",
    "    train_df=None\n",
    "    val_df=None\n",
    "    if load:\n",
    "        train_df = pd.read_pickle(f\"./data/train{i+1}.pickle\")\n",
    "        val_df = pd.read_pickle(f\"./data/val{i+1}.pickle\")\n",
    "    else:\n",
    "        train_df = pd.concat(train_val_dfs[:i] + train_val_dfs[i+1:])\n",
    "        val_df = train_val_dfs[i]\n",
    "    print(len(train_df),len(val_df),len(train_val_dfs))\n",
    "\n",
    "    if save:\n",
    "        train_df.to_pickle(f\"./data/train{i+1}.pickle\")\n",
    "        val_df.to_pickle(f\"./data/val{i+1}.pickle\")\n",
    "\n",
    "    if save_img:\n",
    "        save_images(train_df, f\"train{i+1}\")\n",
    "        save_images(val_df, f\"val{i+1}\")"
   ]
  },
  {
   "cell_type": "code",
   "execution_count": 32,
   "metadata": {},
   "outputs": [
    {
     "name": "stdout",
     "output_type": "stream",
     "text": [
      "13555\n"
     ]
    }
   ],
   "source": [
    "test_df.to_pickle(\"./data/test_data.pickle\")\n",
    "\n",
    "# test_df = pd.read_pickle(\"./data/test_data.pickle\")\n",
    "print(len(test_df))"
   ]
  },
  {
   "cell_type": "code",
   "execution_count": 33,
   "metadata": {},
   "outputs": [
    {
     "name": "stdout",
     "output_type": "stream",
     "text": [
      "[[2134. 3753. 1817. 2507. 1962.]\n",
      " [1619. 1556. 3878.  949. 2294.]\n",
      " [1677. 2602. 3855. 1292. 2499.]\n",
      " [ 954. 1705. 2135.  810. 2523.]\n",
      " [1510. 2314. 2363. 1030. 2480.]]\n",
      "['cramped_room', 'asymmetric_advantages', 'random3', 'random0', 'coordination_ring']\n",
      "Map:  [15.12 22.85 26.9  12.62 22.52]\n",
      "Act:  [23.31 19.72 22.84 15.56 18.57]\n",
      "[[ 715.  464.  268. 1316.  656.]\n",
      " [ 511.  541.  659.  534.  397.]\n",
      " [ 491.  584.  668.  691.  561.]\n",
      " [ 266.  588.  346.  479.  417.]\n",
      " [ 474.  536.  387.  562.  444.]]\n",
      "['cramped_room', 'coordination_ring', 'random3', 'random0', 'asymmetric_advantages']\n",
      "Map:  [18.13 20.01 17.17 26.43 18.26]\n",
      "Act:  [25.22 19.49 22.1  15.46 17.73]\n"
     ]
    }
   ],
   "source": [
    "balance_stats(trainvals_df);\n",
    "balance_stats(test_df);"
   ]
  },
  {
   "cell_type": "code",
   "execution_count": 16,
   "metadata": {},
   "outputs": [],
   "source": [
    "def save_images(dataframes, subfolder_name):\n",
    "    L = len(dataframes)\n",
    "\n",
    "    for i in range(L):\n",
    "        row = dataframes.iloc[i]\n",
    "        row[\"Unnamed: 0\"] = i\n",
    "        ja = row['joint_action']\n",
    "        ja = ja.replace(\"\\'\",\"\\\"\")\n",
    "        y_act = json.loads(ja)\n",
    "\n",
    "        #Add entry for respective player\n",
    "        player_idx = row['player_idx']\n",
    "        \n",
    "        #Output/GT/Label\n",
    "        y = 0\n",
    "        y_row = y_act[player_idx]\n",
    "        if y_row == 'INTERACT':\n",
    "            y=0\n",
    "        elif y_row[0]==1:\n",
    "            y=1\n",
    "        elif y_row[0]==-1:\n",
    "            y=2\n",
    "        elif y_row[1]==1:\n",
    "            y=3\n",
    "        elif y_row[1]==-1:\n",
    "            y=4\n",
    "        else: #No action\n",
    "            y=5\n",
    "            print(\"unknown action\")\n",
    "\n",
    "        path = f\"./data/imgs/{subfolder_name}/{y}/{i}.png\"\n",
    "\n",
    "        state = json.loads(row['state'])\n",
    "        if player_idx == 1:\n",
    "            state['players'][0], state['players'][1] = (state['players'][1], state['players'][0])\n",
    "        \n",
    "        oc_state = OvercookedState.from_dict(state)\n",
    "        \n",
    "        layout = json.loads(row['layout'].replace(\"\\'\",\"\\\"\").replace(\"1\",\" \").replace(\"2\",\" \"))\n",
    "        StateVisualizer().display_rendered_state(oc_state,grid=layout,img_path=path)  \n",
    "\n",
    "    return dataframes \n"
   ]
  },
  {
   "cell_type": "code",
   "execution_count": 38,
   "metadata": {},
   "outputs": [],
   "source": [
    "new_test_dfs = save_images(test_df, \"test\")\n",
    "#Resaving the test frames for matching in analysis\n",
    "new_test_dfs_reset = new_test_dfs.reset_index()\n",
    "new_test_dfs_reset.head()\n",
    "new_test_dfs.to_pickle(\"./data/test_data.pickle\")"
   ]
  }
 ],
 "metadata": {
  "kernelspec": {
   "display_name": "overcookedai",
   "language": "python",
   "name": "python3"
  },
  "language_info": {
   "codemirror_mode": {
    "name": "ipython",
    "version": 3
   },
   "file_extension": ".py",
   "mimetype": "text/x-python",
   "name": "python",
   "nbconvert_exporter": "python",
   "pygments_lexer": "ipython3",
   "version": "3.7.16"
  }
 },
 "nbformat": 4,
 "nbformat_minor": 2
}
