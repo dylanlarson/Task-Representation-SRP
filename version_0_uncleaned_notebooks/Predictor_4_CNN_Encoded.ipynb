{
 "cells": [
  {
   "cell_type": "code",
   "execution_count": 1,
   "metadata": {},
   "outputs": [],
   "source": [
    "import copy\n",
    "import os\n",
    "import random\n",
    "import numpy as np\n",
    "import pandas as pd\n",
    "import matplotlib.pyplot as plt\n",
    "import math\n",
    "from math import *\n",
    "\n",
    "import torch\n",
    "import torchvision\n",
    "import torch.nn as nn\n",
    "from torchvision import transforms\n",
    "from torch.utils.data import DataLoader, random_split, Dataset\n",
    "from torchmetrics import Accuracy\n",
    "\n",
    "import lightning as pl # Pytorch lightning is a wrapper for pytorch that makes it easier to train models\n",
    "from lightning.pytorch.loggers import CSVLogger\n",
    "from lightning.pytorch.callbacks import Callback, ModelCheckpoint, EarlyStopping\n",
    "from lightning.pytorch.callbacks.progress import RichProgressBar\n",
    "from lightning.pytorch.callbacks.progress.rich_progress import RichProgressBarTheme\n",
    "\n",
    "import os\n",
    "os.environ['KMP_DUPLICATE_LIB_OK']='True'\n",
    "\n",
    "BATCH_SIZE = 256 if torch.cuda.is_available() else 64\n",
    "# Define GPU number\n",
    "GPU_indx = 0\n",
    "device = torch.device(GPU_indx if torch.cuda.is_available() else 'cpu')\n",
    "num_workers = 0 # Set to your device\n",
    "torch.set_float32_matmul_precision('medium')\n",
    "import json"
   ]
  },
  {
   "cell_type": "code",
   "execution_count": 2,
   "metadata": {},
   "outputs": [],
   "source": [
    "train_dfs= pd.read_pickle(\"./data/train_data.pickle\")\n",
    "test_dfs= pd.read_pickle(\"./data/test_data.pickle\")\n",
    "val_dfs= pd.read_pickle(\"./data/val_data.pickle\")"
   ]
  },
  {
   "cell_type": "code",
   "execution_count": 3,
   "metadata": {},
   "outputs": [],
   "source": [
    "def encode_cnn(dfs,step=1):\n",
    "    \n",
    "    L = len(dfs)\n",
    "    input_list = [] \n",
    "    output_list = [] \n",
    "    index_list = []\n",
    "    \n",
    "    target_list = ['X','P','O','D','S']\n",
    "    # Processing into array for NN\n",
    "    for i in range(0,L,step):\n",
    "        row = dfs.iloc[i]\n",
    "        ja = row['joint_action']\n",
    "        ja = ja.replace(\"\\'\",\"\\\"\")\n",
    "        y_act = json.loads(ja)\n",
    "        player_idx = row['player_idx']\n",
    "\n",
    "        # Action / Output / GT\n",
    "        y_row = y_act[player_idx]\n",
    "        y=-1\n",
    "        if y_row == 'INTERACT':\n",
    "            y=0\n",
    "        elif y_row[0]==1:\n",
    "            y=1\n",
    "        elif y_row[0]==-1:\n",
    "            y=2\n",
    "        elif y_row[1]==1:\n",
    "            y=3\n",
    "        elif y_row[1]==-1:\n",
    "            y=4\n",
    "        else:\n",
    "            print(\"Unknown Action\", y, i, player_idx, y_act)\n",
    "            continue\n",
    "        \n",
    "        map_layout = row['layout']\n",
    "        map_layout = map_layout.replace(\"\\'\",\"\\\"\")\n",
    "        map_layout = json.loads(map_layout)\n",
    "\n",
    "        x = np.zeros([19,5,9]) #biggest map size\n",
    "        pot_locations = []\n",
    "        state = json.loads(row['state'])\n",
    "        \n",
    "\n",
    "        ## partial 8-10, 11-14\n",
    "\n",
    "        for player in [state['players'][player_idx], state['players'][(player_idx+1)%2]]:\n",
    "            #Position\n",
    "            player_pos = (player['position'][0],player['position'][1])\n",
    "            #Orientation\n",
    "            player_or = (player['orientation'][0],player['orientation'][1])\n",
    "\n",
    "            or_idx = 11\n",
    "            if player_idx==1:\n",
    "                or_idx = 15\n",
    "            \n",
    "            if player_or[0]==-1:\n",
    "                x[or_idx, player_pos[1],player_pos[0]] = 1\n",
    "            elif player_or[0]==1:\n",
    "                x[or_idx+1, player_pos[1],player_pos[0]] = 1\n",
    "            elif player_or[1]==-1:\n",
    "                x[or_idx+2, player_pos[1],player_pos[0]] = 1\n",
    "            elif player_or[1]==1:\n",
    "                x[or_idx+3, player_pos[1],player_pos[0]] = 1\n",
    "\n",
    "            #Held object converter\n",
    "            if player[\"held_object\"] is None:\n",
    "                pass\n",
    "            else:\n",
    "                if player[\"held_object\"]['name'] == \"onion\":\n",
    "                    x[8, player_pos[1],player_pos[0]] = 1\n",
    "                elif player[\"held_object\"]['name'] == \"dish\":\n",
    "                    x[9, player_pos[1],player_pos[0]] = 1\n",
    "                elif player[\"held_object\"]['name'] == \"soup\":\n",
    "                    x[10, player_pos[1],player_pos[0]] = 1\n",
    "                else:\n",
    "                    print(\"unknown held item\", player[\"held_object\"]['name'])\n",
    "\n",
    "        ## 0-5\n",
    "        for map_row_idx in range(len(map_layout)):\n",
    "            for map_col_idx in range(len(map_layout[0])):\n",
    "                # 0\n",
    "                x[0,map_row_idx,map_col_idx]=1\n",
    "\n",
    "                # 1-5\n",
    "                tile = map_layout[map_row_idx][map_col_idx]\n",
    "                for target_idx in range(len(target_list)):\n",
    "                    if target_list[target_idx] == tile:\n",
    "                        x[target_idx+1, map_row_idx,map_col_idx] = 1\n",
    "\n",
    "        ## partial 8-10, 6-7\n",
    "        object_list = state['objects']\n",
    "        for obj in object_list:\n",
    "            obj_name = obj['name']\n",
    "            obj_pos = obj['position']\n",
    "\n",
    "            if obj_name == \"onion\":\n",
    "                x[8, obj_pos[1],obj_pos[0]] = 1\n",
    "            elif obj_name == \"dish\":\n",
    "                x[9, obj_pos[1],obj_pos[0]] = 1\n",
    "            elif obj_name == \"soup\":\n",
    "                x[6, obj_pos[1],obj_pos[0]] = len(obj['_ingredients'])/3\n",
    "                x[10, obj_pos[1],obj_pos[0]] = 1\n",
    "                if obj['is_ready']:\n",
    "                    x[7, obj_pos[1],obj_pos[0]] = obj['cooking_tick']/20\n",
    "        \n",
    "        input_list.append(x)\n",
    "        output_list.append(y)\n",
    "        index_list.append(row['Unnamed: 0'])\n",
    "\n",
    "    return input_list, output_list, index_list\n",
    "    "
   ]
  },
  {
   "cell_type": "code",
   "execution_count": 4,
   "metadata": {},
   "outputs": [],
   "source": [
    "# Dataset Class\n",
    "class OCData(Dataset):\n",
    "    def __init__(self, input_list, output_list, z,  transform=False):\n",
    "        self.input = input_list\n",
    "        self.output = output_list\n",
    "        self.transform = transform\n",
    "        self.z = z\n",
    "    def __len__(self):\n",
    "        return len(self.output)\n",
    "\n",
    "    def __getitem__(self, idx):\n",
    "        x = self.input[idx]\n",
    "        y = self.output[idx]\n",
    "        z = self.z[idx]\n",
    "\n",
    "        rand1 = np.random.rand()\n",
    "        rand2 = np.random.rand()\n",
    "        \n",
    "        if self.transform:\n",
    "            \n",
    "            if rand1>0.5:\n",
    "                # x = np.flip(x,1) #axis 1 is rows (swaps rows)\n",
    "                x[13,:,:],x[14,:,:]= (x[14,:,:],x[13,:,:])\n",
    "                x[17,:,:],x[18,:,:]= (x[18,:,:],x[17,:,:])\n",
    "\n",
    "                if y==3:\n",
    "                    y=4\n",
    "                elif y==4:\n",
    "                    y=3\n",
    "                    \n",
    "            if rand2>0.5:\n",
    "                # x = np.flip(x,2) #axis 2 is cols (swaps cols)\n",
    "                x[12,:,:],x[11,:,:]= (x[11,:,:],x[12,:,:])\n",
    "                x[15,:,:],x[16,:,:]= (x[16,:,:],x[15,:,:])\n",
    "                if y==1:\n",
    "                    y=2\n",
    "                elif y==2:\n",
    "                    y=1\n",
    "\n",
    "        x = torch.tensor(x.copy(),dtype=torch.float32).to(device=device)\n",
    "\n",
    "        if self.transform:\n",
    "            if rand1>0.5:\n",
    "                    x = transforms.functional.vflip(x)\n",
    "            if rand2>0.5:\n",
    "                x = transforms.functional.hflip(x)\n",
    "        return x,y,z"
   ]
  },
  {
   "cell_type": "code",
   "execution_count": 5,
   "metadata": {},
   "outputs": [],
   "source": [
    "def norm_stats(ds):\n",
    "    ds = np.array(ds)\n",
    "    means = (np.mean(ds,axis=0))\n",
    "    stds = (np.std(ds,axis=0))\n",
    "    print(means.shape,stds.shape)\n",
    "    return means, stds\n"
   ]
  },
  {
   "cell_type": "code",
   "execution_count": 6,
   "metadata": {},
   "outputs": [],
   "source": [
    "def create_loader(train_dfs, val_dfs, test_dfs):\n",
    "    #Training Dataloader\n",
    "    input_list, output_list, index_list = encode_cnn(train_dfs)\n",
    "    # means, stds = norm_stats(input_list)\n",
    "\n",
    "    \n",
    "    train_dataset = OCData(input_list,output_list,index_list, transform=False)\n",
    "    train_loader = DataLoader(train_dataset, batch_size=BATCH_SIZE, shuffle=True, num_workers=num_workers)\n",
    "\n",
    "    #Validation loader\n",
    "    input_list, output_list, index_list = encode_cnn(val_dfs)\n",
    "    val_dataset = OCData(input_list,output_list,index_list)\n",
    "    val_loader = DataLoader(val_dataset, batch_size=BATCH_SIZE, shuffle=False, num_workers=num_workers)\n",
    "\n",
    "    #Test loader\n",
    "    input_list, output_list, index_list = encode_cnn(test_dfs)\n",
    "    test_dataset = OCData(input_list,output_list,index_list)\n",
    "    test_loader = DataLoader(test_dataset, batch_size=BATCH_SIZE, shuffle=False, num_workers=num_workers)\n",
    "\n",
    "    return train_loader, val_loader, test_loader\n",
    "\n",
    "train_loader, valid_loader, test_loader = create_loader(train_dfs, val_dfs, test_dfs)"
   ]
  },
  {
   "cell_type": "code",
   "execution_count": 7,
   "metadata": {},
   "outputs": [],
   "source": [
    "# We will use modular convolutional blocks. \n",
    "# Define a convolutional layer along with an activation function\n",
    "# Remember, you can use other techniques you have learnt from the lectures and workshops such as dropout, batchnorm, pooling etc.\n",
    "\n",
    "class ConvBlock(nn.Module):\n",
    "\n",
    "    def __init__(self, channels_in, channels_out,stride=1):\n",
    "        super(ConvBlock, self).__init__()     # Call constructor\n",
    "        middle_channel = (channels_in+channels_out)//2\n",
    "        print(middle_channel)\n",
    "        self.conv1 = nn.Conv2d(in_channels=channels_in,out_channels=middle_channel, kernel_size=3,stride=stride, padding=1)\n",
    "        self.conv2 = nn.Conv2d(in_channels=middle_channel,out_channels=channels_out, kernel_size=3,stride=stride, padding=1)\n",
    "        self.activ = nn.LeakyReLU()\n",
    "        #self.batchnorm1 = nn.BatchNorm2d(middle_channel)\n",
    "        #self.batchnorm2 = nn.BatchNorm2d(channels_out)\n",
    "\n",
    "    def forward(self, x):\n",
    "        x = self.conv1(x)\n",
    "        x = self.activ(x)\n",
    "\n",
    "        x = self.conv2(x)\n",
    "        x = self.activ(x)\n",
    "        return x\n",
    "\n",
    "#Let's create a simple CNN for image classification\n",
    "class Simple_CNN(pl.LightningModule):\n",
    "    \n",
    "    def __init__(self, num_classes=6, learning_rate=5e-4):\n",
    "        super().__init__()\n",
    "        M = 32\n",
    "\n",
    "        self.learning_rate = learning_rate\n",
    "        self.num_classes = num_classes\n",
    "        self.criterion = nn.CrossEntropyLoss()\n",
    "\n",
    "        self.batch_norm1 = nn.BatchNorm2d(19)\n",
    "        self.batch_norm2 = nn.BatchNorm2d(M)\n",
    "\n",
    "        \n",
    "        # Initialise at least 2 convolutional blocks with\n",
    "        self.conv_blk1 = ConvBlock(19, M)\n",
    "        self.conv_blk2 = ConvBlock(M, 64)\n",
    "        \n",
    "        # You can use other layers too, feel free to define them here\n",
    "        # self.pool = nn.MaxPool2d(2)\n",
    "        self.gap = nn.AdaptiveAvgPool2d(output_size=10)\n",
    "        self.dropout = nn.Dropout(0.3)\n",
    "        \n",
    "        # You will need to define your fully connected layer:\n",
    "        self.fc1 = nn.Linear(64*10*10,256)\n",
    "        self.fc2 = nn.Linear(256,128)\n",
    "        self.fc3 = nn.Linear(128, num_classes)\n",
    "\n",
    "        self.leaky_relu = nn.LeakyReLU()\n",
    "        \n",
    "        # Define your accuracies        \n",
    "        self.train_accuracy = Accuracy(task=\"multiclass\",num_classes=num_classes)\n",
    "        self.val_accuracy = Accuracy(task=\"multiclass\",num_classes=num_classes)\n",
    "        self.test_accuracy = Accuracy(task=\"multiclass\",num_classes=num_classes)\n",
    "        \n",
    "        \n",
    "    def forward(self, x):\n",
    "        x = self.batch_norm1(x)\n",
    "        x = self.dropout(x)\n",
    "        # identity = x\n",
    "        x = self.conv_blk1(x)\n",
    "        x = self.batch_norm2(x)\n",
    "\n",
    "        # x += identity\n",
    "        x = self.dropout(x)\n",
    "        x = self.conv_blk2(x)\n",
    "        x = self.gap(x)\n",
    "\n",
    "        x = torch.flatten(x,start_dim=1)\n",
    "        x = self.dropout(x)\n",
    "        x = self.leaky_relu(self.fc1(x))\n",
    "        x = self.dropout(x)\n",
    "        x = self.leaky_relu(self.fc2(x))\n",
    "        x = self.dropout(x)\n",
    "        x = self.leaky_relu(self.fc3(x))\n",
    "\n",
    "        return x\n",
    "    \n",
    "    def training_step(self, batch, batch_idx):\n",
    "        x, y, z= batch\n",
    "        logits = self(x)\n",
    "        loss = self.criterion(logits, y)\n",
    "\n",
    "        # Compute accuracy\n",
    "        preds = logits.argmax(1)\n",
    "        self.train_accuracy.update(preds, y)\n",
    "        acc = self.train_accuracy.compute()\n",
    "\n",
    "        # Record accuracy and loss\n",
    "        # Log anything you think necessary\n",
    "        train_dict = {\"train_loss\": loss,\n",
    "                    \"train_acc\": acc,\n",
    "                    \"epoch\": self.current_epoch}\n",
    "        \n",
    "        self.log_dict(train_dict, prog_bar=True, on_step=False, on_epoch=True)\n",
    "\n",
    "        return loss\n",
    "\n",
    "    def validation_step(self, batch, batch_idx):\n",
    "        x, y, z= batch\n",
    "        logits = self(x)\n",
    "        loss = self.criterion(logits, y)\n",
    "\n",
    "        # Compute accuracy\n",
    "        preds = logits.argmax(1)\n",
    "        self.val_accuracy.update(preds, y)\n",
    "        acc = self.val_accuracy.compute()\n",
    "\n",
    "        # Record accuracy and loss\n",
    "        # Log anything you think necessary\n",
    "        val_dict = {\"val_loss\": loss,\n",
    "                    \"val_acc\": acc,\n",
    "                    \"epoch\": self.current_epoch}\n",
    "        \n",
    "        self.log_dict(val_dict, prog_bar=True, on_step=False, on_epoch=True)\n",
    "    \n",
    "        \n",
    "\n",
    "    def test_step(self, batch, batch_idx):\n",
    "        x, y, z= batch\n",
    "        logits = self(x)\n",
    "        loss = self.criterion(logits, y)\n",
    "\n",
    "        # Compute accuracy\n",
    "        preds = logits.argmax(1)\n",
    "        self.test_accuracy.update(preds, y)\n",
    "        acc = self.test_accuracy.compute()\n",
    "\n",
    "        # Record accuracy and loss\n",
    "        # Log anything you think necessary\n",
    "        test_dict = {\"test_loss\": loss,\n",
    "                    \"test_acc\": acc,\n",
    "                    \"epoch\": self.current_epoch}\n",
    "        \n",
    "        self.log_dict(test_dict, prog_bar=True, on_step=False, on_epoch=True)\n",
    "\n",
    "        return preds, logits, x, y\n",
    "    \n",
    "    def predict_step(self, batch, batch_idx):\n",
    "        x, y, z = batch\n",
    "        logits = self(x)\n",
    "        loss = self.criterion(logits, y)\n",
    "\n",
    "        # Compute accuracy\n",
    "        preds = logits.argmax(1)\n",
    "        self.test_accuracy.update(preds, y)\n",
    "\n",
    "        return preds, logits, x, y, z\n",
    "\n",
    "        \n",
    "\n",
    "    def configure_optimizers(self):\n",
    "        optimizer = torch.optim.Adam(self.parameters(),self.learning_rate, weight_decay=1e-4)\n",
    "        return optimizer\n",
    "\n",
    "    ##########\n",
    "    # DATA RELATED HOOKS\n",
    "    ##########\n",
    "\n",
    "    def train_dataloader(self):\n",
    "        return train_loader\n",
    "    def val_dataloader(self):\n",
    "        return valid_loader\n",
    "    def test_dataloader(self):\n",
    "        return test_loader"
   ]
  },
  {
   "cell_type": "code",
   "execution_count": 8,
   "metadata": {},
   "outputs": [
    {
     "name": "stdout",
     "output_type": "stream",
     "text": [
      "25\n",
      "48\n"
     ]
    },
    {
     "name": "stderr",
     "output_type": "stream",
     "text": [
      "GPU available: True (cuda), used: True\n",
      "TPU available: False, using: 0 TPU cores\n",
      "IPU available: False, using: 0 IPUs\n",
      "HPU available: False, using: 0 HPUs\n"
     ]
    }
   ],
   "source": [
    "# Initialize the CNN model\n",
    "max_epochs = 80 # Feel free to change this\n",
    "model_cnn = Simple_CNN()\n",
    "\n",
    "# Initialize checkpoint callback to save the best model using validation loss\n",
    "checkpoint_callback = ModelCheckpoint(\n",
    "        monitor=\"val_loss\",\n",
    "        dirpath=\"checkpoints_section/v4/\",\n",
    "        save_top_k=1,        \n",
    "        mode=\"min\",\n",
    "        every_n_epochs=1\n",
    "    )\n",
    "\n",
    "# Create customized progress bar theme (Optional)\n",
    "progress_bar_task = RichProgressBar(refresh_rate=1, leave=True,\n",
    "    theme=RichProgressBarTheme(\n",
    "        description=\"green_yellow\",\n",
    "        progress_bar=\"green1\",\n",
    "        progress_bar_finished=\"green1\",\n",
    "        progress_bar_pulse=\"#6206E0\",\n",
    "        batch_progress=\"green_yellow\",\n",
    "        time=\"grey82\",\n",
    "        processing_speed=\"grey82\",\n",
    "        metrics=\"grey82\"\n",
    "    )\n",
    ")\n",
    "\n",
    "# Call the Trainer and train the model\n",
    "early_stopping = EarlyStopping('val_loss', patience = 10, mode = 'min')\n",
    "trainer_task = pl.Trainer(\n",
    "    accelerator=\"auto\",\n",
    "    devices=1, #if torch.cuda.is_available() else None,  # limiting got iPython runs\n",
    "    max_epochs=max_epochs,\n",
    "    callbacks=[progress_bar_task, checkpoint_callback,early_stopping],\n",
    "    logger=CSVLogger(save_dir=\"logs_task/v4/\"),\n",
    ")"
   ]
  },
  {
   "cell_type": "code",
   "execution_count": 11,
   "metadata": {},
   "outputs": [],
   "source": [
    "# trainer_task.fit(model_cnn)"
   ]
  },
  {
   "cell_type": "code",
   "execution_count": 12,
   "metadata": {},
   "outputs": [],
   "source": [
    "# torch.save(model_cnn,\"./models/v4/model_notf_74_82.pt\")\n",
    "model_cnn = torch.load(\"./models/v4/model_notf_75_76.pt\")"
   ]
  },
  {
   "cell_type": "code",
   "execution_count": 13,
   "metadata": {},
   "outputs": [
    {
     "name": "stderr",
     "output_type": "stream",
     "text": [
      "LOCAL_RANK: 0 - CUDA_VISIBLE_DEVICES: [0]\n"
     ]
    },
    {
     "data": {
      "application/vnd.jupyter.widget-view+json": {
       "model_id": "db1ac2f143ea47099b7c24652114ab15",
       "version_major": 2,
       "version_minor": 0
      },
      "text/plain": [
       "Output()"
      ]
     },
     "metadata": {},
     "output_type": "display_data"
    },
    {
     "data": {
      "text/html": [
       "<pre style=\"white-space:pre;overflow-x:auto;line-height:normal;font-family:Menlo,'DejaVu Sans Mono',consolas,'Courier New',monospace\">┏━━━━━━━━━━━━━━━━━━━━━━━━━━━┳━━━━━━━━━━━━━━━━━━━━━━━━━━━┓\n",
       "┃<span style=\"font-weight: bold\">        Test metric        </span>┃<span style=\"font-weight: bold\">       DataLoader 0        </span>┃\n",
       "┡━━━━━━━━━━━━━━━━━━━━━━━━━━━╇━━━━━━━━━━━━━━━━━━━━━━━━━━━┩\n",
       "│<span style=\"color: #008080; text-decoration-color: #008080\">           epoch           </span>│<span style=\"color: #800080; text-decoration-color: #800080\">            0.0            </span>│\n",
       "│<span style=\"color: #008080; text-decoration-color: #008080\">         test_acc          </span>│<span style=\"color: #800080; text-decoration-color: #800080\">    0.7202607989311218     </span>│\n",
       "│<span style=\"color: #008080; text-decoration-color: #008080\">         test_loss         </span>│<span style=\"color: #800080; text-decoration-color: #800080\">     0.762997031211853     </span>│\n",
       "└───────────────────────────┴───────────────────────────┘\n",
       "</pre>\n"
      ],
      "text/plain": [
       "┏━━━━━━━━━━━━━━━━━━━━━━━━━━━┳━━━━━━━━━━━━━━━━━━━━━━━━━━━┓\n",
       "┃\u001b[1m \u001b[0m\u001b[1m       Test metric       \u001b[0m\u001b[1m \u001b[0m┃\u001b[1m \u001b[0m\u001b[1m      DataLoader 0       \u001b[0m\u001b[1m \u001b[0m┃\n",
       "┡━━━━━━━━━━━━━━━━━━━━━━━━━━━╇━━━━━━━━━━━━━━━━━━━━━━━━━━━┩\n",
       "│\u001b[36m \u001b[0m\u001b[36m          epoch          \u001b[0m\u001b[36m \u001b[0m│\u001b[35m \u001b[0m\u001b[35m           0.0           \u001b[0m\u001b[35m \u001b[0m│\n",
       "│\u001b[36m \u001b[0m\u001b[36m        test_acc         \u001b[0m\u001b[36m \u001b[0m│\u001b[35m \u001b[0m\u001b[35m   0.7202607989311218    \u001b[0m\u001b[35m \u001b[0m│\n",
       "│\u001b[36m \u001b[0m\u001b[36m        test_loss        \u001b[0m\u001b[36m \u001b[0m│\u001b[35m \u001b[0m\u001b[35m    0.762997031211853    \u001b[0m\u001b[35m \u001b[0m│\n",
       "└───────────────────────────┴───────────────────────────┘\n"
      ]
     },
     "metadata": {},
     "output_type": "display_data"
    },
    {
     "data": {
      "text/html": [
       "<pre style=\"white-space:pre;overflow-x:auto;line-height:normal;font-family:Menlo,'DejaVu Sans Mono',consolas,'Courier New',monospace\"></pre>\n"
      ],
      "text/plain": []
     },
     "metadata": {},
     "output_type": "display_data"
    },
    {
     "data": {
      "text/html": [
       "<pre style=\"white-space:pre;overflow-x:auto;line-height:normal;font-family:Menlo,'DejaVu Sans Mono',consolas,'Courier New',monospace\">\n",
       "</pre>\n"
      ],
      "text/plain": [
       "\n"
      ]
     },
     "metadata": {},
     "output_type": "display_data"
    },
    {
     "data": {
      "text/plain": [
       "[{'test_loss': 0.762997031211853,\n",
       "  'test_acc': 0.7202607989311218,\n",
       "  'epoch': 0.0}]"
      ]
     },
     "execution_count": 13,
     "metadata": {},
     "output_type": "execute_result"
    }
   ],
   "source": [
    "trainer_task.test(model_cnn,test_loader)"
   ]
  },
  {
   "cell_type": "code",
   "execution_count": 38,
   "metadata": {},
   "outputs": [
    {
     "name": "stdout",
     "output_type": "stream",
     "text": [
      "16\n"
     ]
    },
    {
     "name": "stderr",
     "output_type": "stream",
     "text": [
      "C:\\Users\\Dylan\\AppData\\Local\\Temp\\ipykernel_97988\\1413748860.py:11: FutureWarning: The behavior of obj[i:j] with a float-dtype index is deprecated. In a future version, this will be treated as positional instead of label-based. For label-based slicing, use obj.loc[i:j] instead\n",
      "  plt.plot(metrics_task[\"train_loss\"][0:epochs-1])\n",
      "C:\\Users\\Dylan\\AppData\\Local\\Temp\\ipykernel_97988\\1413748860.py:12: FutureWarning: The behavior of obj[i:j] with a float-dtype index is deprecated. In a future version, this will be treated as positional instead of label-based. For label-based slicing, use obj.loc[i:j] instead\n",
      "  plt.plot(metrics_task[\"val_loss\"][0:epochs-1])\n",
      "C:\\Users\\Dylan\\AppData\\Local\\Temp\\ipykernel_97988\\1413748860.py:21: FutureWarning: The behavior of obj[i:j] with a float-dtype index is deprecated. In a future version, this will be treated as positional instead of label-based. For label-based slicing, use obj.loc[i:j] instead\n",
      "  plt.plot(metrics_task[\"train_acc\"][0:epochs-1])\n",
      "C:\\Users\\Dylan\\AppData\\Local\\Temp\\ipykernel_97988\\1413748860.py:22: FutureWarning: The behavior of obj[i:j] with a float-dtype index is deprecated. In a future version, this will be treated as positional instead of label-based. For label-based slicing, use obj.loc[i:j] instead\n",
      "  plt.plot(metrics_task[\"val_acc\"][0:epochs-1])\n"
     ]
    },
    {
     "data": {
      "image/png": "[encoded data removed]",
      "text/plain": [
       "<Figure size 1000x500 with 2 Axes>"
      ]
     },
     "metadata": {},
     "output_type": "display_data"
    }
   ],
   "source": [
    "METRICS_PATH = \"./logs_task/v4/lightning_logs/version_17\"\n",
    "metrics_task = pd.read_csv(METRICS_PATH + \"/metrics.csv\")\n",
    "metrics_task.set_index(\"epoch\", inplace=True)\n",
    "metrics_task = metrics_task.groupby(level=0).sum().drop(\"step\", axis=1)\n",
    "\n",
    "plt.rcParams[\"figure.figsize\"] = (10, 5)\n",
    "\n",
    "plt.subplot(1,2,1)\n",
    "epochs = len(metrics_task)-1\n",
    "print(epochs)\n",
    "plt.plot(metrics_task[\"train_loss\"][0:epochs-1])\n",
    "plt.plot(metrics_task[\"val_loss\"][0:epochs-1])\n",
    "\n",
    "plt.xlabel('Epoch')\n",
    "plt.ylabel('Loss')\n",
    "plt.title(\"Train and Validation Loss\")\n",
    "plt.legend([\"Train\", \"Validation\"]);\n",
    "\n",
    "plt.subplot(1,2,2)\n",
    "\n",
    "plt.plot(metrics_task[\"train_acc\"][0:epochs-1])\n",
    "plt.plot(metrics_task[\"val_acc\"][0:epochs-1])\n",
    "plt.xlabel('Epoch')\n",
    "plt.ylabel('Accuracy')\n",
    "plt.title(\"Train and Validation Accuracy\")\n",
    "plt.legend([\"Train\", \"Validation\"]);\n",
    "\n",
    "plt.tight_layout();"
   ]
  },
  {
   "cell_type": "code",
   "execution_count": 14,
   "metadata": {},
   "outputs": [
    {
     "name": "stderr",
     "output_type": "stream",
     "text": [
      "LOCAL_RANK: 0 - CUDA_VISIBLE_DEVICES: [0]\n"
     ]
    },
    {
     "data": {
      "application/vnd.jupyter.widget-view+json": {
       "model_id": "3d01d7db74b14a2e8a9e9140d6c5d479",
       "version_major": 2,
       "version_minor": 0
      },
      "text/plain": [
       "Output()"
      ]
     },
     "metadata": {},
     "output_type": "display_data"
    },
    {
     "name": "stderr",
     "output_type": "stream",
     "text": [
      "c:\\Users\\Dylan\\anaconda3\\envs\\pytorch\\Lib\\site-packages\\lightning\\pytorch\\trainer\\connectors\\data_connector.py:441: The 'predict_dataloader' does not have many workers which may be a bottleneck. Consider increasing the value of the `num_workers` argument` to `num_workers=7` in the `DataLoader` to improve performance.\n"
     ]
    },
    {
     "data": {
      "text/html": [
       "<pre style=\"white-space:pre;overflow-x:auto;line-height:normal;font-family:Menlo,'DejaVu Sans Mono',consolas,'Courier New',monospace\"></pre>\n"
      ],
      "text/plain": []
     },
     "metadata": {},
     "output_type": "display_data"
    },
    {
     "data": {
      "text/html": [
       "<pre style=\"white-space:pre;overflow-x:auto;line-height:normal;font-family:Menlo,'DejaVu Sans Mono',consolas,'Courier New',monospace\">\n",
       "</pre>\n"
      ],
      "text/plain": [
       "\n"
      ]
     },
     "metadata": {},
     "output_type": "display_data"
    }
   ],
   "source": [
    "# Concatenate the predictions from multiple batches\n",
    "model_cnn.eval()\n",
    "predictions = trainer_task.predict(model_cnn,test_loader)\n",
    "test_indices = torch.cat([prediction[4] for prediction in predictions], dim=0)  # Concatenate model outputs\n",
    "test_outputs = torch.cat([prediction[1] for prediction in predictions], dim=0)  # Concatenate model outputs\n",
    "test_labels = torch.cat([prediction[3] for prediction in predictions], dim=0)  # Concatenate true labels\n",
    "test_inputs = torch.cat([prediction[2] for prediction in predictions], dim=0)  # Concatenate input images\n",
    "# Determine the predicted labels by selecting the class with the highest probability\n",
    "test_preds = torch.cat([prediction[0] for prediction in predictions], dim=0)#test_outputs.argmax(dim=1)  # Find the index of the maximum probability along the classes (predicted labels)"
   ]
  },
  {
   "cell_type": "code",
   "execution_count": 15,
   "metadata": {},
   "outputs": [
    {
     "data": {
      "image/png": "[encoded data removed]",
      "text/plain": [
       "<Figure size 640x480 with 1 Axes>"
      ]
     },
     "metadata": {},
     "output_type": "display_data"
    }
   ],
   "source": [
    "plt.hist(test_preds+0.5,bins=[0,0.5,1,1.5,2,2.5,3,3.5,4,4.5,5],label=\"Pred\");\n",
    "plt.hist(test_labels,bins=[0,0.5,1,1.5,2,2.5,3,3.5,4,4.5,5],label=\"GT\");\n",
    "plt.legend()\n",
    "plt.show()"
   ]
  },
  {
   "cell_type": "code",
   "execution_count": 16,
   "metadata": {},
   "outputs": [],
   "source": [
    "def saliency(index,plot=False, save_plot=False):\n",
    "    # Retrieve the input image, true label, model output, predicted label for the selected index\n",
    "    pred = test_preds[index]\n",
    "    label = test_labels[index]\n",
    "    output = test_outputs[index]\n",
    "    image_original = test_inputs[index]\n",
    "    test_index = test_indices[index]\n",
    "\n",
    "    # Add a batch dimension to the input image (via .unsqueeze()) and set requires_grad to True for saliency analysis\n",
    "    image = image_original.unsqueeze(0)\n",
    "    image.requires_grad = True\n",
    "\n",
    "    # Compute the scores and gradients for the input image\n",
    "    # To compute the scores, do a forward pass of the image and then take the argmax\n",
    "    # Use this index to extract the score_max value from \"scores\"\n",
    "    # Then perform a backward step so that it backpropagates the gradient\n",
    "    model_cnn.eval()\n",
    "    scores = model_cnn.forward(image)\n",
    "    score_max_index = torch.argmax(scores)\n",
    "    score_max = scores[0, score_max_index]\n",
    "    score_max.backward() # Do the backward step here for the gradient calculation\n",
    "\n",
    "    # Calculate the saliency map by finding the maximum absolute gradient values across channels\n",
    "    # You can use .abs() and torch.max()\n",
    "    grad = image.grad\n",
    "    grad_abs = torch.squeeze(grad.abs())\n",
    "    grad_max = torch.max(grad_abs,dim=0).values\n",
    "\n",
    "\n",
    "    # # Create a subplot to display the original image and saliency map side by side\n",
    "    if plot or save_plot:\n",
    "        actions_list = [\"INT\",\"Right\",\"Left\",\"Down\",\"Up\"]\n",
    "        plt.close()\n",
    "        plt.figure()\n",
    "\n",
    "        # Create a subplot to display the original image and saliency map side by side\n",
    "        plt.rcParams[\"figure.figsize\"] = (10, 10)\n",
    "        plt.subplot(1,2,1)\n",
    "        plt.imshow(grad_max)\n",
    "        plt.title(f\"Saliency (Max)\\nPred: {actions_list[pred.item()]}, GT: {actions_list[label.item()]}, Index: {test_index}\")\n",
    "        plt.axis('off')\n",
    "\n",
    "        #Original Image\n",
    "        plt.subplot(1,2,2)\n",
    "        plt.title(f\"Original (Blue)\\nPred: {actions_list[pred.item()]}, GT: {actions_list[label.item()]}, Index: {test_index}\")\n",
    "        image_disp = torchvision.io.read_image(f\"./data/imgs/test/{label.item()}/{test_index}.png\")\n",
    "        image_disp_rgb = image_disp.permute(1,2,0)\n",
    "\n",
    "        # plt.title(f\"Map: {test_index}\")\n",
    "        plt.axis('off')\n",
    "        plt.imshow(image_disp_rgb)\n",
    "        plt.tight_layout()\n",
    "\n",
    "        if plot:\n",
    "            plt.show()\n",
    "            print(\"Probabilities:\",torch.nn.functional.softmax(output))\n",
    "\n",
    "        if save_plot:\n",
    "            plt.savefig(fname=f\"./results/v4/{test_index}.png\")\n",
    "        \n",
    "    return grad_abs, image_original"
   ]
  },
  {
   "cell_type": "code",
   "execution_count": 17,
   "metadata": {},
   "outputs": [],
   "source": [
    "# Plot saliency of a data point\n",
    "# saliency(0,True);\n",
    "\n",
    "# # Get saliency stats and save results\n",
    "grad_stats = []\n",
    "input_stats = []\n",
    "for index in range(len(test_labels)):\n",
    "    grad_stat, input_stat = saliency(index, False, False)\n",
    "    grad_stats.append(np.array(grad_stat))\n",
    "    input_stats.append(np.array(input_stat))\n",
    "\n",
    "\n",
    "np.save(\"./results/v4/stats.npy\",np.array(grad_stats))\n",
    "np.save(\"./results/v4/stats_inputs.npy\",np.array(input_stats))"
   ]
  },
  {
   "cell_type": "code",
   "execution_count": 18,
   "metadata": {},
   "outputs": [
    {
     "name": "stdout",
     "output_type": "stream",
     "text": [
      "[11055  8915  1318  7221 11468  7540   664  6137  6833  8471  9449  7322\n",
      "  8222  1182  7916  8060  7962 10682 10360  7644 11589 11600  9161  2431\n",
      "   246  2558  3503  5682  3824  5883  5196 12198  1530 13507 10983  7307\n",
      "  6784  4841 12107 10576     3  1282  1299 11148  6603  4467  3691 11278\n",
      "  3315 10695 12092  8682  6763  4014  7068  3153  9047  9997  4212 12896\n",
      " 11148 12485   625  3039  8165 11935  8953 13308 11865  9300 10285  2576\n",
      " 12329 12216  5206  8108   986 11219  2351  5138  9813  9902  2530 12069\n",
      "  6950 12423  3044  1731  1774  2607  3062 10484 10614  8879  9103  2594\n",
      "    10  3356  5124  2130]\n"
     ]
    },
    {
     "data": {
      "image/png": "[encoded data removed]",
      "text/plain": [
       "<Figure size 1000x1000 with 2 Axes>"
      ]
     },
     "metadata": {},
     "output_type": "display_data"
    }
   ],
   "source": [
    "np.random.seed(1234)\n",
    "results_indices = np.random.randint(0,len(test_dfs),size=100)\n",
    "print(results_indices)\n",
    "\n",
    "for index in results_indices:\n",
    "    _ = saliency(index, False, True)"
   ]
  }
 ],
 "metadata": {
  "kernelspec": {
   "display_name": "ece4179",
   "language": "python",
   "name": "python3"
  },
  "language_info": {
   "codemirror_mode": {
    "name": "ipython",
    "version": 3
   },
   "file_extension": ".py",
   "mimetype": "text/x-python",
   "name": "python",
   "nbconvert_exporter": "python",
   "pygments_lexer": "ipython3",
   "version": "3.11.7"
  }
 },
 "nbformat": 4,
 "nbformat_minor": 2
}
