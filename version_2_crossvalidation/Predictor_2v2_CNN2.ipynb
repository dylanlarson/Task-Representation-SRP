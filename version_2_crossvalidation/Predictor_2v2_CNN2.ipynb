{
 "cells": [
  {
   "cell_type": "code",
   "execution_count": 1,
   "metadata": {},
   "outputs": [
    {
     "name": "stdout",
     "output_type": "stream",
     "text": [
      "cuda:0\n"
     ]
    }
   ],
   "source": [
    "# If you run on google colab uncomment bellow comment\n",
    "# !pip install torchmetrics pytorch-lightning torchvision -qq\n",
    "# !pip install imutils\n",
    "\n",
    "import os\n",
    "import numpy as np\n",
    "import pandas as pd\n",
    "import matplotlib.pyplot as plt\n",
    "from math import *\n",
    "\n",
    "import torch\n",
    "import torchvision\n",
    "import torch.nn as nn\n",
    "from torchvision import transforms\n",
    "from torch.utils.data import DataLoader\n",
    "from torchmetrics import Accuracy\n",
    "\n",
    "import lightning as pl # Pytorch lightning is a wrapper for pytorch that makes it easier to train models\n",
    "from lightning.pytorch.loggers import CSVLogger\n",
    "from lightning.pytorch.callbacks import Callback, ModelCheckpoint, EarlyStopping\n",
    "from lightning.pytorch.callbacks.progress import RichProgressBar\n",
    "from lightning.pytorch.callbacks.progress.rich_progress import RichProgressBarTheme\n",
    "\n",
    "\n",
    "import os\n",
    "os.environ['KMP_DUPLICATE_LIB_OK']='True'\n",
    "\n",
    "BATCH_SIZE = 1#256 if torch.cuda.is_available() else 48\n",
    "# Define GPU number\n",
    "GPU_indx = 0\n",
    "device = torch.device(GPU_indx if torch.cuda.is_available() else 'cpu')\n",
    "print(device)\n",
    "num_workers = 7 # Set to your device\n",
    "\n",
    "import json\n",
    "\n",
    "torch.set_float32_matmul_precision('medium')"
   ]
  },
  {
   "cell_type": "code",
   "execution_count": 2,
   "metadata": {},
   "outputs": [],
   "source": [
    "data_transforms_none = transforms.Compose([\n",
    "    # Convert the image to a PyTorch tensor\n",
    "    transforms.ToTensor()\n",
    "])\n",
    "\n",
    "def norm_stats(ds):\n",
    "    L=len(ds)\n",
    "    mean_total = np.zeros(3)\n",
    "    std_total = np.zeros(3)\n",
    "    for i in range(L):\n",
    "        img = (ds.__getitem__(i))[0].numpy()\n",
    "        img = img.reshape(img.shape[0],img.shape[1]*img.shape[2])\n",
    "\n",
    "        mean_total += np.mean(img,axis=1)\n",
    "        std_total += np.std(img,axis=1)\n",
    "\n",
    "    means = (mean_total/L).tolist()\n",
    "    stds = (std_total/L).tolist()\n",
    "\n",
    "    return means, stds    "
   ]
  },
  {
   "cell_type": "code",
   "execution_count": 2,
   "metadata": {},
   "outputs": [],
   "source": [
    "# We will use modular convolutional blocks. \n",
    "# Define a convolutional layer along with an activation function\n",
    "# Remember, you can use other techniques you have learnt from the lectures and workshops such as dropout, batchnorm, pooling etc.\n",
    "\n",
    "class ConvBlock(nn.Module):\n",
    "\n",
    "    def __init__(self, channels_in, channels_out,stride=1):\n",
    "        super(ConvBlock, self).__init__()     # Call constructor\n",
    "        middle_channel = (channels_in+channels_out)//2\n",
    "        # print(middle_channel)\n",
    "        self.conv1 = nn.Conv2d(in_channels=channels_in,out_channels=middle_channel, kernel_size=3,stride=stride)\n",
    "        self.conv2 = nn.Conv2d(in_channels=middle_channel,out_channels=channels_out, kernel_size=3,stride=stride)\n",
    "        self.activ = nn.LeakyReLU()\n",
    "        self.pool = nn.MaxPool2d(2)\n",
    "        #self.batchnorm1 = nn.BatchNorm2d(middle_channel)\n",
    "        #self.batchnorm2 = nn.BatchNorm2d(channels_out)\n",
    "\n",
    "    def forward(self, x):\n",
    "        x = self.conv1(x)\n",
    "\n",
    "        x = self.pool(x)\n",
    "        x = self.activ(x)\n",
    "\n",
    "        x = self.conv2(x)\n",
    "        x = self.activ(x)\n",
    "        return x\n",
    "\n"
   ]
  },
  {
   "cell_type": "code",
   "execution_count": 3,
   "metadata": {},
   "outputs": [
    {
     "name": "stderr",
     "output_type": "stream",
     "text": [
      "GPU available: True (cuda), used: True\n"
     ]
    },
    {
     "name": "stdout",
     "output_type": "stream",
     "text": [
      "5\n",
      "12\n"
     ]
    },
    {
     "name": "stderr",
     "output_type": "stream",
     "text": [
      "TPU available: False, using: 0 TPU cores\n",
      "IPU available: False, using: 0 IPUs\n",
      "HPU available: False, using: 0 HPUs\n",
      "LOCAL_RANK: 0 - CUDA_VISIBLE_DEVICES: [0]\n",
      "\n",
      "   | Name           | Type               | Params\n",
      "-------------------------------------------------------\n",
      "0  | criterion      | CrossEntropyLoss   | 0     \n",
      "1  | conv_blk1      | ConvBlock          | 508   \n",
      "2  | conv_blk2      | ConvBlock          | 2.6 K \n",
      "3  | pool           | MaxPool2d          | 0     \n",
      "4  | gap            | AdaptiveAvgPool2d  | 0     \n",
      "5  | dropout        | Dropout            | 0     \n",
      "6  | fc1            | Linear             | 640 K \n",
      "7  | fc2            | Linear             | 6.5 K \n",
      "8  | fc3            | Linear             | 390   \n",
      "9  | leaky_relu     | LeakyReLU          | 0     \n",
      "10 | train_accuracy | MulticlassAccuracy | 0     \n",
      "11 | val_accuracy   | MulticlassAccuracy | 0     \n",
      "12 | test_accuracy  | MulticlassAccuracy | 0     \n",
      "-------------------------------------------------------\n",
      "650 K     Trainable params\n",
      "0         Non-trainable params\n",
      "650 K     Total params\n",
      "2.600     Total estimated model params size (MB)\n"
     ]
    },
    {
     "data": {
      "application/vnd.jupyter.widget-view+json": {
       "model_id": "74664919c27e4803a67f593403d9df57",
       "version_major": 2,
       "version_minor": 0
      },
      "text/plain": [
       "Sanity Checking: 0it [00:00, ?it/s]"
      ]
     },
     "metadata": {},
     "output_type": "display_data"
    },
    {
     "name": "stderr",
     "output_type": "stream",
     "text": [
      "c:\\Users\\shelb\\anaconda3\\envs\\pytorch\\Lib\\site-packages\\lightning\\pytorch\\trainer\\connectors\\logger_connector\\result.py:212: UserWarning: You called `self.log('epoch', ...)` in your `validation_step` but the value needs to be floating point. Converting it to torch.float32.\n",
      "  warning_cache.warn(\n"
     ]
    },
    {
     "data": {
      "application/vnd.jupyter.widget-view+json": {
       "model_id": "c1315483825148d398af5253bbac1f53",
       "version_major": 2,
       "version_minor": 0
      },
      "text/plain": [
       "Training: 0it [00:00, ?it/s]"
      ]
     },
     "metadata": {},
     "output_type": "display_data"
    },
    {
     "name": "stderr",
     "output_type": "stream",
     "text": [
      "c:\\Users\\shelb\\anaconda3\\envs\\pytorch\\Lib\\site-packages\\lightning\\pytorch\\trainer\\connectors\\logger_connector\\result.py:212: UserWarning: You called `self.log('epoch', ...)` in your `training_step` but the value needs to be floating point. Converting it to torch.float32.\n",
      "  warning_cache.warn(\n"
     ]
    },
    {
     "data": {
      "application/vnd.jupyter.widget-view+json": {
       "model_id": "2a5923545af647c2b15c2387dc76c046",
       "version_major": 2,
       "version_minor": 0
      },
      "text/plain": [
       "Validation: 0it [00:00, ?it/s]"
      ]
     },
     "metadata": {},
     "output_type": "display_data"
    },
    {
     "data": {
      "application/vnd.jupyter.widget-view+json": {
       "model_id": "7f830197a9934fef8c7ddaa94285a457",
       "version_major": 2,
       "version_minor": 0
      },
      "text/plain": [
       "Validation: 0it [00:00, ?it/s]"
      ]
     },
     "metadata": {},
     "output_type": "display_data"
    },
    {
     "data": {
      "application/vnd.jupyter.widget-view+json": {
       "model_id": "88feab6c68f0415b9fa17d61e9f6ea9b",
       "version_major": 2,
       "version_minor": 0
      },
      "text/plain": [
       "Validation: 0it [00:00, ?it/s]"
      ]
     },
     "metadata": {},
     "output_type": "display_data"
    },
    {
     "data": {
      "application/vnd.jupyter.widget-view+json": {
       "model_id": "815cb2d6c8b746ada9d74fd8ea8f74fd",
       "version_major": 2,
       "version_minor": 0
      },
      "text/plain": [
       "Validation: 0it [00:00, ?it/s]"
      ]
     },
     "metadata": {},
     "output_type": "display_data"
    },
    {
     "data": {
      "application/vnd.jupyter.widget-view+json": {
       "model_id": "f70a1739c4a1483ba599994c2633e2ef",
       "version_major": 2,
       "version_minor": 0
      },
      "text/plain": [
       "Validation: 0it [00:00, ?it/s]"
      ]
     },
     "metadata": {},
     "output_type": "display_data"
    },
    {
     "data": {
      "application/vnd.jupyter.widget-view+json": {
       "model_id": "7214043841244fe0a2d02529d7ae20b8",
       "version_major": 2,
       "version_minor": 0
      },
      "text/plain": [
       "Validation: 0it [00:00, ?it/s]"
      ]
     },
     "metadata": {},
     "output_type": "display_data"
    },
    {
     "data": {
      "application/vnd.jupyter.widget-view+json": {
       "model_id": "39b8434e5cf64cea85746aaf193a5847",
       "version_major": 2,
       "version_minor": 0
      },
      "text/plain": [
       "Validation: 0it [00:00, ?it/s]"
      ]
     },
     "metadata": {},
     "output_type": "display_data"
    },
    {
     "data": {
      "application/vnd.jupyter.widget-view+json": {
       "model_id": "fe48c173f1cc441d88cc13b10a9eb4c9",
       "version_major": 2,
       "version_minor": 0
      },
      "text/plain": [
       "Validation: 0it [00:00, ?it/s]"
      ]
     },
     "metadata": {},
     "output_type": "display_data"
    },
    {
     "data": {
      "application/vnd.jupyter.widget-view+json": {
       "model_id": "e1473a5754294594a9f45e5aebc0791e",
       "version_major": 2,
       "version_minor": 0
      },
      "text/plain": [
       "Validation: 0it [00:00, ?it/s]"
      ]
     },
     "metadata": {},
     "output_type": "display_data"
    },
    {
     "data": {
      "application/vnd.jupyter.widget-view+json": {
       "model_id": "79771d0f71bb47e1b6377794dfd0eddb",
       "version_major": 2,
       "version_minor": 0
      },
      "text/plain": [
       "Validation: 0it [00:00, ?it/s]"
      ]
     },
     "metadata": {},
     "output_type": "display_data"
    },
    {
     "data": {
      "application/vnd.jupyter.widget-view+json": {
       "model_id": "29fb03eb65534db3bf692451b60c040d",
       "version_major": 2,
       "version_minor": 0
      },
      "text/plain": [
       "Validation: 0it [00:00, ?it/s]"
      ]
     },
     "metadata": {},
     "output_type": "display_data"
    },
    {
     "data": {
      "application/vnd.jupyter.widget-view+json": {
       "model_id": "3d051f76f551494c8497f8c0c2570250",
       "version_major": 2,
       "version_minor": 0
      },
      "text/plain": [
       "Validation: 0it [00:00, ?it/s]"
      ]
     },
     "metadata": {},
     "output_type": "display_data"
    },
    {
     "data": {
      "application/vnd.jupyter.widget-view+json": {
       "model_id": "78d7d705e6234d8c9345a1a3a1cebbd4",
       "version_major": 2,
       "version_minor": 0
      },
      "text/plain": [
       "Validation: 0it [00:00, ?it/s]"
      ]
     },
     "metadata": {},
     "output_type": "display_data"
    },
    {
     "data": {
      "application/vnd.jupyter.widget-view+json": {
       "model_id": "c17823684af4469caa0fea66819d3559",
       "version_major": 2,
       "version_minor": 0
      },
      "text/plain": [
       "Validation: 0it [00:00, ?it/s]"
      ]
     },
     "metadata": {},
     "output_type": "display_data"
    },
    {
     "data": {
      "application/vnd.jupyter.widget-view+json": {
       "model_id": "38fbc105b75d4ce891312a359213a3e7",
       "version_major": 2,
       "version_minor": 0
      },
      "text/plain": [
       "Validation: 0it [00:00, ?it/s]"
      ]
     },
     "metadata": {},
     "output_type": "display_data"
    },
    {
     "name": "stderr",
     "output_type": "stream",
     "text": [
      "`Trainer.fit` stopped: `max_epochs=15` reached.\n",
      "GPU available: True (cuda), used: True\n",
      "TPU available: False, using: 0 TPU cores\n",
      "IPU available: False, using: 0 IPUs\n",
      "HPU available: False, using: 0 HPUs\n",
      "LOCAL_RANK: 0 - CUDA_VISIBLE_DEVICES: [0]\n",
      "\n",
      "   | Name           | Type               | Params\n",
      "-------------------------------------------------------\n",
      "0  | criterion      | CrossEntropyLoss   | 0     \n",
      "1  | conv_blk1      | ConvBlock          | 508   \n",
      "2  | conv_blk2      | ConvBlock          | 2.6 K \n",
      "3  | pool           | MaxPool2d          | 0     \n",
      "4  | gap            | AdaptiveAvgPool2d  | 0     \n",
      "5  | dropout        | Dropout            | 0     \n",
      "6  | fc1            | Linear             | 640 K \n",
      "7  | fc2            | Linear             | 6.5 K \n",
      "8  | fc3            | Linear             | 390   \n",
      "9  | leaky_relu     | LeakyReLU          | 0     \n",
      "10 | train_accuracy | MulticlassAccuracy | 0     \n",
      "11 | val_accuracy   | MulticlassAccuracy | 0     \n",
      "12 | test_accuracy  | MulticlassAccuracy | 0     \n",
      "-------------------------------------------------------\n",
      "650 K     Trainable params\n",
      "0         Non-trainable params\n",
      "650 K     Total params\n",
      "2.600     Total estimated model params size (MB)\n"
     ]
    },
    {
     "name": "stdout",
     "output_type": "stream",
     "text": [
      "5\n",
      "12\n"
     ]
    },
    {
     "data": {
      "application/vnd.jupyter.widget-view+json": {
       "model_id": "bd96c0eec086480bb0fad921aec23d85",
       "version_major": 2,
       "version_minor": 0
      },
      "text/plain": [
       "Sanity Checking: 0it [00:00, ?it/s]"
      ]
     },
     "metadata": {},
     "output_type": "display_data"
    },
    {
     "data": {
      "application/vnd.jupyter.widget-view+json": {
       "model_id": "eac953631bbd4a93b759cbc31f08c2dc",
       "version_major": 2,
       "version_minor": 0
      },
      "text/plain": [
       "Training: 0it [00:00, ?it/s]"
      ]
     },
     "metadata": {},
     "output_type": "display_data"
    },
    {
     "data": {
      "application/vnd.jupyter.widget-view+json": {
       "model_id": "f2f28a7e621344b288da3243eb20e1b0",
       "version_major": 2,
       "version_minor": 0
      },
      "text/plain": [
       "Validation: 0it [00:00, ?it/s]"
      ]
     },
     "metadata": {},
     "output_type": "display_data"
    },
    {
     "data": {
      "application/vnd.jupyter.widget-view+json": {
       "model_id": "37faa03664d745528c5e163e76273d90",
       "version_major": 2,
       "version_minor": 0
      },
      "text/plain": [
       "Validation: 0it [00:00, ?it/s]"
      ]
     },
     "metadata": {},
     "output_type": "display_data"
    },
    {
     "data": {
      "application/vnd.jupyter.widget-view+json": {
       "model_id": "4bed872c80214a8bb6640fa860370218",
       "version_major": 2,
       "version_minor": 0
      },
      "text/plain": [
       "Validation: 0it [00:00, ?it/s]"
      ]
     },
     "metadata": {},
     "output_type": "display_data"
    },
    {
     "data": {
      "application/vnd.jupyter.widget-view+json": {
       "model_id": "4d996cf0312d4b2ea163afb42d700008",
       "version_major": 2,
       "version_minor": 0
      },
      "text/plain": [
       "Validation: 0it [00:00, ?it/s]"
      ]
     },
     "metadata": {},
     "output_type": "display_data"
    },
    {
     "data": {
      "application/vnd.jupyter.widget-view+json": {
       "model_id": "835758f2f5e04b29bc46f16e76664b47",
       "version_major": 2,
       "version_minor": 0
      },
      "text/plain": [
       "Validation: 0it [00:00, ?it/s]"
      ]
     },
     "metadata": {},
     "output_type": "display_data"
    },
    {
     "data": {
      "application/vnd.jupyter.widget-view+json": {
       "model_id": "69e360c11baa4132b449136d3a2b466b",
       "version_major": 2,
       "version_minor": 0
      },
      "text/plain": [
       "Validation: 0it [00:00, ?it/s]"
      ]
     },
     "metadata": {},
     "output_type": "display_data"
    },
    {
     "data": {
      "application/vnd.jupyter.widget-view+json": {
       "model_id": "a2a7176beccd4ca39ca29908ece3a527",
       "version_major": 2,
       "version_minor": 0
      },
      "text/plain": [
       "Validation: 0it [00:00, ?it/s]"
      ]
     },
     "metadata": {},
     "output_type": "display_data"
    },
    {
     "data": {
      "application/vnd.jupyter.widget-view+json": {
       "model_id": "38e45a941cdb4d0da2dc6326044fea80",
       "version_major": 2,
       "version_minor": 0
      },
      "text/plain": [
       "Validation: 0it [00:00, ?it/s]"
      ]
     },
     "metadata": {},
     "output_type": "display_data"
    },
    {
     "data": {
      "application/vnd.jupyter.widget-view+json": {
       "model_id": "12e4d5ce442847de9cd1d0cabc4b0a37",
       "version_major": 2,
       "version_minor": 0
      },
      "text/plain": [
       "Validation: 0it [00:00, ?it/s]"
      ]
     },
     "metadata": {},
     "output_type": "display_data"
    },
    {
     "data": {
      "application/vnd.jupyter.widget-view+json": {
       "model_id": "abae4a036d49427fb3e966799324d8dc",
       "version_major": 2,
       "version_minor": 0
      },
      "text/plain": [
       "Validation: 0it [00:00, ?it/s]"
      ]
     },
     "metadata": {},
     "output_type": "display_data"
    },
    {
     "data": {
      "application/vnd.jupyter.widget-view+json": {
       "model_id": "0229c5d8fd74494e8e0dd37b25584876",
       "version_major": 2,
       "version_minor": 0
      },
      "text/plain": [
       "Validation: 0it [00:00, ?it/s]"
      ]
     },
     "metadata": {},
     "output_type": "display_data"
    },
    {
     "data": {
      "application/vnd.jupyter.widget-view+json": {
       "model_id": "1599cd56bfa64859a91534c3480aeaa1",
       "version_major": 2,
       "version_minor": 0
      },
      "text/plain": [
       "Validation: 0it [00:00, ?it/s]"
      ]
     },
     "metadata": {},
     "output_type": "display_data"
    },
    {
     "data": {
      "application/vnd.jupyter.widget-view+json": {
       "model_id": "e4c9abcd0a754ac7878f0843c9bb2c3b",
       "version_major": 2,
       "version_minor": 0
      },
      "text/plain": [
       "Validation: 0it [00:00, ?it/s]"
      ]
     },
     "metadata": {},
     "output_type": "display_data"
    },
    {
     "data": {
      "application/vnd.jupyter.widget-view+json": {
       "model_id": "2ae725ac3c5b4cbcb8d76c79dd3954df",
       "version_major": 2,
       "version_minor": 0
      },
      "text/plain": [
       "Validation: 0it [00:00, ?it/s]"
      ]
     },
     "metadata": {},
     "output_type": "display_data"
    },
    {
     "data": {
      "application/vnd.jupyter.widget-view+json": {
       "model_id": "763fa5c84bc7440d94c3cc48c1a0b295",
       "version_major": 2,
       "version_minor": 0
      },
      "text/plain": [
       "Validation: 0it [00:00, ?it/s]"
      ]
     },
     "metadata": {},
     "output_type": "display_data"
    },
    {
     "name": "stderr",
     "output_type": "stream",
     "text": [
      "`Trainer.fit` stopped: `max_epochs=15` reached.\n",
      "GPU available: True (cuda), used: True\n",
      "TPU available: False, using: 0 TPU cores\n",
      "IPU available: False, using: 0 IPUs\n",
      "HPU available: False, using: 0 HPUs\n",
      "LOCAL_RANK: 0 - CUDA_VISIBLE_DEVICES: [0]\n",
      "\n",
      "   | Name           | Type               | Params\n",
      "-------------------------------------------------------\n",
      "0  | criterion      | CrossEntropyLoss   | 0     \n",
      "1  | conv_blk1      | ConvBlock          | 508   \n",
      "2  | conv_blk2      | ConvBlock          | 2.6 K \n",
      "3  | pool           | MaxPool2d          | 0     \n",
      "4  | gap            | AdaptiveAvgPool2d  | 0     \n",
      "5  | dropout        | Dropout            | 0     \n",
      "6  | fc1            | Linear             | 640 K \n",
      "7  | fc2            | Linear             | 6.5 K \n",
      "8  | fc3            | Linear             | 390   \n",
      "9  | leaky_relu     | LeakyReLU          | 0     \n",
      "10 | train_accuracy | MulticlassAccuracy | 0     \n",
      "11 | val_accuracy   | MulticlassAccuracy | 0     \n",
      "12 | test_accuracy  | MulticlassAccuracy | 0     \n",
      "-------------------------------------------------------\n",
      "650 K     Trainable params\n",
      "0         Non-trainable params\n",
      "650 K     Total params\n",
      "2.600     Total estimated model params size (MB)\n"
     ]
    },
    {
     "name": "stdout",
     "output_type": "stream",
     "text": [
      "5\n",
      "12\n"
     ]
    },
    {
     "data": {
      "application/vnd.jupyter.widget-view+json": {
       "model_id": "96910ddd15724e70bd1eb5576bd3c927",
       "version_major": 2,
       "version_minor": 0
      },
      "text/plain": [
       "Sanity Checking: 0it [00:00, ?it/s]"
      ]
     },
     "metadata": {},
     "output_type": "display_data"
    },
    {
     "data": {
      "application/vnd.jupyter.widget-view+json": {
       "model_id": "40d9189439da4e8d93c7bd593e43a873",
       "version_major": 2,
       "version_minor": 0
      },
      "text/plain": [
       "Training: 0it [00:00, ?it/s]"
      ]
     },
     "metadata": {},
     "output_type": "display_data"
    },
    {
     "data": {
      "application/vnd.jupyter.widget-view+json": {
       "model_id": "ba8c19d1009d4bb8afce5e401bd921fb",
       "version_major": 2,
       "version_minor": 0
      },
      "text/plain": [
       "Validation: 0it [00:00, ?it/s]"
      ]
     },
     "metadata": {},
     "output_type": "display_data"
    },
    {
     "data": {
      "application/vnd.jupyter.widget-view+json": {
       "model_id": "02dd0ea97ba849538b86fb20ad7abfd2",
       "version_major": 2,
       "version_minor": 0
      },
      "text/plain": [
       "Validation: 0it [00:00, ?it/s]"
      ]
     },
     "metadata": {},
     "output_type": "display_data"
    },
    {
     "data": {
      "application/vnd.jupyter.widget-view+json": {
       "model_id": "e894f0a25af7412499dffe59778c5d13",
       "version_major": 2,
       "version_minor": 0
      },
      "text/plain": [
       "Validation: 0it [00:00, ?it/s]"
      ]
     },
     "metadata": {},
     "output_type": "display_data"
    },
    {
     "data": {
      "application/vnd.jupyter.widget-view+json": {
       "model_id": "aee22bf4148c4fb686d45d4ece2acab7",
       "version_major": 2,
       "version_minor": 0
      },
      "text/plain": [
       "Validation: 0it [00:00, ?it/s]"
      ]
     },
     "metadata": {},
     "output_type": "display_data"
    },
    {
     "data": {
      "application/vnd.jupyter.widget-view+json": {
       "model_id": "574c50d114824161bda2de447a9c0055",
       "version_major": 2,
       "version_minor": 0
      },
      "text/plain": [
       "Validation: 0it [00:00, ?it/s]"
      ]
     },
     "metadata": {},
     "output_type": "display_data"
    },
    {
     "data": {
      "application/vnd.jupyter.widget-view+json": {
       "model_id": "d59018c2e1e440ecbde3b30a26e8c2cf",
       "version_major": 2,
       "version_minor": 0
      },
      "text/plain": [
       "Validation: 0it [00:00, ?it/s]"
      ]
     },
     "metadata": {},
     "output_type": "display_data"
    },
    {
     "data": {
      "application/vnd.jupyter.widget-view+json": {
       "model_id": "c99ddbec7ae64d36acf58a4bb2192c8a",
       "version_major": 2,
       "version_minor": 0
      },
      "text/plain": [
       "Validation: 0it [00:00, ?it/s]"
      ]
     },
     "metadata": {},
     "output_type": "display_data"
    },
    {
     "data": {
      "application/vnd.jupyter.widget-view+json": {
       "model_id": "55ddb6bdecaa414ba44e947b9014e2a8",
       "version_major": 2,
       "version_minor": 0
      },
      "text/plain": [
       "Validation: 0it [00:00, ?it/s]"
      ]
     },
     "metadata": {},
     "output_type": "display_data"
    },
    {
     "data": {
      "application/vnd.jupyter.widget-view+json": {
       "model_id": "5f9f4f1184dd477e8245cf70f6e916c4",
       "version_major": 2,
       "version_minor": 0
      },
      "text/plain": [
       "Validation: 0it [00:00, ?it/s]"
      ]
     },
     "metadata": {},
     "output_type": "display_data"
    },
    {
     "data": {
      "application/vnd.jupyter.widget-view+json": {
       "model_id": "ab0da0576137440492b4f420658c980b",
       "version_major": 2,
       "version_minor": 0
      },
      "text/plain": [
       "Validation: 0it [00:00, ?it/s]"
      ]
     },
     "metadata": {},
     "output_type": "display_data"
    },
    {
     "data": {
      "application/vnd.jupyter.widget-view+json": {
       "model_id": "0a74cc66dc3b499680d6f5b24bdb69b7",
       "version_major": 2,
       "version_minor": 0
      },
      "text/plain": [
       "Validation: 0it [00:00, ?it/s]"
      ]
     },
     "metadata": {},
     "output_type": "display_data"
    },
    {
     "data": {
      "application/vnd.jupyter.widget-view+json": {
       "model_id": "0b387a1896bf4439aeb54391b18c93f7",
       "version_major": 2,
       "version_minor": 0
      },
      "text/plain": [
       "Validation: 0it [00:00, ?it/s]"
      ]
     },
     "metadata": {},
     "output_type": "display_data"
    },
    {
     "data": {
      "application/vnd.jupyter.widget-view+json": {
       "model_id": "b61728929d514a5bb2c13568dc27f9d3",
       "version_major": 2,
       "version_minor": 0
      },
      "text/plain": [
       "Validation: 0it [00:00, ?it/s]"
      ]
     },
     "metadata": {},
     "output_type": "display_data"
    },
    {
     "data": {
      "application/vnd.jupyter.widget-view+json": {
       "model_id": "44754487e8e34c7184fe311647c5d396",
       "version_major": 2,
       "version_minor": 0
      },
      "text/plain": [
       "Validation: 0it [00:00, ?it/s]"
      ]
     },
     "metadata": {},
     "output_type": "display_data"
    },
    {
     "data": {
      "application/vnd.jupyter.widget-view+json": {
       "model_id": "bd10744bc9ea4f0c9772bb564a2670c0",
       "version_major": 2,
       "version_minor": 0
      },
      "text/plain": [
       "Validation: 0it [00:00, ?it/s]"
      ]
     },
     "metadata": {},
     "output_type": "display_data"
    },
    {
     "name": "stderr",
     "output_type": "stream",
     "text": [
      "`Trainer.fit` stopped: `max_epochs=15` reached.\n"
     ]
    }
   ],
   "source": [
    "for crossval_idx in [1,2,3,4]:\n",
    "    # train_ds = torchvision.datasets.ImageFolder(f\"./data/imgs/train{crossval_idx}/\",transform=data_transforms_none)\n",
    "    # means, stds = norm_stats(train_ds)\n",
    "    # print(\"Mean\",means, \" Std\",stds)\n",
    "\n",
    "    means = [0.66, 0.53, 0.27]\n",
    "    stds = [0.13, 0.17, 0.31]\n",
    "\n",
    "    data_transforms = transforms.Compose([\n",
    "        # Convert the image to a PyTorch tensor\n",
    "        transforms.ToTensor(),\n",
    "        transforms.Normalize(means,stds)\n",
    "    ])\n",
    "\n",
    "    train_set = torchvision.datasets.ImageFolder(f\"./data/imgs/train{crossval_idx}/\",transform=data_transforms)\n",
    "    val_set = torchvision.datasets.ImageFolder(f\"./data/imgs/val{crossval_idx}/\",transform=data_transforms)\n",
    "    test_set = torchvision.datasets.ImageFolder(f\"./data/imgs/test/\",transform=data_transforms)\n",
    "\n",
    "    # Create Dataloaders again with features generated from pre-trained CNN model\n",
    "    train_loader = DataLoader(train_set, batch_size=BATCH_SIZE, shuffle=True, num_workers=num_workers, persistent_workers=True)\n",
    "    valid_loader = DataLoader(val_set, batch_size=BATCH_SIZE, shuffle=False, num_workers=num_workers, persistent_workers=True)\n",
    "    test_loader = DataLoader(test_set, batch_size=BATCH_SIZE, shuffle=False, num_workers=num_workers)#, persistent_workers=True)\n",
    "\n",
    "    \n",
    "    #Let's create a simple CNN for image classification\n",
    "    class Simple_CNN(pl.LightningModule):\n",
    "        def __init__(self, num_classes=6, learning_rate=1e-3):\n",
    "            super().__init__()\n",
    "            \n",
    "            self.learning_rate = learning_rate\n",
    "            self.num_classes = num_classes\n",
    "            self.criterion = nn.CrossEntropyLoss()\n",
    "            \n",
    "            # Initialise at least 2 convolutional blocks with\n",
    "            self.conv_blk1 = ConvBlock(3, 8,stride = 2)\n",
    "            self.conv_blk2 = ConvBlock(8,16,stride = 2)\n",
    "            \n",
    "            # You can use other layers too, feel free to define them here\n",
    "            self.pool = nn.MaxPool2d(2)\n",
    "            self.gap = nn.AdaptiveAvgPool2d(output_size=20)\n",
    "            self.dropout = nn.Dropout(0.1)\n",
    "            \n",
    "            # You will need to define your fully connected layer:\n",
    "            self.fc1 = nn.Linear(16*20*20,100)\n",
    "            self.fc2 = nn.Linear(100,64)\n",
    "            self.fc3 = nn.Linear(64, num_classes)\n",
    "\n",
    "            self.leaky_relu = nn.LeakyReLU()\n",
    "            \n",
    "            # Define your accuracies        \n",
    "            self.train_accuracy = Accuracy(task=\"multiclass\",num_classes=num_classes)\n",
    "            self.val_accuracy = Accuracy(task=\"multiclass\",num_classes=num_classes)\n",
    "            self.test_accuracy = Accuracy(task=\"multiclass\",num_classes=num_classes)\n",
    "            \n",
    "            \n",
    "        def forward(self, x):\n",
    "            x = self.dropout(x)\n",
    "            x = self.conv_blk1(x)\n",
    "            x = self.pool(x)\n",
    "            x = self.dropout(x)\n",
    "            x = self.conv_blk2(x)\n",
    "            x = self.gap(x)\n",
    "\n",
    "            x = torch.flatten(x,start_dim=1)\n",
    "            x = self.dropout(x)\n",
    "            x = self.leaky_relu(self.fc1(x))\n",
    "            # x = self.dropout(x)\n",
    "            x = self.leaky_relu(self.fc2(x))\n",
    "            x = self.dropout(x)\n",
    "            x = self.leaky_relu(self.fc3(x))\n",
    "\n",
    "            return x\n",
    "        \n",
    "        def training_step(self, batch, batch_idx):\n",
    "            x, y= batch\n",
    "            logits = self(x)\n",
    "            loss = self.criterion(logits, y)\n",
    "\n",
    "            # Compute accuracy\n",
    "            preds = logits.argmax(1)\n",
    "            self.train_accuracy.update(preds, y)\n",
    "            acc = self.train_accuracy.compute()\n",
    "\n",
    "            # Record accuracy and loss\n",
    "            # Log anything you think necessary\n",
    "            train_dict = {\"train_loss\": loss,\n",
    "                        \"train_acc\": acc,\n",
    "                        \"epoch\": self.current_epoch}\n",
    "            \n",
    "            self.log_dict(train_dict, prog_bar=True, on_step=False, on_epoch=True)\n",
    "\n",
    "            return loss\n",
    "\n",
    "        def validation_step(self, batch, batch_idx):\n",
    "            x, y= batch\n",
    "            logits = self(x)\n",
    "            loss = self.criterion(logits, y)\n",
    "\n",
    "            # Compute accuracy\n",
    "            preds = logits.argmax(1)\n",
    "            self.val_accuracy.update(preds, y)\n",
    "            acc = self.val_accuracy.compute()\n",
    "\n",
    "            # Record accuracy and loss\n",
    "            # Log anything you think necessary\n",
    "            val_dict = {\"val_loss\": loss,\n",
    "                        \"val_acc\": acc,\n",
    "                        \"epoch\": self.current_epoch}\n",
    "            \n",
    "            self.log_dict(val_dict, prog_bar=True, on_step=False, on_epoch=True)\n",
    "        \n",
    "            \n",
    "\n",
    "        def test_step(self, batch, batch_idx):\n",
    "            x, y= batch\n",
    "            logits = self(x)\n",
    "            loss = self.criterion(logits, y)\n",
    "\n",
    "            # Compute accuracy\n",
    "            preds = logits.argmax(1)\n",
    "            self.test_accuracy.update(preds, y)\n",
    "            acc = self.test_accuracy.compute()\n",
    "\n",
    "            # Record accuracy and loss\n",
    "            # Log anything you think necessary\n",
    "            test_dict = {\"test_loss\": loss,\n",
    "                        \"test_acc\": acc,\n",
    "                        \"epoch\": self.current_epoch}\n",
    "            \n",
    "            self.log_dict(test_dict, prog_bar=True, on_step=False, on_epoch=True)\n",
    "\n",
    "            return preds, logits, x, y\n",
    "        \n",
    "        def predict_step(self, batch, batch_idx):\n",
    "            x, y= batch\n",
    "            logits = self(x)\n",
    "            loss = self.criterion(logits, y)\n",
    "\n",
    "            # Compute accuracy\n",
    "            preds = logits.argmax(1)\n",
    "            self.test_accuracy.update(preds, y)\n",
    "\n",
    "            return preds, logits, x, y\n",
    "\n",
    "            \n",
    "\n",
    "        def configure_optimizers(self):\n",
    "            optimizer = torch.optim.Adam(self.parameters(),self.learning_rate)\n",
    "            return optimizer\n",
    "\n",
    "        ##########\n",
    "        # DATA RELATED HOOKS\n",
    "        ##########\n",
    "\n",
    "        def train_dataloader(self):\n",
    "            return train_loader\n",
    "        def val_dataloader(self):\n",
    "            return valid_loader\n",
    "        def test_dataloader(self):\n",
    "            return test_loader\n",
    "    \n",
    "    # Initialize the CNN model\n",
    "    max_epochs = 15 # Feel free to change this\n",
    "    model_cnn = Simple_CNN()\n",
    "\n",
    "    # Initialize checkpoint callback to save the best model using validation loss\n",
    "    checkpoint_callback = ModelCheckpoint(\n",
    "            monitor=\"val_loss\",\n",
    "            dirpath=f\"checkpoints_section/v2_{crossval_idx}/\",\n",
    "            save_top_k=1,        \n",
    "            mode=\"min\",\n",
    "            every_n_epochs=1\n",
    "        )\n",
    "\n",
    "    # Call the Trainer and train the model\n",
    "    early_stopping = EarlyStopping('val_loss', patience = 10, mode = 'min')\n",
    "\n",
    "    trainer_task = pl.Trainer(\n",
    "        accelerator=\"auto\",#\"cpu\",\n",
    "        devices=1, #if torch.cuda.is_available() else None,  # limiting got iPython runs\n",
    "        max_epochs=max_epochs,\n",
    "        callbacks=[checkpoint_callback,early_stopping],\n",
    "        logger=CSVLogger(save_dir=f\"logs_task/v2_{crossval_idx}/\"),\n",
    "        precision=32\n",
    "    )\n",
    "\n",
    "    trainer_task.fit(model_cnn)\n",
    "\n",
    "    torch.save(model_cnn,f\"./models/v2_{crossval_idx}/model_0.pt\")"
   ]
  },
  {
   "cell_type": "code",
   "execution_count": 10,
   "metadata": {},
   "outputs": [
    {
     "name": "stderr",
     "output_type": "stream",
     "text": [
      "LOCAL_RANK: 0 - CUDA_VISIBLE_DEVICES: [0]\n"
     ]
    },
    {
     "name": "stdout",
     "output_type": "stream",
     "text": [
      "5\n",
      "12\n"
     ]
    },
    {
     "data": {
      "application/vnd.jupyter.widget-view+json": {
       "model_id": "fa158c6396c148fc854dc7a159319f01",
       "version_major": 2,
       "version_minor": 0
      },
      "text/plain": [
       "Testing: 0it [00:00, ?it/s]"
      ]
     },
     "metadata": {},
     "output_type": "display_data"
    },
    {
     "data": {
      "text/html": [
       "<pre style=\"white-space:pre;overflow-x:auto;line-height:normal;font-family:Menlo,'DejaVu Sans Mono',consolas,'Courier New',monospace\">┏━━━━━━━━━━━━━━━━━━━━━━━━━━━┳━━━━━━━━━━━━━━━━━━━━━━━━━━━┓\n",
       "┃<span style=\"font-weight: bold\">   Runningstage.testing    </span>┃<span style=\"font-weight: bold\">                           </span>┃\n",
       "┃<span style=\"font-weight: bold\">          metric           </span>┃<span style=\"font-weight: bold\">       DataLoader 0        </span>┃\n",
       "┡━━━━━━━━━━━━━━━━━━━━━━━━━━━╇━━━━━━━━━━━━━━━━━━━━━━━━━━━┩\n",
       "│<span style=\"color: #008080; text-decoration-color: #008080\">           epoch           </span>│<span style=\"color: #800080; text-decoration-color: #800080\">           15.0            </span>│\n",
       "│<span style=\"color: #008080; text-decoration-color: #008080\">         test_acc          </span>│<span style=\"color: #800080; text-decoration-color: #800080\">    0.8480377197265625     </span>│\n",
       "│<span style=\"color: #008080; text-decoration-color: #008080\">         test_loss         </span>│<span style=\"color: #800080; text-decoration-color: #800080\">     0.64957594871521      </span>│\n",
       "└───────────────────────────┴───────────────────────────┘\n",
       "</pre>\n"
      ],
      "text/plain": [
       "┏━━━━━━━━━━━━━━━━━━━━━━━━━━━┳━━━━━━━━━━━━━━━━━━━━━━━━━━━┓\n",
       "┃\u001b[1m \u001b[0m\u001b[1m  Runningstage.testing   \u001b[0m\u001b[1m \u001b[0m┃\u001b[1m                           \u001b[0m┃\n",
       "┃\u001b[1m \u001b[0m\u001b[1m         metric          \u001b[0m\u001b[1m \u001b[0m┃\u001b[1m \u001b[0m\u001b[1m      DataLoader 0       \u001b[0m\u001b[1m \u001b[0m┃\n",
       "┡━━━━━━━━━━━━━━━━━━━━━━━━━━━╇━━━━━━━━━━━━━━━━━━━━━━━━━━━┩\n",
       "│\u001b[36m \u001b[0m\u001b[36m          epoch          \u001b[0m\u001b[36m \u001b[0m│\u001b[35m \u001b[0m\u001b[35m          15.0           \u001b[0m\u001b[35m \u001b[0m│\n",
       "│\u001b[36m \u001b[0m\u001b[36m        test_acc         \u001b[0m\u001b[36m \u001b[0m│\u001b[35m \u001b[0m\u001b[35m   0.8480377197265625    \u001b[0m\u001b[35m \u001b[0m│\n",
       "│\u001b[36m \u001b[0m\u001b[36m        test_loss        \u001b[0m\u001b[36m \u001b[0m│\u001b[35m \u001b[0m\u001b[35m    0.64957594871521     \u001b[0m\u001b[35m \u001b[0m│\n",
       "└───────────────────────────┴───────────────────────────┘\n"
      ]
     },
     "metadata": {},
     "output_type": "display_data"
    },
    {
     "data": {
      "text/plain": [
       "[{'test_loss': 0.64957594871521,\n",
       "  'test_acc': 0.8480377197265625,\n",
       "  'epoch': 15.0}]"
      ]
     },
     "execution_count": 10,
     "metadata": {},
     "output_type": "execute_result"
    }
   ],
   "source": [
    "# model_cnn = Simple_CNN.load_from_checkpoint(\"./checkpoints_section/v2_1/epoch=7-step=310056.ckpt\")\n",
    "# [{'test_loss': 0.6088061332702637,\n",
    "#   'test_acc': 0.8497371673583984,\n",
    "#   'epoch': 15.0}]\n",
    "\n",
    "\n",
    "# model_cnn = Simple_CNN.load_from_checkpoint(\"./checkpoints_section/v2_2/epoch=13-step=545832.ckpt\")\n",
    "# [{'test_loss': 0.6471614241600037,\n",
    "#   'test_acc': 0.8639932870864868,\n",
    "#   'epoch': 15.0}]\n",
    "\n",
    "# model_cnn = Simple_CNN.load_from_checkpoint(\"./checkpoints_section/v2_3/epoch=6-step=262962.ckpt\")\n",
    "# [{'test_loss': 0.6130478382110596,\n",
    "#   'test_acc': 0.863520085811615,\n",
    "#   'epoch': 15.0}]\n",
    "\n",
    "# model_cnn = Simple_CNN.load_from_checkpoint(\"./checkpoints_section/v2_4/epoch=14-step=600030.ckpt\")\n",
    "# [{'test_loss': 0.64957594871521,\n",
    "#   'test_acc': 0.8480377197265625,\n",
    "#   'epoch': 15.0}]\n",
    "\n",
    "model_cnn.eval()\n",
    "trainer_task.test(model_cnn,test_loader)"
   ]
  },
  {
   "cell_type": "code",
   "execution_count": 6,
   "metadata": {},
   "outputs": [
    {
     "name": "stdout",
     "output_type": "stream",
     "text": [
      "14\n"
     ]
    },
    {
     "data": {
      "image/png": "[encoded data removed]",
      "text/plain": [
       "<Figure size 1000x500 with 2 Axes>"
      ]
     },
     "metadata": {},
     "output_type": "display_data"
    }
   ],
   "source": [
    "METRICS_PATH = \"./logs_task/v2_4/lightning_logs/version_1\"\n",
    "metrics_task = pd.read_csv(METRICS_PATH + \"/metrics.csv\")\n",
    "metrics_task.set_index(\"epoch\", inplace=True)\n",
    "metrics_task = metrics_task.groupby(level=0).sum().drop(\"step\", axis=1)\n",
    "\n",
    "plt.rcParams[\"figure.figsize\"] = (10, 5)\n",
    "\n",
    "plt.subplot(1,2,1)\n",
    "epochs = len(metrics_task)-1\n",
    "print(epochs)\n",
    "plt.plot(metrics_task[\"train_loss\"][0:epochs-1])\n",
    "plt.plot(metrics_task[\"val_loss\"][0:epochs-1])\n",
    "\n",
    "plt.xlabel('Epoch')\n",
    "plt.ylabel('Loss')\n",
    "plt.title(\"Train and Validation Loss\")\n",
    "plt.legend([\"Train\", \"Validation\"]);\n",
    "\n",
    "plt.subplot(1,2,2)\n",
    "\n",
    "plt.plot(metrics_task[\"train_acc\"][0:epochs-1])\n",
    "plt.plot(metrics_task[\"val_acc\"][0:epochs-1])\n",
    "plt.xlabel('Epoch')\n",
    "plt.ylabel('Accuracy')\n",
    "plt.title(\"Train and Validation Accuracy\")\n",
    "plt.legend([\"Train\", \"Validation\"]);\n",
    "\n",
    "plt.tight_layout();"
   ]
  },
  {
   "cell_type": "code",
   "execution_count": 3,
   "metadata": {},
   "outputs": [],
   "source": [
    "#GradCAM\n",
    "import warnings\n",
    "warnings.filterwarnings('ignore')\n",
    "from torchvision import models\n",
    "import numpy as np\n",
    "import cv2\n",
    "import requests\n",
    "from pytorch_grad_cam import GradCAM\n",
    "from pytorch_grad_cam.utils.model_targets import ClassifierOutputTarget\n",
    "from pytorch_grad_cam.utils.image import show_cam_on_image, \\\n",
    "    deprocess_image, \\\n",
    "    preprocess_image\n",
    "from PIL import Image"
   ]
  },
  {
   "cell_type": "code",
   "execution_count": 26,
   "metadata": {},
   "outputs": [],
   "source": [
    "def filenames(self, indices=[], basename=False):\n",
    "        if indices: \n",
    "            # grab specific indices\n",
    "            if basename:\n",
    "                return [os.path.basename(self.imgs[i][0]) for i in indices]\n",
    "            else:\n",
    "                return [self.imgs[i][0] for i in indices]\n",
    "        else:\n",
    "            if basename:\n",
    "                return [os.path.basename(x[0]) for x in self.imgs]\n",
    "            else:\n",
    "                return [x[0] for x in self.imgs]\n",
    "            \n",
    "torchvision.datasets.ImageFolder.filenames = filenames      \n",
    "\n",
    "\n",
    "def saliencylowmem(testset,test_dfs, model ,plot=False,save_plot=False, force_index = None, track_stats=False, track_stats2=False):\n",
    "    #Keep memory usage low by get each prediction individually and perform stats at runtime\n",
    "    # Square Stats\n",
    "    # 0 - Bench (X) 0/1\n",
    "    # 1 - Pot 0/1\n",
    "    # 2 - Onion Source 0/1\n",
    "    # 3 - Dish Source 0/1\n",
    "    # 4 - Serving 0/1\n",
    "    # 5 - Player 1\n",
    "    # 6 - Player 2\n",
    "    # 7 - None/Empty space\n",
    "\n",
    "    square_stats = None\n",
    "    square_stats2 = []\n",
    "    if track_stats != False:\n",
    "        square_stats = np.zeros([track_stats,8])\n",
    "\n",
    "    for idx in range(len(testset)):\n",
    "        if force_index is not None: #Allows a specified index for analysis/debugging\n",
    "            idx = force_index\n",
    "        item = testset.__getitem__(idx)\n",
    "\n",
    "        # Retrieve the input image, true label\n",
    "        image_original = item[0]\n",
    "        label = item[1]\n",
    "        # print(testset.filenames([idx]))\n",
    "        global_index = None\n",
    "        try:\n",
    "            global_index = testset.filenames([idx])[0].split(\"\\\\\")[1].split(\".\")[0]\n",
    "        except IndexError:\n",
    "            print(idx)\n",
    "            continue\n",
    "        # print(global_index)\n",
    "\n",
    "        # Add a batch dimension to the input image (via .unsqueeze()) and set requires_grad to True for saliency analysis\n",
    "        image = image_original.unsqueeze(0).clone().to(device)\n",
    "        # print(image.shape)\n",
    "        image.requires_grad = True\n",
    "\n",
    "        # Compute the scores and gradients for the input image\n",
    "        # To compute the scores, do a forward pass of the image and then take the argmax\n",
    "        # Use this index to extract the score_max value from \"scores\"\n",
    "        # Then perform a backward step so that it backpropagates the gradient\n",
    "        model.eval()\n",
    "        scores = model.forward(image)\n",
    "        score_max_index = torch.argmax(scores)\n",
    "\n",
    "        pred = score_max_index\n",
    "\n",
    "        score_max = scores[0, score_max_index]\n",
    "        score_max.backward() # Do the backward step here for the gradient calculation\n",
    "\n",
    "        # Calculate the saliency map by finding the maximum absolute gradient values across channels\n",
    "        # You can use .abs() and torch.max()\n",
    "        grad = image.grad.to(\"cpu\")\n",
    "        grad_abs = torch.squeeze(grad.abs())\n",
    "        grad_max = torch.max(grad_abs,dim=0).values\n",
    "\n",
    "        #Get state from pandas files\n",
    "        #Ensure corrected ids test set is used\n",
    "        row = test_dfs.iloc[int(global_index)]\n",
    "        map_layout = row['layout']\n",
    "        map_layout = map_layout.replace(\"\\'\",\"\\\"\").replace(\"1\",\" \").replace(\"2\",\" \")\n",
    "        map_layout = json.loads(map_layout)\n",
    "\n",
    "        map_shape = (len(map_layout),len(map_layout[0]))\n",
    "        # print(map_shape)\n",
    "        grad_abs_sml = transforms.functional.resize(grad_abs, map_shape, interpolation = torchvision.transforms.InterpolationMode.BICUBIC, antialias= True)\n",
    "        grad_max_sml = torch.max(grad_abs_sml,dim=0).values\n",
    "\n",
    "\n",
    "        #Unnormalise Image for display\n",
    "        clean_img = []\n",
    "        for ch in range(3):\n",
    "            ch_layer = image_original[ch]\n",
    "            corrected_layer = ch_layer*stds[ch]+means[ch]\n",
    "            clean_img.append(corrected_layer.abs())\n",
    "        clean_img = torch.tensor(np.array(clean_img)).permute(1,2,0)\n",
    "        clean_img = np.array(clean_img)\n",
    "\n",
    "\n",
    "\n",
    "        #Downscaling and then upscaling gradient image for smooth interpretation\n",
    "        scale_factor = 3\n",
    "        grad_abs_med = transforms.functional.resize(grad_abs, (map_shape[0]*scale_factor, map_shape[1]*scale_factor), interpolation = torchvision.transforms.InterpolationMode.BICUBIC, antialias= True)\n",
    "        grad_max_med = torch.max(grad_abs_med,dim=0).values\n",
    "        up_down_grad_max = transforms.functional.resize(grad_max_med.unsqueeze(0), (grad_max.shape[0],grad_max.shape[1]), interpolation = torchvision.transforms.InterpolationMode.BICUBIC, antialias= True).squeeze().abs()\n",
    "        up_down_max = torch.max(up_down_grad_max)\n",
    "        up_down_grad_max = (up_down_grad_max/(up_down_max.item()))\n",
    "        grad_max_image = show_cam_on_image(clean_img, up_down_grad_max, use_rgb=True)\n",
    "\n",
    "        # GradCAM results (Does not look right for CNN2 (very large patches of saliency without detail))\n",
    "        # model = model_cnn\n",
    "        # model.eval()\n",
    "        # targets = [ClassifierOutputTarget(label)] #0-5\n",
    "        # target_layers = [model.conv_blk2.conv2]\n",
    "        # with GradCAM(model=model, target_layers=target_layers) as cam:\n",
    "        #     grayscale_cams = cam(input_tensor=image, targets=targets)\n",
    "        #     cam_image = show_cam_on_image(clean_img, grayscale_cams[0, :], use_rgb=True)\n",
    "        # cam = np.uint8(255*grayscale_cams[0, :])\n",
    "        # cam = cv2.merge([cam, cam, cam])\n",
    "\n",
    "        #For top k salient tile(s) tracking stats\n",
    "        if track_stats != False:\n",
    "            track_topk = torch.topk(grad_max_sml.reshape(-1),track_stats)\n",
    "            track_indices = track_topk.indices\n",
    "            # print(track_topk)\n",
    "            for track_idx in range(track_stats):\n",
    "                max_idx = track_indices[track_idx]\n",
    "\n",
    "                # max_pos = (((grad_max_sml==torch.max(grad_max_sml)).nonzero()).squeeze()) #singular max value (replaced with allowance for top k max values)\n",
    "                max_pos = (max_idx//map_shape[1],max_idx%map_shape[1])\n",
    "                # print(max_pos , (max_idx//map_shape[1],max_idx%map_shape[1]) , max_idx)\n",
    "                max_item = map_layout[max_pos[0]][max_pos[1]]\n",
    "\n",
    "                #Sort\n",
    "                item_list = ['X','P','O','D','S']\n",
    "                found = False\n",
    "                for item_idx in range(len(item_list)):\n",
    "                    target_item = item_list[item_idx]\n",
    "                    if max_item==target_item:\n",
    "                        square_stats[track_idx,item_idx]+=1\n",
    "                        found = True\n",
    "                        break\n",
    "                if found == False:\n",
    "                    state = json.loads(row['state'])\n",
    "                    player_idx = row['player_idx']\n",
    "                    p_idx = 5 #location for square stats counting\n",
    "\n",
    "                    for player in [state['players'][player_idx], state['players'][(player_idx+1)%2]]:\n",
    "                        #Position\n",
    "                        player_pos = torch.tensor([player['position'][1],player['position'][0]]) #Corrected for rows then cols\n",
    "                        # print(player_pos,max_pos)\n",
    "                        if player_pos[0] == max_pos[0] and player_pos[1] == max_pos[1]:\n",
    "                            square_stats[track_idx,p_idx]+=1\n",
    "                            found=True\n",
    "                            break\n",
    "                        else:\n",
    "                            p_idx+=1\n",
    "                if found == False:\n",
    "                    square_stats[track_idx,7]+=1\n",
    "\n",
    "        #For individual ranking stats\n",
    "        if track_stats2 != False:\n",
    "            track_topk = torch.topk(grad_max_sml.reshape(-1),map_shape[0]*map_shape[1])\n",
    "            track_indices = track_topk.indices\n",
    "\n",
    "            stat2 = []\n",
    "            for max_idx in track_indices:\n",
    "                max_pos = (max_idx//map_shape[1],max_idx%map_shape[1])\n",
    "                max_item = map_layout[max_pos[0]][max_pos[1]]\n",
    "\n",
    "                if max_item == \" \":\n",
    "                    found = False\n",
    "                    p_idx= 1\n",
    "                    state = json.loads(row['state'])\n",
    "                    player_idx = row['player_idx']\n",
    "\n",
    "                    for player in [state['players'][player_idx], state['players'][(player_idx+1)%2]]:\n",
    "                        #Position\n",
    "                        player_pos = torch.tensor([player['position'][1],player['position'][0]]) #Corrected for rows then cols\n",
    "                        # print(player_pos,max_pos)\n",
    "                        if player_pos[0] == max_pos[0] and player_pos[1] == max_pos[1]:\n",
    "                            found=True\n",
    "                            break\n",
    "                        else:\n",
    "                            p_idx+=1\n",
    "                    if found == True:\n",
    "                        max_item = str(p_idx)\n",
    "                    else:\n",
    "                        max_item = \"E\"\n",
    "                \n",
    "                if max_item not in stat2:\n",
    "                    stat2.append(max_item)\n",
    "                \n",
    "                if len(stat2)==8:\n",
    "                    break\n",
    "            square_stats2.append(stat2)\n",
    "            \n",
    "\n",
    "        # # Create a subplot to display the original image and saliency map side by side\n",
    "        if plot or save_plot:\n",
    "            # images = np.hstack((cam , cam_image))\n",
    "            # grad_cam = Image.fromarray(images)\n",
    "            actions_list = [\"INT\",\"Right\",\"Left\",\"Down\",\"Up\",]\n",
    "            plt.close()\n",
    "            plt.figure()\n",
    "\n",
    "            # Create a subplot to display the original image and saliency map side by side\n",
    "            plt.rcParams[\"figure.figsize\"] = (10, 9)\n",
    "            plt.subplot(2,2,1)\n",
    "            plt.imshow(grad_max)\n",
    "            plt.title(f\"Saliency (Max)\\nPred: {actions_list[pred]}, GT: {actions_list[label]}, Index: {global_index}\")\n",
    "            plt.axis('off')\n",
    "\n",
    "            #Downsampled saliency\n",
    "            plt.subplot(2,2,4)\n",
    "            plt.imshow(grad_max_sml)\n",
    "            plt.title(f\"Downsized Saliency\\nPred: {actions_list[pred]}, GT: {actions_list[label]}, Index: {global_index}\")\n",
    "            plt.axis('off')\n",
    "\n",
    "            #Downsampled then upsampled overlay\n",
    "            plt.subplot(2,2,3)\n",
    "            plt.imshow(grad_max_image)\n",
    "            plt.title(f\"Smoothened Overlay\\nPred: {actions_list[pred]}, GT: {actions_list[label]}, Index: {global_index}\")\n",
    "            plt.axis('off')\n",
    "\n",
    "            #Original Image\n",
    "            plt.subplot(2,2,2)\n",
    "            plt.title(f\"Original (Blue)\\nPred: {actions_list[pred]}, GT: {actions_list[label]}, Index: {global_index}\")\n",
    "            plt.imshow((clean_img))\n",
    "            plt.axis('off')\n",
    "\n",
    "            plt.tight_layout()\n",
    "\n",
    "            if plot:\n",
    "                plt.show()\n",
    "                print(\"Probabilities:\",torch.nn.functional.softmax(scores))\n",
    "\n",
    "            if save_plot:\n",
    "                plt.savefig(fname=f\"./results/v2_2/{global_index}.png\")\n",
    "\n",
    "        if force_index is not None:\n",
    "            return square_stats, square_stats2\n",
    "\n",
    "    return square_stats, square_stats2"
   ]
  },
  {
   "cell_type": "code",
   "execution_count": 17,
   "metadata": {},
   "outputs": [],
   "source": [
    "test_dfs = pd.read_pickle(\"./data/test_data.pickle\").reset_index()"
   ]
  },
  {
   "cell_type": "code",
   "execution_count": null,
   "metadata": {},
   "outputs": [],
   "source": [
    "model_cnn = Simple_CNN.load_from_checkpoint(\"./checkpoints_section/v2_1/epoch=7-step=310056.ckpt\")\n",
    "crossval_idx=1\n",
    "# [{'test_loss': 0.6088061332702637,\n",
    "#   'test_acc': 0.8497371673583984,\n",
    "#   'epoch': 15.0}]\n",
    "\n",
    "\n",
    "# model_cnn = Simple_CNN.load_from_checkpoint(\"./checkpoints_section/v2_2/epoch=13-step=545832.ckpt\")\n",
    "# crossval_idx=2\n",
    "# [{'test_loss': 0.6471614241600037,\n",
    "#   'test_acc': 0.8639932870864868,\n",
    "#   'epoch': 15.0}]\n",
    "\n",
    "# model_cnn = Simple_CNN.load_from_checkpoint(\"./checkpoints_section/v2_3/epoch=6-step=262962.ckpt\")\n",
    "# crossval_idx=3\n",
    "# [{'test_loss': 0.6130478382110596,\n",
    "#   'test_acc': 0.863520085811615,\n",
    "#   'epoch': 15.0}]\n",
    "\n",
    "# model_cnn = Simple_CNN.load_from_checkpoint(\"./checkpoints_section/v2_4/epoch=14-step=600030.ckpt\")\n",
    "# crossval_idx=4\n",
    "# [{'test_loss': 0.64957594871521,\n",
    "#   'test_acc': 0.8480377197265625,\n",
    "#   'epoch': 15.0}]\n",
    "\n",
    "test_dfs = pd.read_pickle(\"./data/test_data.pickle\").reset_index()\n",
    "square_stats, square_stats2 = saliencylowmem(test_set,test_dfs, model=model_cnn,plot=False,save_plot=False,track_stats=5, track_stats2=True)\n",
    "\n",
    "ss1_arr = np.array(square_stats )\n",
    "ss2_arr = np.array(square_stats2)\n",
    "np.save(f\"./results/v2_{crossval_idx}/square_stats.npy\",ss1_arr)\n",
    "np.save(f\"./results/v2_{crossval_idx}/ranks.npy\",ss2_arr)\n",
    "# print(square_stats)"
   ]
  },
  {
   "cell_type": "code",
   "execution_count": 27,
   "metadata": {},
   "outputs": [],
   "source": [
    "for crossval_idx in [1,2,3,4]:\n",
    "    # train_ds = torchvision.datasets.ImageFolder(f\"./data/imgs/train{crossval_idx}/\",transform=data_transforms_none)\n",
    "    # means, stds = norm_stats(train_ds)\n",
    "    # print(\"Mean\",means, \" Std\",stds)\n",
    "    path=None\n",
    "    if crossval_idx == 1:\n",
    "        path = \"./checkpoints_section/v2_1/epoch=7-step=310056.ckpt\"\n",
    "    elif crossval_idx == 2:\n",
    "        path = \"./checkpoints_section/v2_2/epoch=13-step=545832.ckpt\"\n",
    "    elif crossval_idx == 3:\n",
    "        path = \"./checkpoints_section/v2_3/epoch=6-step=262962.ckpt\"\n",
    "    elif crossval_idx == 4:\n",
    "        path = \"./checkpoints_section/v2_4/epoch=14-step=600030.ckpt\"\n",
    "    else:\n",
    "        print(\"Ignored CrossVal Index\", crossval_idx)\n",
    "        continue\n",
    "\n",
    "    means = [0.66, 0.53, 0.27]\n",
    "    stds = [0.13, 0.17, 0.31]\n",
    "\n",
    "    data_transforms = transforms.Compose([\n",
    "        # Convert the image to a PyTorch tensor\n",
    "        transforms.ToTensor(),\n",
    "        transforms.Normalize(means,stds)\n",
    "    ])\n",
    "\n",
    "    # train_set = torchvision.datasets.ImageFolder(f\"./data/imgs/train{crossval_idx}/\",transform=data_transforms)\n",
    "    val_set = torchvision.datasets.ImageFolder(f\"./data/imgs/val{crossval_idx}/\",transform=data_transforms)\n",
    "    test_set = torchvision.datasets.ImageFolder(f\"./data/imgs/test/\",transform=data_transforms)\n",
    "    \n",
    "    #Let's create a simple CNN for image classification\n",
    "    class Simple_CNN(pl.LightningModule):\n",
    "        def __init__(self, num_classes=6, learning_rate=1e-3):\n",
    "            super().__init__()\n",
    "            \n",
    "            self.learning_rate = learning_rate\n",
    "            self.num_classes = num_classes\n",
    "            self.criterion = nn.CrossEntropyLoss()\n",
    "            \n",
    "            # Initialise at least 2 convolutional blocks with\n",
    "            self.conv_blk1 = ConvBlock(3, 8,stride = 2)\n",
    "            self.conv_blk2 = ConvBlock(8,16,stride = 2)\n",
    "            \n",
    "            # You can use other layers too, feel free to define them here\n",
    "            self.pool = nn.MaxPool2d(2)\n",
    "            self.gap = nn.AdaptiveAvgPool2d(output_size=20)\n",
    "            self.dropout = nn.Dropout(0.1)\n",
    "            \n",
    "            # You will need to define your fully connected layer:\n",
    "            self.fc1 = nn.Linear(16*20*20,100)\n",
    "            self.fc2 = nn.Linear(100,64)\n",
    "            self.fc3 = nn.Linear(64, num_classes)\n",
    "\n",
    "            self.leaky_relu = nn.LeakyReLU()\n",
    "            \n",
    "            # Define your accuracies        \n",
    "            self.train_accuracy = Accuracy(task=\"multiclass\",num_classes=num_classes)\n",
    "            self.val_accuracy = Accuracy(task=\"multiclass\",num_classes=num_classes)\n",
    "            self.test_accuracy = Accuracy(task=\"multiclass\",num_classes=num_classes)\n",
    "            \n",
    "            \n",
    "        def forward(self, x):\n",
    "            x = self.dropout(x)\n",
    "            x = self.conv_blk1(x)\n",
    "            x = self.pool(x)\n",
    "            x = self.dropout(x)\n",
    "            x = self.conv_blk2(x)\n",
    "            x = self.gap(x)\n",
    "\n",
    "            x = torch.flatten(x,start_dim=1)\n",
    "            x = self.dropout(x)\n",
    "            x = self.leaky_relu(self.fc1(x))\n",
    "            # x = self.dropout(x)\n",
    "            x = self.leaky_relu(self.fc2(x))\n",
    "            x = self.dropout(x)\n",
    "            x = self.leaky_relu(self.fc3(x))\n",
    "\n",
    "            return x\n",
    "        \n",
    "        def training_step(self, batch, batch_idx):\n",
    "            x, y= batch\n",
    "            logits = self(x)\n",
    "            loss = self.criterion(logits, y)\n",
    "\n",
    "            # Compute accuracy\n",
    "            preds = logits.argmax(1)\n",
    "            self.train_accuracy.update(preds, y)\n",
    "            acc = self.train_accuracy.compute()\n",
    "\n",
    "            # Record accuracy and loss\n",
    "            # Log anything you think necessary\n",
    "            train_dict = {\"train_loss\": loss,\n",
    "                        \"train_acc\": acc,\n",
    "                        \"epoch\": self.current_epoch}\n",
    "            \n",
    "            self.log_dict(train_dict, prog_bar=True, on_step=False, on_epoch=True)\n",
    "\n",
    "            return loss\n",
    "\n",
    "        def validation_step(self, batch, batch_idx):\n",
    "            x, y= batch\n",
    "            logits = self(x)\n",
    "            loss = self.criterion(logits, y)\n",
    "\n",
    "            # Compute accuracy\n",
    "            preds = logits.argmax(1)\n",
    "            self.val_accuracy.update(preds, y)\n",
    "            acc = self.val_accuracy.compute()\n",
    "\n",
    "            # Record accuracy and loss\n",
    "            # Log anything you think necessary\n",
    "            val_dict = {\"val_loss\": loss,\n",
    "                        \"val_acc\": acc,\n",
    "                        \"epoch\": self.current_epoch}\n",
    "            \n",
    "            self.log_dict(val_dict, prog_bar=True, on_step=False, on_epoch=True)\n",
    "        \n",
    "            \n",
    "\n",
    "        def test_step(self, batch, batch_idx):\n",
    "            x, y= batch\n",
    "            logits = self(x)\n",
    "            loss = self.criterion(logits, y)\n",
    "\n",
    "            # Compute accuracy\n",
    "            preds = logits.argmax(1)\n",
    "            self.test_accuracy.update(preds, y)\n",
    "            acc = self.test_accuracy.compute()\n",
    "\n",
    "            # Record accuracy and loss\n",
    "            # Log anything you think necessary\n",
    "            test_dict = {\"test_loss\": loss,\n",
    "                        \"test_acc\": acc,\n",
    "                        \"epoch\": self.current_epoch}\n",
    "            \n",
    "            self.log_dict(test_dict, prog_bar=True, on_step=False, on_epoch=True)\n",
    "\n",
    "            return preds, logits, x, y\n",
    "        \n",
    "        def predict_step(self, batch, batch_idx):\n",
    "            x, y= batch\n",
    "            logits = self(x)\n",
    "            loss = self.criterion(logits, y)\n",
    "\n",
    "            # Compute accuracy\n",
    "            preds = logits.argmax(1)\n",
    "            self.test_accuracy.update(preds, y)\n",
    "\n",
    "            return preds, logits, x, y\n",
    "\n",
    "            \n",
    "\n",
    "        def configure_optimizers(self):\n",
    "            optimizer = torch.optim.Adam(self.parameters(),self.learning_rate)\n",
    "            return optimizer\n",
    "\n",
    "        ##########\n",
    "        # DATA RELATED HOOKS\n",
    "        ##########\n",
    "\n",
    "        def train_dataloader(self):\n",
    "            return train_loader\n",
    "        def val_dataloader(self):\n",
    "            return valid_loader\n",
    "        def test_dataloader(self):\n",
    "            return test_loader\n",
    "    \n",
    "    model_cnn = Simple_CNN.load_from_checkpoint(path)\n",
    "\n",
    "    test_dfs = pd.read_pickle(\"./data/test_data.pickle\").reset_index()\n",
    "    val_dfs = pd.read_pickle(f\"./data/val{crossval_idx}.pickle\").reset_index()\n",
    "\n",
    "\n",
    "    square_stats, square_stats2 = saliencylowmem(val_set,val_dfs, model=model_cnn,plot=False,save_plot=False,track_stats=5, track_stats2=True)\n",
    "    # square_stats, square_stats2 = saliencylowmem(test_set,test_dfs, model=model_cnn,plot=False,save_plot=False,track_stats=5, track_stats2=True)\n",
    "\n",
    "    ss1_arr = np.array(square_stats )\n",
    "    ss2_arr = np.array(square_stats2)\n",
    "    # np.save(f\"./results/v2_{crossval_idx}/square_stats.npy\",ss1_arr)\n",
    "    # np.save(f\"./results/v2_{crossval_idx}/ranks.npy\",ss2_arr)\n",
    "\n",
    "    np.save(f\"./results/v2_{crossval_idx}/square_stats_val.npy\",ss1_arr)\n",
    "    np.save(f\"./results/v2_{crossval_idx}/ranks_val.npy\",ss2_arr)\n",
    "\n",
    "\n"
   ]
  }
 ],
 "metadata": {
  "kernelspec": {
   "display_name": "ece4179",
   "language": "python",
   "name": "python3"
  },
  "language_info": {
   "codemirror_mode": {
    "name": "ipython",
    "version": 3
   },
   "file_extension": ".py",
   "mimetype": "text/x-python",
   "name": "python",
   "nbconvert_exporter": "python",
   "pygments_lexer": "ipython3",
   "version": "3.11.7"
  }
 },
 "nbformat": 4,
 "nbformat_minor": 2
}
